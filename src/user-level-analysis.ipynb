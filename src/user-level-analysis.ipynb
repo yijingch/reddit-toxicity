{
 "cells": [
  {
   "cell_type": "markdown",
   "metadata": {},
   "source": [
    "# User-level analysis of political subreddits"
   ]
  },
  {
   "cell_type": "code",
   "execution_count": 1,
   "metadata": {},
   "outputs": [],
   "source": [
    "import pandas as pd\n",
    "import numpy as np\n",
    "import networkx as nx\n",
    "import statsmodels.api as sm\n",
    "import sqlite3\n",
    "import os\n",
    "import re\n",
    "import seaborn as sns\n",
    "import matplotlib.pyplot as plt\n",
    "from networkx.algorithms import bipartite\n",
    "from itertools import combinations\n",
    "\n",
    "import warnings\n",
    "warnings.filterwarnings('ignore')\n",
    "\n",
    "from utils import ROOTPATH, build_df_year, generate_index\n",
    "from backbone import disparity_filter"
   ]
  },
  {
   "cell_type": "markdown",
   "metadata": {},
   "source": [
    "## load data"
   ]
  },
  {
   "cell_type": "code",
   "execution_count": 2,
   "metadata": {},
   "outputs": [
    {
     "name": "stdout",
     "output_type": "stream",
     "text": [
      "building base dataframe for year 2012...\n",
      "- fetching submissions for year 2012\n",
      "- fetching comments for year 2012\n",
      "- number of entries: 5994991\n"
     ]
    }
   ],
   "source": [
    "year = 2012\n",
    "df = build_df_year(year, with_text=True, with_time=False, filter_null=True) # start with yearly analysis\n",
    "generate_index()\n",
    "\n",
    "from utils import USERS, SUBREDDITS, user2index, index2user, subr2index, index2subr"
   ]
  },
  {
   "cell_type": "code",
   "execution_count": 4,
   "metadata": {},
   "outputs": [],
   "source": [
    "# subsetting\n",
    "active_user_ls = pd.read_csv(ROOTPATH + \"indx/ACTIVEUSERS_ALLYEARS5_100.csv\").author.tolist()  # smaller one\n",
    "# active_user_ls = pd.read_csv(ROOTPATH + \"indx/ACTIVEUSERS_ALLYEARS_2_2_50.csv\").author.tolist()\n",
    "df = df[df[\"author\"].isin(active_user_ls)]"
   ]
  },
  {
   "cell_type": "markdown",
   "metadata": {},
   "source": [
    "## build network"
   ]
  },
  {
   "cell_type": "code",
   "execution_count": 5,
   "metadata": {},
   "outputs": [],
   "source": [
    "def build_user_graph(df):\n",
    "    subm_aggr = df.groupby(\"submission_id\").agg({\"author\": lambda x: set(list(x))}).reset_index()\n",
    "    subm_aggr[\"n_user\"] = subm_aggr[\"author\"].map(lambda x: len(x))\n",
    "    subm_aggr = subm_aggr[subm_aggr[\"n_user\"]>1].reset_index().drop(columns=[\"index\"])  \n",
    "    \n",
    "    user_edges = {}\n",
    "    print(\"recording edges...\")\n",
    "    # directly writing to nx.Graph() kills the kernel, ugh\n",
    "    for i,row in subm_aggr.iterrows():\n",
    "        users = list(row[\"author\"])\n",
    "        if i%10000==0: print(\" - progress:\", i/len(subm_aggr))\n",
    "        userpairs = [*combinations(users,2)]\n",
    "        for i,up in enumerate(userpairs):\n",
    "            u1 = min(user2index[up[0]],user2index[up[1]])\n",
    "            u2 = max(user2index[up[0]],user2index[up[1]])\n",
    "            try:\n",
    "                user_edges[(u1, u2)] += 1\n",
    "            except:\n",
    "                user_edges[(u1, u2)] = 1\n",
    "                \n",
    "    print(\"building graph...\")       \n",
    "    userg = nx.Graph()\n",
    "    for p,w in user_edges.items():\n",
    "        userg.add_edge(p[0], p[1], weight=w)\n",
    "    \n",
    "    print(\"graph descriptives:\")\n",
    "    print(\" - # of nodes:\", len(userg.nodes()))\n",
    "    print(\" - # of edges:\", len(userg.edges()))\n",
    "    return user_edges, userg"
   ]
  },
  {
   "cell_type": "code",
   "execution_count": null,
   "metadata": {
    "scrolled": true
   },
   "outputs": [],
   "source": [
    "user_edges, userg = build_user_graph(df)  # should take a while"
   ]
  },
  {
   "cell_type": "code",
   "execution_count": 9,
   "metadata": {},
   "outputs": [],
   "source": [
    "# nx.write_gpickle(userg, ROOTPATH + f\"output/user_graph_{year}.gpickle\")"
   ]
  },
  {
   "cell_type": "markdown",
   "metadata": {},
   "source": [
    "## degree and strength distribution"
   ]
  },
  {
   "cell_type": "code",
   "execution_count": 11,
   "metadata": {},
   "outputs": [],
   "source": [
    "degs = dict(userg.degree()).values"
   ]
  },
  {
   "cell_type": "code",
   "execution_count": null,
   "metadata": {},
   "outputs": [],
   "source": [
    "strs = dict(userg.degree(weight=\"weight\")).values"
   ]
  },
  {
   "cell_type": "code",
   "execution_count": null,
   "metadata": {},
   "outputs": [],
   "source": [
    "deg_seq = get_freq_seq(degs)\n",
    "str_seq = get_freq_seq(strths)"
   ]
  },
  {
   "cell_type": "code",
   "execution_count": null,
   "metadata": {},
   "outputs": [],
   "source": [
    "plt.figure(figsize=(8,6), dpi=300) \n",
    "plt.loglog(range(len(deg_seq)), deg_seq, color=\"#ff4500\", marker=\"^\", label=\"degree\")\n",
    "plt.loglog(range(len(str_seq)), str_seq, \"--\", color=\"#7A9299\", label=\"strength\")\n",
    "plt.legend(fontsize=14)\n",
    "plt.xlabel(\"degree\", fontsize=14)\n",
    "plt.ylabel(\"frequency\", fontsize=14)\n",
    "plt.savefig(ROOTPATH + \"output/conf_degree_distribution.png\", dpi=300)"
   ]
  },
  {
   "cell_type": "code",
   "execution_count": null,
   "metadata": {},
   "outputs": [],
   "source": []
  },
  {
   "cell_type": "code",
   "execution_count": null,
   "metadata": {},
   "outputs": [],
   "source": []
  },
  {
   "cell_type": "code",
   "execution_count": null,
   "metadata": {},
   "outputs": [],
   "source": []
  },
  {
   "cell_type": "code",
   "execution_count": null,
   "metadata": {},
   "outputs": [],
   "source": []
  },
  {
   "cell_type": "code",
   "execution_count": null,
   "metadata": {},
   "outputs": [],
   "source": [
    "# import pickle\n",
    "# with open(ROOTPATH + f\"output/user_edges_{year}.pkl\", \"wb\") as f:\n",
    "#     pickle.dump(user_edges, f, protocol=pickle.HIGHEST_PROTOCOL)\n",
    "    \n",
    "# read edges: \n",
    "# with open(ROOTPATH + f\"output/user_edges_{year}.pkl\", \"rb\") as f:\n",
    "#     user_edges = pickle.load(f)"
   ]
  },
  {
   "cell_type": "markdown",
   "metadata": {},
   "source": []
  }
 ],
 "metadata": {
  "kernelspec": {
   "display_name": "Python 3",
   "language": "python",
   "name": "python3"
  },
  "language_info": {
   "codemirror_mode": {
    "name": "ipython",
    "version": 3
   },
   "file_extension": ".py",
   "mimetype": "text/x-python",
   "name": "python",
   "nbconvert_exporter": "python",
   "pygments_lexer": "ipython3",
   "version": "3.7.7"
  },
  "toc": {
   "base_numbering": 1,
   "nav_menu": {},
   "number_sections": true,
   "sideBar": true,
   "skip_h1_title": false,
   "title_cell": "Table of Contents",
   "title_sidebar": "Contents",
   "toc_cell": false,
   "toc_position": {},
   "toc_section_display": true,
   "toc_window_display": true
  }
 },
 "nbformat": 4,
 "nbformat_minor": 4
}
