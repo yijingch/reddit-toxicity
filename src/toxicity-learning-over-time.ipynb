{
 "cells": [
  {
   "cell_type": "code",
   "execution_count": 1,
   "metadata": {},
   "outputs": [],
   "source": [
    "import pandas as pd\n",
    "import numpy as np\n",
    "import networkx as nx\n",
    "import statsmodels.api as sm\n",
    "import sqlite3\n",
    "import os\n",
    "import re\n",
    "import seaborn as sns\n",
    "import matplotlib.pyplot as plt\n",
    "from networkx.algorithms import bipartite\n",
    "from itertools import combinations\n",
    "\n",
    "import warnings\n",
    "warnings.filterwarnings('ignore')\n",
    "\n",
    "from utils import ROOTPATH, build_df_year, generate_index\n",
    "from backbone import disparity_filter"
   ]
  },
  {
   "cell_type": "markdown",
   "metadata": {},
   "source": [
    "## load data"
   ]
  },
  {
   "cell_type": "code",
   "execution_count": 2,
   "metadata": {},
   "outputs": [
    {
     "name": "stdout",
     "output_type": "stream",
     "text": [
      "building base dataframe for year 2012...\n",
      "- fetching submissions for year 2012\n",
      "- fetching comments for year 2012\n",
      "building base dataframe for year 2013...\n",
      "- fetching submissions for year 2013\n",
      "- fetching comments for year 2013\n",
      "building base dataframe for year 2014...\n",
      "- fetching submissions for year 2014\n",
      "- fetching comments for year 2014\n",
      "building base dataframe for year 2015...\n",
      "- fetching submissions for year 2015\n",
      "- fetching comments for year 2015\n"
     ]
    }
   ],
   "source": [
    "dfall = pd.DataFrame()\n",
    "for y in range(2012, 2016):\n",
    "    dfyear = build_df_year(y, with_text=False, with_time=True)\n",
    "    dfall = dfall.append(dfyear)"
   ]
  },
  {
   "cell_type": "code",
   "execution_count": 7,
   "metadata": {},
   "outputs": [],
   "source": [
    "# select a subset of users\n",
    "# aggr_func = {\n",
    "#     \"subreddit\": lambda x: set(x),\n",
    "#     \"submission_id\": lambda x: list(x),\n",
    "#     \"comment_id\": lambda x: list(x)\n",
    "#             }\n",
    "# user_aggr = dfall.groupby(\"author\").agg(aggr_func)  # this should take a while\n",
    "# user_aggr = user_aggr.reset_index()\n",
    "# user_aggr[\"n_subr\"] = user_aggr[\"subreddit\"].map(lambda x: len(x))\n",
    "# user_aggr[\"n_uniq_subm\"] = user_aggr[\"submission_id\"].map(lambda x: len(set(x)))\n",
    "# user_aggr[\"n_total_post\"] = user_aggr[\"submission_id\"].map(lambda x: len(x))\n",
    "\n",
    "# user_select1 = user_aggr[(user_aggr[\"n_subr\"]>=2)&(user_aggr[\"n_total_post\"]>=10)][[\"author\"]]\n",
    "# user_select2 = user_aggr[(user_aggr[\"n_subr\"]>=2)&(user_aggr[\"n_total_post\"]>=20)][[\"author\"]]\n",
    "# user_select1.to_csv(ROOTPATH + \"indx/ACTIVEUSERS_ALLYEARS10.csv\", index=False)\n",
    "# user_select2.to_csv(ROOTPATH + \"indx/ACTIVEUSERS_ALLYEARS20.csv\", index=False)"
   ]
  },
  {
   "cell_type": "code",
   "execution_count": null,
   "metadata": {},
   "outputs": [],
   "source": [
    "# filter users\n",
    "user_select = pd.read_csv(ROOTPATH + \"indx/ACTIVEUSERS_ALLYEARS20.csv\")\n",
    "dfall = dfall[dfall[\"author\"].isin(user_select)]"
   ]
  },
  {
   "cell_type": "code",
   "execution_count": null,
   "metadata": {},
   "outputs": [],
   "source": [
    "dfall"
   ]
  },
  {
   "cell_type": "code",
   "execution_count": null,
   "metadata": {},
   "outputs": [],
   "source": []
  },
  {
   "cell_type": "code",
   "execution_count": null,
   "metadata": {},
   "outputs": [],
   "source": []
  },
  {
   "cell_type": "code",
   "execution_count": null,
   "metadata": {},
   "outputs": [],
   "source": []
  }
 ],
 "metadata": {
  "kernelspec": {
   "display_name": "Python 3",
   "language": "python",
   "name": "python3"
  },
  "language_info": {
   "codemirror_mode": {
    "name": "ipython",
    "version": 3
   },
   "file_extension": ".py",
   "mimetype": "text/x-python",
   "name": "python",
   "nbconvert_exporter": "python",
   "pygments_lexer": "ipython3",
   "version": "3.7.7"
  },
  "toc": {
   "base_numbering": 1,
   "nav_menu": {},
   "number_sections": true,
   "sideBar": true,
   "skip_h1_title": false,
   "title_cell": "Table of Contents",
   "title_sidebar": "Contents",
   "toc_cell": false,
   "toc_position": {},
   "toc_section_display": true,
   "toc_window_display": true
  }
 },
 "nbformat": 4,
 "nbformat_minor": 4
}
