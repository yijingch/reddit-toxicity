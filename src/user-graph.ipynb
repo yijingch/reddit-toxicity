{
 "cells": [
  {
   "cell_type": "markdown",
   "metadata": {},
   "source": [
    "# User-level graph"
   ]
  },
  {
   "cell_type": "code",
   "execution_count": 1,
   "metadata": {},
   "outputs": [],
   "source": [
    "import pandas as pd\n",
    "import numpy as np\n",
    "import networkx as nx\n",
    "import sqlite3\n",
    "import os\n",
    "import re\n",
    "import seaborn as sns\n",
    "import matplotlib.pyplot as plt\n",
    "from networkx.algorithms import bipartite\n",
    "from itertools import combinations\n",
    "\n",
    "import warnings\n",
    "warnings.filterwarnings('ignore')\n",
    "\n",
    "from utils import ROOTPATH, build_df_year, generate_index"
   ]
  },
  {
   "cell_type": "code",
   "execution_count": 2,
   "metadata": {},
   "outputs": [
    {
     "name": "stdout",
     "output_type": "stream",
     "text": [
      "building base dataframe for year 2012...\n",
      "- fetching submissions for year 2012\n",
      "- fetching comments for year 2012\n"
     ]
    }
   ],
   "source": [
    "df2012 = build_df_year(2012)\n",
    "generate_index()\n",
    "\n",
    "from utils import USERS, SUBREDDITS, user2index, index2user, subr2index, index2subr"
   ]
  },
  {
   "cell_type": "markdown",
   "metadata": {},
   "source": [
    "## basic descriptives\n",
    "### per-user submissions / subreddits"
   ]
  },
  {
   "cell_type": "code",
   "execution_count": 3,
   "metadata": {},
   "outputs": [],
   "source": [
    "# visualize distributions \n",
    "\n",
    "def plot_user_subr_distribution(dfyear, year):\n",
    "    user_aggr = dfyear.groupby(\"author\").agg({\"subreddit\": lambda x: set(list(x))}).reset_index()\n",
    "    user_aggr[\"n_subr\"] = user_aggr[\"subreddit\"].map(lambda x: len(x))\n",
    "    plt.hist(user_aggr[\"n_subr\"], bins=15, color=\"#FF4500\")\n",
    "    plt.xscale(\"log\")\n",
    "    plt.yscale(\"log\")\n",
    "    plt.xlabel(\"# of subreddits\", fontsize=14)\n",
    "    plt.ylabel(\"# of users\", fontsize=14)\n",
    "    plt.savefig(ROOTPATH + f\"output/fig/user_subreddit_distribution_{year}.svg\")\n",
    "    return user_aggr\n",
    "\n",
    "def plot_user_subm_distribution(dfyear, year):\n",
    "    user_aggr = dfyear.groupby(\"author\").agg({\"submission_id\": lambda x: set(list(x))}).reset_index()\n",
    "    user_aggr[\"n_subm\"] = user_aggr[\"submission_id\"].map(lambda x: len(x))\n",
    "    plt.hist(user_aggr[\"n_subm\"], bins=15, color=\"#FF4500\")\n",
    "    plt.xscale(\"log\")\n",
    "    plt.yscale(\"log\")\n",
    "    plt.xlabel(\"# of submissions\", fontsize=14)\n",
    "    plt.ylabel(\"# of users\", fontsize=14)\n",
    "    plt.savefig(ROOTPATH + f\"output/fig/user_submission_distribution_{year}.svg\")\n",
    "    return user_aggr"
   ]
  },
  {
   "cell_type": "code",
   "execution_count": 4,
   "metadata": {},
   "outputs": [
    {
     "data": {
      "image/png": "[encoded data removed]",
      "text/plain": [
       "<Figure size 432x288 with 1 Axes>"
      ]
     },
     "metadata": {
      "needs_background": "light"
     },
     "output_type": "display_data"
    }
   ],
   "source": [
    "user_aggr_subm2012 = plot_user_subm_distribution(df2012, \"2012\")"
   ]
  },
  {
   "cell_type": "code",
   "execution_count": 5,
   "metadata": {},
   "outputs": [
    {
     "data": {
      "image/png": "[encoded data removed]",
      "text/plain": [
       "<Figure size 432x288 with 1 Axes>"
      ]
     },
     "metadata": {
      "needs_background": "light"
     },
     "output_type": "display_data"
    }
   ],
   "source": [
    "user_aggr_subr2012 = plot_user_subr_distribution(df2012, \"2012\")"
   ]
  },
  {
   "cell_type": "markdown",
   "metadata": {},
   "source": [
    "## subsetting: only look at active multi-subreddit users"
   ]
  },
  {
   "cell_type": "code",
   "execution_count": 6,
   "metadata": {},
   "outputs": [],
   "source": [
    "def subset(user_aggr_submyear, user_aggr_subryear, dfyear):\n",
    "    ACTIVEUSERS = user_aggr_submyear[user_aggr_submyear[\"n_subm\"]>=10].author.unique()\n",
    "    MULTICOMMUSERS = user_aggr_subryear[user_aggr_subryear[\"n_subr\"]>=2].author.unique()\n",
    "    SUBSETUSERS = list(set(ACTIVEUSERS) & set(MULTICOMMUSERS))\n",
    "    print(\"subset size:\", len(SUBSETUSERS))\n",
    "    dfyear_subset = dfyear[dfyear[\"author\"].isin(SUBSETUSERS)].copy()\n",
    "    return dfyear_subset"
   ]
  },
  {
   "cell_type": "code",
   "execution_count": 7,
   "metadata": {},
   "outputs": [
    {
     "name": "stdout",
     "output_type": "stream",
     "text": [
      "subset size: 19124\n"
     ]
    }
   ],
   "source": [
    "df2012_subset = subset(user_aggr_subm2012, user_aggr_subr2012, df2012)"
   ]
  },
  {
   "cell_type": "markdown",
   "metadata": {},
   "source": [
    "## build user graph:\n",
    "\n",
    "- node: user\n",
    "- link: whether two users co-occur in a submission\n",
    "    - weight: number of co-occurrences"
   ]
  },
  {
   "cell_type": "code",
   "execution_count": 8,
   "metadata": {},
   "outputs": [],
   "source": [
    "def build_user_graph(dfyear_subset):\n",
    "    subm_aggr = dfyear_subset.groupby(\"submission_id\").agg({\"author\": lambda x: set(list(x))}).reset_index()\n",
    "    subm_aggr[\"n_user\"] = subm_aggr[\"author\"].map(lambda x: len(x))\n",
    "    subm_aggr = subm_aggr[subm_aggr[\"n_user\"]>1].reset_index().drop(columns=[\"index\"])  \n",
    "    \n",
    "    user_edges = {}\n",
    "    print(\"recording edges...\")\n",
    "    for i,row in subm_aggr.iterrows():\n",
    "        users = list(row[\"author\"])\n",
    "        if i%10000==0: print(\" - progress:\", i/len(subm_aggr))\n",
    "        userpairs = [*combinations(users,2)]\n",
    "        for i,up in enumerate(userpairs):\n",
    "            u1 = min(user2index[up[0]],user2index[up[1]])\n",
    "            u2 = max(user2index[up[0]],user2index[up[1]])\n",
    "            try:\n",
    "                user_edges[(u1, u2)] += 1\n",
    "            except:\n",
    "                user_edges[(u1, u2)] = 1\n",
    "                \n",
    "    print(\"building graph...\")       \n",
    "    userg = nx.Graph()\n",
    "    for p,w in user_edges.items():\n",
    "        userg.add_edge(p[0], p[1], weight=w)\n",
    "    \n",
    "    print(\"graph descriptives:\")\n",
    "    print(\" - # of nodes:\", len(userg.nodes()))\n",
    "    print(\" - # of edges:\", len(userg.edges()))\n",
    "    return user_edges, userg"
   ]
  },
  {
   "cell_type": "code",
   "execution_count": null,
   "metadata": {},
   "outputs": [
    {
     "name": "stdout",
     "output_type": "stream",
     "text": [
      "recording edges...\n",
      " - progress: 0.0\n",
      " - progress: 0.06607201850016518\n",
      " - progress: 0.13214403700033037\n",
      " - progress: 0.19821605550049554\n",
      " - progress: 0.26428807400066073\n",
      " - progress: 0.3303600925008259\n",
      " - progress: 0.39643211100099107\n",
      " - progress: 0.46250412950115627\n"
     ]
    }
   ],
   "source": [
    "user_edges2012, userg2012 = build_user_graph(df2012_subset)"
   ]
  },
  {
   "cell_type": "markdown",
   "metadata": {},
   "source": [
    "## EDA\n",
    "\n",
    "### node-level attributes"
   ]
  },
  {
   "cell_type": "code",
   "execution_count": null,
   "metadata": {},
   "outputs": [],
   "source": [
    "# degree distribution\n",
    "degrees = [d for n,d in userg2012.degree()]\n",
    "plt.hist(degrees, color=\"#FF4500\", bins=50)\n",
    "plt.yscale(\"log\")\n",
    "plt.xlabel(\"degree\", fontsize=12)\n",
    "plt.ylabel(\"counts\", fontsize=12)\n",
    "# plt.show()\n",
    "plt.savefig(ROOTPATH + f\"output/fig/userg_degree_2012.svg\")"
   ]
  },
  {
   "cell_type": "code",
   "execution_count": null,
   "metadata": {},
   "outputs": [],
   "source": [
    "# weight distribution\n",
    "plt.hist(list(user_edges2012.values()), color=\"#FF4500\", bins=50)\n",
    "plt.yscale(\"log\")\n",
    "plt.xscale(\"log\")\n",
    "plt.xlabel(\"weight\", fontsize=12)\n",
    "plt.ylabel(\"counts\", fontsize=12)\n",
    "# plt.show()\n",
    "plt.savefig(ROOTPATH + f\"output/fig/userg_weight_2012.svg\")"
   ]
  },
  {
   "cell_type": "code",
   "execution_count": null,
   "metadata": {},
   "outputs": [],
   "source": [
    "# strength distribution\n",
    "strengths = [d for n,d in userg2012.degree(weight=\"weight\")]\n",
    "plt.hist(strengths, bins=15, color=\"#FF4500\")\n",
    "plt.yscale(\"log\")\n",
    "# plt.xscale(\"log\")\n",
    "plt.xlabel(\"strength\", fontsize=12)\n",
    "plt.ylabel(\"counts\", fontsize=12)\n",
    "# plt.show()\n",
    "plt.savefig(ROOTPATH + f\"output/fig/userg_strength_2012.svg\")"
   ]
  },
  {
   "cell_type": "code",
   "execution_count": null,
   "metadata": {},
   "outputs": [],
   "source": [
    "# nx.degree_assortativity_coefficient(userg2012)  \n",
    "# -0.16842736406012168\n",
    "# disassortative --> degree heterogeneity"
   ]
  },
  {
   "cell_type": "code",
   "execution_count": null,
   "metadata": {},
   "outputs": [],
   "source": [
    "# betweenness --> time complexity O(nm), n = num of nodes, m = num of links\n",
    "# https://kops.uni-konstanz.de/bitstream/handle/123456789/5739/algorithm.pdf\n",
    "\n",
    "# needs graph sparsification (fewer links)!\n",
    "\n",
    "# betws = nx.betweenness_centrality(userg2012)\n",
    "# plt.hist(betws, color=\"#FF4500\")\n",
    "# plt.yscale(\"log\")\n",
    "# # plt.xscale(\"log\")\n",
    "# plt.xlabel(\"betweenness\", fontsize=12)\n",
    "# plt.ylabel(\"counts\", fontsize=12)\n",
    "# # plt.show()\n",
    "# plt.savefig(ROOTPATH + f\"output/fig/userg_betweenness_2012.svg\")"
   ]
  },
  {
   "cell_type": "code",
   "execution_count": 33,
   "metadata": {},
   "outputs": [],
   "source": [
    "# save node attributes\n",
    "nodedf = pd.DataFrame()\n",
    "nodedf[\"node\"] = [*userg2012.nodes()]\n",
    "nodedf[\"author\"] = nodedf[\"node\"].map(lambda x: index2user[x])\n",
    "nodedf[\"degree\"] = degrees\n",
    "nodedf[\"strength\"] = strengths"
   ]
  },
  {
   "cell_type": "code",
   "execution_count": 34,
   "metadata": {},
   "outputs": [
    {
     "data": {
      "text/html": [
       "<div>\n",
       "<style scoped>\n",
       "    .dataframe tbody tr th:only-of-type {\n",
       "        vertical-align: middle;\n",
       "    }\n",
       "\n",
       "    .dataframe tbody tr th {\n",
       "        vertical-align: top;\n",
       "    }\n",
       "\n",
       "    .dataframe thead th {\n",
       "        text-align: right;\n",
       "    }\n",
       "</style>\n",
       "<table border=\"1\" class=\"dataframe\">\n",
       "  <thead>\n",
       "    <tr style=\"text-align: right;\">\n",
       "      <th></th>\n",
       "      <th>node</th>\n",
       "      <th>author</th>\n",
       "      <th>degree</th>\n",
       "      <th>strength</th>\n",
       "    </tr>\n",
       "  </thead>\n",
       "  <tbody>\n",
       "    <tr>\n",
       "      <th>0</th>\n",
       "      <td>63493</td>\n",
       "      <td>willanthony</td>\n",
       "      <td>10215</td>\n",
       "      <td>34598</td>\n",
       "    </tr>\n",
       "    <tr>\n",
       "      <th>1</th>\n",
       "      <td>134440</td>\n",
       "      <td>CRYMTYPHON</td>\n",
       "      <td>5592</td>\n",
       "      <td>13605</td>\n",
       "    </tr>\n",
       "    <tr>\n",
       "      <th>2</th>\n",
       "      <td>128020</td>\n",
       "      <td>Pendit76</td>\n",
       "      <td>870</td>\n",
       "      <td>1054</td>\n",
       "    </tr>\n",
       "    <tr>\n",
       "      <th>3</th>\n",
       "      <td>99410</td>\n",
       "      <td>IrishJoe</td>\n",
       "      <td>9707</td>\n",
       "      <td>41380</td>\n",
       "    </tr>\n",
       "    <tr>\n",
       "      <th>4</th>\n",
       "      <td>3807</td>\n",
       "      <td>Piscator629</td>\n",
       "      <td>6071</td>\n",
       "      <td>11972</td>\n",
       "    </tr>\n",
       "    <tr>\n",
       "      <th>...</th>\n",
       "      <td>...</td>\n",
       "      <td>...</td>\n",
       "      <td>...</td>\n",
       "      <td>...</td>\n",
       "    </tr>\n",
       "    <tr>\n",
       "      <th>19050</th>\n",
       "      <td>121594</td>\n",
       "      <td>500milehouse</td>\n",
       "      <td>1226</td>\n",
       "      <td>1515</td>\n",
       "    </tr>\n",
       "    <tr>\n",
       "      <th>19051</th>\n",
       "      <td>76420</td>\n",
       "      <td>DukeN3</td>\n",
       "      <td>1381</td>\n",
       "      <td>1626</td>\n",
       "    </tr>\n",
       "    <tr>\n",
       "      <th>19052</th>\n",
       "      <td>121753</td>\n",
       "      <td>NotSoFastAsshole</td>\n",
       "      <td>529</td>\n",
       "      <td>617</td>\n",
       "    </tr>\n",
       "    <tr>\n",
       "      <th>19053</th>\n",
       "      <td>332043</td>\n",
       "      <td>DOWNVOTE_AND_REPORT</td>\n",
       "      <td>866</td>\n",
       "      <td>984</td>\n",
       "    </tr>\n",
       "    <tr>\n",
       "      <th>19054</th>\n",
       "      <td>76932</td>\n",
       "      <td>Vaughann722</td>\n",
       "      <td>1</td>\n",
       "      <td>1</td>\n",
       "    </tr>\n",
       "  </tbody>\n",
       "</table>\n",
       "<p>19055 rows × 4 columns</p>\n",
       "</div>"
      ],
      "text/plain": [
       "         node               author  degree  strength\n",
       "0       63493          willanthony   10215     34598\n",
       "1      134440           CRYMTYPHON    5592     13605\n",
       "2      128020             Pendit76     870      1054\n",
       "3       99410             IrishJoe    9707     41380\n",
       "4        3807          Piscator629    6071     11972\n",
       "...       ...                  ...     ...       ...\n",
       "19050  121594         500milehouse    1226      1515\n",
       "19051   76420               DukeN3    1381      1626\n",
       "19052  121753     NotSoFastAsshole     529       617\n",
       "19053  332043  DOWNVOTE_AND_REPORT     866       984\n",
       "19054   76932          Vaughann722       1         1\n",
       "\n",
       "[19055 rows x 4 columns]"
      ]
     },
     "execution_count": 34,
     "metadata": {},
     "output_type": "execute_result"
    }
   ],
   "source": [
    "# get toxicity score for individual users\n"
   ]
  },
  {
   "cell_type": "markdown",
   "metadata": {},
   "source": [
    "**Visualization Problem**: too dense!"
   ]
  },
  {
   "cell_type": "code",
   "execution_count": 10,
   "metadata": {},
   "outputs": [],
   "source": [
    "from backbone import disparity_filter"
   ]
  },
  {
   "cell_type": "code",
   "execution_count": 11,
   "metadata": {
    "scrolled": true
   },
   "outputs": [
    {
     "name": "stdout",
     "output_type": "stream",
     "text": [
      "progress: 0.0\n",
      "progress: 0.005247966413014957\n",
      "progress: 0.010495932826029914\n",
      "progress: 0.01574389923904487\n",
      "progress: 0.020991865652059828\n",
      "progress: 0.026239832065074783\n",
      "progress: 0.03148779847808974\n",
      "progress: 0.036735764891104694\n",
      "progress: 0.041983731304119656\n",
      "progress: 0.04723169771713461\n",
      "progress: 0.05247966413014957\n",
      "progress: 0.05772763054316452\n",
      "progress: 0.06297559695617948\n",
      "progress: 0.06822356336919444\n",
      "progress: 0.07347152978220939\n",
      "progress: 0.07871949619522435\n",
      "progress: 0.08396746260823931\n",
      "progress: 0.08921542902125426\n",
      "progress: 0.09446339543426922\n",
      "progress: 0.09971136184728417\n",
      "progress: 0.10495932826029913\n",
      "progress: 0.1102072946733141\n",
      "progress: 0.11545526108632904\n",
      "progress: 0.120703227499344\n",
      "progress: 0.12595119391235896\n",
      "progress: 0.13119916032537393\n",
      "progress: 0.13644712673838888\n",
      "progress: 0.14169509315140383\n",
      "progress: 0.14694305956441878\n",
      "progress: 0.15219102597743375\n",
      "progress: 0.1574389923904487\n",
      "progress: 0.16268695880346365\n",
      "progress: 0.16793492521647863\n",
      "progress: 0.17318289162949357\n",
      "progress: 0.17843085804250852\n",
      "progress: 0.1836788244555235\n",
      "progress: 0.18892679086853845\n",
      "progress: 0.1941747572815534\n",
      "progress: 0.19942272369456834\n",
      "progress: 0.20467069010758332\n",
      "progress: 0.20991865652059827\n",
      "progress: 0.21516662293361322\n",
      "progress: 0.2204145893466282\n",
      "progress: 0.22566255575964314\n",
      "progress: 0.2309105221726581\n",
      "progress: 0.23615848858567307\n",
      "progress: 0.241406454998688\n",
      "progress: 0.24665442141170296\n",
      "progress: 0.2519023878247179\n",
      "progress: 0.25715035423773286\n",
      "progress: 0.26239832065074786\n",
      "progress: 0.2676462870637628\n",
      "progress: 0.27289425347677776\n",
      "progress: 0.2781422198897927\n",
      "progress: 0.28339018630280766\n",
      "progress: 0.2886381527158226\n",
      "progress: 0.29388611912883755\n",
      "progress: 0.29913408554185256\n",
      "progress: 0.3043820519548675\n",
      "progress: 0.30963001836788245\n",
      "progress: 0.3148779847808974\n",
      "progress: 0.32012595119391235\n",
      "progress: 0.3253739176069273\n",
      "progress: 0.33062188401994225\n",
      "progress: 0.33586985043295725\n",
      "progress: 0.3411178168459722\n",
      "progress: 0.34636578325898715\n",
      "progress: 0.3516137496720021\n",
      "progress: 0.35686171608501704\n",
      "progress: 0.362109682498032\n",
      "progress: 0.367357648911047\n",
      "progress: 0.37260561532406195\n",
      "progress: 0.3778535817370769\n",
      "progress: 0.38310154815009184\n",
      "progress: 0.3883495145631068\n",
      "progress: 0.39359748097612174\n",
      "progress: 0.3988454473891367\n",
      "progress: 0.4040934138021517\n",
      "progress: 0.40934138021516664\n",
      "progress: 0.4145893466281816\n",
      "progress: 0.41983731304119654\n",
      "progress: 0.4250852794542115\n",
      "progress: 0.43033324586722643\n",
      "progress: 0.4355812122802414\n",
      "progress: 0.4408291786932564\n",
      "progress: 0.44607714510627133\n",
      "progress: 0.4513251115192863\n",
      "progress: 0.45657307793230123\n",
      "progress: 0.4618210443453162\n",
      "progress: 0.4670690107583311\n",
      "progress: 0.47231697717134613\n",
      "progress: 0.4775649435843611\n",
      "progress: 0.482812909997376\n",
      "progress: 0.488060876410391\n",
      "progress: 0.4933088428234059\n",
      "progress: 0.4985568092364209\n",
      "progress: 0.5038047756494358\n",
      "progress: 0.5090527420624508\n",
      "progress: 0.5143007084754657\n",
      "progress: 0.5195486748884807\n",
      "progress: 0.5247966413014957\n",
      "progress: 0.5300446077145107\n",
      "progress: 0.5352925741275256\n",
      "progress: 0.5405405405405406\n",
      "progress: 0.5457885069535555\n",
      "progress: 0.5510364733665705\n",
      "progress: 0.5562844397795854\n",
      "progress: 0.5615324061926004\n",
      "progress: 0.5667803726056153\n",
      "progress: 0.5720283390186303\n",
      "progress: 0.5772763054316452\n",
      "progress: 0.5825242718446602\n",
      "progress: 0.5877722382576751\n",
      "progress: 0.59302020467069\n",
      "progress: 0.5982681710837051\n",
      "progress: 0.6035161374967201\n",
      "progress: 0.608764103909735\n",
      "progress: 0.61401207032275\n",
      "progress: 0.6192600367357649\n",
      "progress: 0.6245080031487799\n",
      "progress: 0.6297559695617948\n",
      "progress: 0.6350039359748098\n",
      "progress: 0.6402519023878247\n",
      "progress: 0.6454998688008396\n",
      "progress: 0.6507478352138546\n",
      "progress: 0.6559958016268695\n",
      "progress: 0.6612437680398845\n",
      "progress: 0.6664917344528996\n",
      "progress: 0.6717397008659145\n",
      "progress: 0.6769876672789295\n",
      "progress: 0.6822356336919444\n",
      "progress: 0.6874836001049593\n",
      "progress: 0.6927315665179743\n",
      "progress: 0.6979795329309892\n",
      "progress: 0.7032274993440042\n",
      "progress: 0.7084754657570191\n",
      "progress: 0.7137234321700341\n",
      "progress: 0.718971398583049\n",
      "progress: 0.724219364996064\n",
      "progress: 0.7294673314090789\n",
      "progress: 0.734715297822094\n",
      "progress: 0.7399632642351089\n",
      "progress: 0.7452112306481239\n",
      "progress: 0.7504591970611388\n",
      "progress: 0.7557071634741538\n",
      "progress: 0.7609551298871687\n",
      "progress: 0.7662030963001837\n",
      "progress: 0.7714510627131986\n",
      "progress: 0.7766990291262136\n",
      "progress: 0.7819469955392285\n",
      "progress: 0.7871949619522435\n",
      "progress: 0.7924429283652584\n",
      "progress: 0.7976908947782734\n",
      "progress: 0.8029388611912883\n",
      "progress: 0.8081868276043034\n",
      "progress: 0.8134347940173183\n",
      "progress: 0.8186827604303333\n",
      "progress: 0.8239307268433482\n",
      "progress: 0.8291786932563632\n",
      "progress: 0.8344266596693781\n",
      "progress: 0.8396746260823931\n",
      "progress: 0.844922592495408\n",
      "progress: 0.850170558908423\n",
      "progress: 0.8554185253214379\n",
      "progress: 0.8606664917344529\n",
      "progress: 0.8659144581474678\n",
      "progress: 0.8711624245604828\n",
      "progress: 0.8764103909734978\n",
      "progress: 0.8816583573865128\n",
      "progress: 0.8869063237995277\n",
      "progress: 0.8921542902125427\n",
      "progress: 0.8974022566255576\n",
      "progress: 0.9026502230385726\n",
      "progress: 0.9078981894515875\n",
      "progress: 0.9131461558646025\n",
      "progress: 0.9183941222776174\n",
      "progress: 0.9236420886906324\n",
      "progress: 0.9288900551036473\n",
      "progress: 0.9341380215166623\n",
      "progress: 0.9393859879296772\n",
      "progress: 0.9446339543426923\n",
      "progress: 0.9498819207557072\n",
      "progress: 0.9551298871687222\n",
      "progress: 0.9603778535817371\n",
      "progress: 0.965625819994752\n",
      "progress: 0.970873786407767\n",
      "progress: 0.976121752820782\n",
      "progress: 0.9813697192337969\n",
      "progress: 0.9866176856468118\n",
      "progress: 0.9918656520598268\n",
      "progress: 0.9971136184728417\n"
     ]
    }
   ],
   "source": [
    "# sparsification\n",
    "\n",
    "userg = disparity_filter(userg)"
   ]
  },
  {
   "cell_type": "code",
   "execution_count": 30,
   "metadata": {
    "scrolled": true
   },
   "outputs": [
    {
     "name": "stdout",
     "output_type": "stream",
     "text": [
      "progress: 0.0\n",
      "progress: 0.020616180526821754\n",
      "progress: 0.04123236105364351\n",
      "progress: 0.06184854158046526\n",
      "progress: 0.08246472210728702\n",
      "progress: 0.10308090263410877\n",
      "progress: 0.12369708316093052\n",
      "progress: 0.14431326368775227\n",
      "progress: 0.16492944421457403\n",
      "progress: 0.1855456247413958\n",
      "progress: 0.20616180526821754\n",
      "progress: 0.2267779857950393\n",
      "progress: 0.24739416632186104\n",
      "progress: 0.2680103468486828\n",
      "progress: 0.28862652737550454\n",
      "progress: 0.30924270790232633\n",
      "progress: 0.32985888842914807\n",
      "progress: 0.3504750689559698\n",
      "progress: 0.3710912494827916\n",
      "progress: 0.39170743000961333\n",
      "progress: 0.41232361053643507\n",
      "progress: 0.4329397910632568\n",
      "progress: 0.4535559715900786\n",
      "progress: 0.47417215211690034\n",
      "progress: 0.4947883326437221\n",
      "progress: 0.5154045131705438\n",
      "progress: 0.5360206936973656\n",
      "progress: 0.5566368742241874\n",
      "progress: 0.5772530547510091\n",
      "progress: 0.5978692352778309\n",
      "progress: 0.6184854158046527\n",
      "progress: 0.6391015963314743\n",
      "progress: 0.6597177768582961\n",
      "progress: 0.6803339573851179\n",
      "progress: 0.7009501379119396\n",
      "progress: 0.7215663184387614\n",
      "progress: 0.7421824989655832\n",
      "progress: 0.7627986794924049\n",
      "progress: 0.7834148600192267\n",
      "progress: 0.8040310405460485\n",
      "progress: 0.8246472210728701\n",
      "progress: 0.8452634015996919\n",
      "progress: 0.8658795821265136\n",
      "progress: 0.8864957626533354\n",
      "progress: 0.9071119431801572\n",
      "progress: 0.9277281237069789\n",
      "progress: 0.9483443042338007\n",
      "progress: 0.9689604847606225\n",
      "progress: 0.9895766652874441\n"
     ]
    }
   ],
   "source": [
    "alpha = 0.01\n",
    "userg2 = nx.Graph()\n",
    "for i,(u,v,d) in enumerate(userg.edges(data=True)):\n",
    "    if i%500000==0: print(\"progress:\", i/len(userg.edges()))\n",
    "    if d[\"alpha\"] < alpha:\n",
    "        userg2.add_edge(u,v,weight=d[\"weight\"])"
   ]
  },
  {
   "cell_type": "code",
   "execution_count": 31,
   "metadata": {},
   "outputs": [
    {
     "data": {
      "text/plain": [
       "329119"
      ]
     },
     "execution_count": 31,
     "metadata": {},
     "output_type": "execute_result"
    }
   ],
   "source": [
    "len(userg2.edges())"
   ]
  },
  {
   "cell_type": "code",
   "execution_count": 32,
   "metadata": {},
   "outputs": [],
   "source": [
    "# export edgelist and nodelist to csv\n",
    "edgedf = pd.DataFrame()\n",
    "sources = []\n",
    "targets = []\n",
    "weights = []\n",
    "\n",
    "nodedf = pd.DataFrame()\n",
    "nodedf[\"Label\"] = list(userg2.nodes())\n",
    "nodedf[\"Id\"] = nodedf[\"Label\"].map(lambda x: subr2index[x])\n",
    "\n",
    "for i,(u,v,d) in enumerate(userg2.edges(data=True)):\n",
    "    sources.append(u)\n",
    "    targets.append(v)\n",
    "    weights.append(d[\"weight\"])\n",
    "edgedf[\"Source\"] = sources\n",
    "edgedf[\"Target\"] = targets\n",
    "edgedf[\"Weight\"] = weights\n",
    "\n",
    "edgedf.to_csv(ROOTPATH + \"output/user_edge_2012.csv\", index=False)\n",
    "nodedf.to_csv(ROOTPATH + \"output/user_node_2012.csv\", index=False)"
   ]
  },
  {
   "cell_type": "code",
   "execution_count": null,
   "metadata": {},
   "outputs": [],
   "source": [
    "# next todo: color nodes: "
   ]
  }
 ],
 "metadata": {
  "kernelspec": {
   "display_name": "Python 3",
   "language": "python",
   "name": "python3"
  },
  "language_info": {
   "codemirror_mode": {
    "name": "ipython",
    "version": 3
   },
   "file_extension": ".py",
   "mimetype": "text/x-python",
   "name": "python",
   "nbconvert_exporter": "python",
   "pygments_lexer": "ipython3",
   "version": "3.7.7"
  },
  "toc": {
   "base_numbering": 1,
   "nav_menu": {},
   "number_sections": true,
   "sideBar": true,
   "skip_h1_title": false,
   "title_cell": "Table of Contents",
   "title_sidebar": "Contents",
   "toc_cell": false,
   "toc_position": {},
   "toc_section_display": true,
   "toc_window_display": true
  }
 },
 "nbformat": 4,
 "nbformat_minor": 4
}
