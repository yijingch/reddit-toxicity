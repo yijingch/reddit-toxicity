{
 "cells": [
  {
   "cell_type": "markdown",
   "metadata": {},
   "source": [
    "# User-level graph"
   ]
  },
  {
   "cell_type": "code",
   "execution_count": 1,
   "metadata": {},
   "outputs": [],
   "source": [
    "import pandas as pd\n",
    "import numpy as np\n",
    "import networkx as nx\n",
    "import statsmodels.api as sm\n",
    "import sqlite3\n",
    "import os\n",
    "import re\n",
    "import seaborn as sns\n",
    "import matplotlib.pyplot as plt\n",
    "from networkx.algorithms import bipartite\n",
    "from itertools import combinations\n",
    "\n",
    "import warnings\n",
    "warnings.filterwarnings('ignore')\n",
    "\n",
    "from utils import ROOTPATH, build_df_year, generate_index\n",
    "from backbone import disparity_filter"
   ]
  },
  {
   "cell_type": "code",
   "execution_count": 2,
   "metadata": {
    "scrolled": true
   },
   "outputs": [
    {
     "name": "stdout",
     "output_type": "stream",
     "text": [
      "building base dataframe for year 2012...\n",
      "- fetching submissions for year 2012\n",
      "- fetching comments for year 2012\n"
     ]
    }
   ],
   "source": [
    "df2012 = build_df_year(2012, with_text=True, with_time=False)\n",
    "generate_index()\n",
    "\n",
    "from utils import USERS, SUBREDDITS, user2index, index2user, subr2index, index2subr"
   ]
  },
  {
   "cell_type": "markdown",
   "metadata": {},
   "source": [
    "## basic descriptives\n",
    "### per-user submissions / subreddits"
   ]
  },
  {
   "cell_type": "code",
   "execution_count": 3,
   "metadata": {},
   "outputs": [],
   "source": [
    "# visualize distributions \n",
    "\n",
    "def plot_user_subr_distribution(dfyear, year):\n",
    "    user_aggr = dfyear.groupby(\"author\").agg({\"subreddit\": lambda x: set(list(x))}).reset_index()\n",
    "    user_aggr[\"n_subr\"] = user_aggr[\"subreddit\"].map(lambda x: len(x))\n",
    "    plt.hist(user_aggr[\"n_subr\"], bins=15, color=\"#FF4500\")\n",
    "    plt.xscale(\"log\")\n",
    "    plt.yscale(\"log\")\n",
    "    plt.xlabel(\"# of subreddits\", fontsize=14)\n",
    "    plt.ylabel(\"# of users\", fontsize=14)\n",
    "    plt.savefig(ROOTPATH + f\"output/fig/user_subreddit_distribution_{year}.svg\")\n",
    "    return user_aggr\n",
    "\n",
    "def plot_user_subm_distribution(dfyear, year):\n",
    "    user_aggr = dfyear.groupby(\"author\").agg({\"submission_id\": lambda x: set(list(x))}).reset_index()\n",
    "    user_aggr[\"n_subm\"] = user_aggr[\"submission_id\"].map(lambda x: len(x))\n",
    "    plt.hist(user_aggr[\"n_subm\"], bins=15, color=\"#FF4500\")\n",
    "    plt.xscale(\"log\")\n",
    "    plt.yscale(\"log\")\n",
    "    plt.xlabel(\"# of submissions\", fontsize=14)\n",
    "    plt.ylabel(\"# of users\", fontsize=14)\n",
    "    plt.savefig(ROOTPATH + f\"output/fig/user_submission_distribution_{year}.svg\")\n",
    "    return user_aggr"
   ]
  },
  {
   "cell_type": "code",
   "execution_count": 4,
   "metadata": {},
   "outputs": [
    {
     "data": {
      "image/png": "[encoded data removed]",
      "text/plain": [
       "<Figure size 432x288 with 1 Axes>"
      ]
     },
     "metadata": {
      "needs_background": "light"
     },
     "output_type": "display_data"
    }
   ],
   "source": [
    "user_aggr_subm2012 = plot_user_subm_distribution(df2012, \"2012\")"
   ]
  },
  {
   "cell_type": "code",
   "execution_count": 5,
   "metadata": {},
   "outputs": [
    {
     "data": {
      "image/png": "[encoded data removed]",
      "text/plain": [
       "<Figure size 432x288 with 1 Axes>"
      ]
     },
     "metadata": {
      "needs_background": "light"
     },
     "output_type": "display_data"
    }
   ],
   "source": [
    "user_aggr_subr2012 = plot_user_subr_distribution(df2012, \"2012\")"
   ]
  },
  {
   "cell_type": "markdown",
   "metadata": {},
   "source": [
    "## subsetting: only look at active multi-subreddit users"
   ]
  },
  {
   "cell_type": "code",
   "execution_count": 6,
   "metadata": {},
   "outputs": [],
   "source": [
    "def subset(user_aggr_submyear, user_aggr_subryear, dfyear):\n",
    "    ACTIVEUSERS = user_aggr_submyear[user_aggr_submyear[\"n_subm\"]>=10].author.unique()\n",
    "    MULTICOMMUSERS = user_aggr_subryear[user_aggr_subryear[\"n_subr\"]>=2].author.unique()\n",
    "    SUBSETUSERS = list(set(ACTIVEUSERS) & set(MULTICOMMUSERS))\n",
    "    print(\"subset size:\", len(SUBSETUSERS))\n",
    "    dfyear_subset = dfyear[dfyear[\"author\"].isin(SUBSETUSERS)].copy()\n",
    "    return dfyear_subset"
   ]
  },
  {
   "cell_type": "code",
   "execution_count": 7,
   "metadata": {},
   "outputs": [
    {
     "name": "stdout",
     "output_type": "stream",
     "text": [
      "subset size: 19124\n"
     ]
    }
   ],
   "source": [
    "df2012_subset = subset(user_aggr_subm2012, user_aggr_subr2012, df2012)"
   ]
  },
  {
   "cell_type": "markdown",
   "metadata": {},
   "source": [
    "## build user graph:\n",
    "\n",
    "- node: user\n",
    "- link: whether two users co-occur in a submission\n",
    "    - weight: number of co-occurrences"
   ]
  },
  {
   "cell_type": "code",
   "execution_count": 8,
   "metadata": {},
   "outputs": [],
   "source": [
    "def build_user_graph(dfyear_subset):\n",
    "    subm_aggr = dfyear_subset.groupby(\"submission_id\").agg({\"author\": lambda x: set(list(x))}).reset_index()\n",
    "    subm_aggr[\"n_user\"] = subm_aggr[\"author\"].map(lambda x: len(x))\n",
    "    subm_aggr = subm_aggr[subm_aggr[\"n_user\"]>1].reset_index().drop(columns=[\"index\"])  \n",
    "    \n",
    "    user_edges = {}\n",
    "    print(\"recording edges...\")\n",
    "    # directly writing to nx.Graph() kills the kernel, ugh\n",
    "    for i,row in subm_aggr.iterrows():\n",
    "        users = list(row[\"author\"])\n",
    "        if i%10000==0: print(\" - progress:\", i/len(subm_aggr))\n",
    "        userpairs = [*combinations(users,2)]\n",
    "        for i,up in enumerate(userpairs):\n",
    "            u1 = min(user2index[up[0]],user2index[up[1]])\n",
    "            u2 = max(user2index[up[0]],user2index[up[1]])\n",
    "            try:\n",
    "                user_edges[(u1, u2)] += 1\n",
    "            except:\n",
    "                user_edges[(u1, u2)] = 1\n",
    "                \n",
    "    print(\"building graph...\")       \n",
    "    userg = nx.Graph()\n",
    "    for p,w in user_edges.items():\n",
    "        userg.add_edge(p[0], p[1], weight=w)\n",
    "    \n",
    "    print(\"graph descriptives:\")\n",
    "    print(\" - # of nodes:\", len(userg.nodes()))\n",
    "    print(\" - # of edges:\", len(userg.edges()))\n",
    "    return user_edges, userg"
   ]
  },
  {
   "cell_type": "code",
   "execution_count": 9,
   "metadata": {},
   "outputs": [
    {
     "name": "stdout",
     "output_type": "stream",
     "text": [
      "recording edges...\n",
      " - progress: 0.0\n",
      " - progress: 0.06607201850016518\n",
      " - progress: 0.13214403700033037\n",
      " - progress: 0.19821605550049554\n",
      " - progress: 0.26428807400066073\n",
      " - progress: 0.3303600925008259\n",
      " - progress: 0.39643211100099107\n",
      " - progress: 0.46250412950115627\n",
      " - progress: 0.5285761480013215\n",
      " - progress: 0.5946481665014867\n",
      " - progress: 0.6607201850016517\n",
      " - progress: 0.726792203501817\n",
      " - progress: 0.7928642220019821\n",
      " - progress: 0.8589362405021473\n",
      " - progress: 0.9250082590023125\n",
      " - progress: 0.9910802775024777\n",
      "building graph...\n",
      "graph descriptives:\n",
      " - # of nodes: 19055\n",
      " - # of edges: 24252795\n"
     ]
    }
   ],
   "source": [
    "user_edges2012, userg2012 = build_user_graph(df2012_subset)"
   ]
  },
  {
   "cell_type": "markdown",
   "metadata": {},
   "source": [
    "## EDA\n",
    "\n",
    "### distribution of degrees, weight and strength"
   ]
  },
  {
   "cell_type": "code",
   "execution_count": 10,
   "metadata": {},
   "outputs": [
    {
     "data": {
      "image/png": "[encoded data removed]",
      "text/plain": [
       "<Figure size 432x288 with 1 Axes>"
      ]
     },
     "metadata": {
      "needs_background": "light"
     },
     "output_type": "display_data"
    }
   ],
   "source": [
    "# degree distribution\n",
    "degrees = [d for n,d in userg2012.degree()]\n",
    "plt.hist(degrees, color=\"#FF4500\", bins=50)\n",
    "plt.yscale(\"log\")\n",
    "plt.xlabel(\"degree\", fontsize=12)\n",
    "plt.ylabel(\"counts\", fontsize=12)\n",
    "# plt.show()\n",
    "plt.savefig(ROOTPATH + f\"output/fig/userg_degree_2012.svg\")"
   ]
  },
  {
   "cell_type": "code",
   "execution_count": 11,
   "metadata": {},
   "outputs": [
    {
     "data": {
      "image/png": "[encoded data removed]",
      "text/plain": [
       "<Figure size 432x288 with 1 Axes>"
      ]
     },
     "metadata": {
      "needs_background": "light"
     },
     "output_type": "display_data"
    }
   ],
   "source": [
    "# weight distribution\n",
    "plt.hist(list(user_edges2012.values()), color=\"#FF4500\", bins=50)\n",
    "plt.yscale(\"log\")\n",
    "plt.xscale(\"log\")\n",
    "plt.xlabel(\"weight\", fontsize=12)\n",
    "plt.ylabel(\"counts\", fontsize=12)\n",
    "# plt.show()\n",
    "plt.savefig(ROOTPATH + f\"output/fig/userg_weight_2012.svg\")"
   ]
  },
  {
   "cell_type": "code",
   "execution_count": 12,
   "metadata": {},
   "outputs": [
    {
     "data": {
      "image/png": "[encoded data removed]",
      "text/plain": [
       "<Figure size 432x288 with 1 Axes>"
      ]
     },
     "metadata": {
      "needs_background": "light"
     },
     "output_type": "display_data"
    }
   ],
   "source": [
    "# strength distribution\n",
    "strengths = [d for n,d in userg2012.degree(weight=\"weight\")]\n",
    "plt.hist(strengths, bins=15, color=\"#FF4500\")\n",
    "plt.yscale(\"log\")\n",
    "# plt.xscale(\"log\")\n",
    "plt.xlabel(\"strength\", fontsize=12)\n",
    "plt.ylabel(\"counts\", fontsize=12)\n",
    "# plt.show()\n",
    "plt.savefig(ROOTPATH + f\"output/fig/userg_strength_2012.svg\")"
   ]
  },
  {
   "cell_type": "code",
   "execution_count": 13,
   "metadata": {},
   "outputs": [],
   "source": [
    "# nx.degree_assortativity_coefficient(userg2012)  \n",
    "# -0.16842736406012168\n",
    "# disassortative --> degree heterogeneity"
   ]
  },
  {
   "cell_type": "markdown",
   "metadata": {},
   "source": [
    "### betweenness: too many links --> need to sparsify the graph"
   ]
  },
  {
   "cell_type": "code",
   "execution_count": 14,
   "metadata": {},
   "outputs": [],
   "source": [
    "# betweenness --> time complexity O(nm), n = num of nodes, m = num of links\n",
    "# https://kops.uni-konstanz.de/bitstream/handle/123456789/5739/algorithm.pdf\n",
    "\n",
    "# needs graph sparsification (fewer links)!\n",
    "\n",
    "# betws = nx.betweenness_centrality(userg2012)\n",
    "# plt.hist(betws, color=\"#FF4500\")\n",
    "# plt.yscale(\"log\")\n",
    "# # plt.xscale(\"log\")\n",
    "# plt.xlabel(\"betweenness\", fontsize=12)\n",
    "# plt.ylabel(\"counts\", fontsize=12)\n",
    "# # plt.show()\n",
    "# plt.savefig(ROOTPATH + f\"output/fig/userg_betweenness_2012.svg\")"
   ]
  },
  {
   "cell_type": "markdown",
   "metadata": {},
   "source": [
    "## toxicity at node-level\n",
    "\n",
    "### correlations of attributes"
   ]
  },
  {
   "cell_type": "code",
   "execution_count": 15,
   "metadata": {},
   "outputs": [],
   "source": [
    "# save node attributes\n",
    "nodedf = pd.DataFrame()\n",
    "nodedf[\"Id\"] = [*userg2012.nodes()]\n",
    "nodedf[\"author\"] = nodedf[\"Id\"].map(lambda x: index2user[x])\n",
    "nodedf[\"degree\"] = degrees\n",
    "nodedf[\"strength\"] = strengths\n",
    "nodedf[\"strength_logged\"] = nodedf[\"strength\"].map(lambda x: np.log(x))\n",
    "nodedf[\"degree_logged\"] = nodedf[\"strength\"].map(lambda x: np.log(x))"
   ]
  },
  {
   "cell_type": "code",
   "execution_count": 16,
   "metadata": {},
   "outputs": [],
   "source": [
    "# get toxicity score for individual users\n",
    "aggr_func = {\"toxicity\": lambda x: list(x)}\n",
    "user_toxicity = df2012[[\"author\",\"toxicity\"]][df2012[\"toxicity\"].notna()].groupby(\"author\").agg(aggr_func).reset_index()\n",
    "nodedf = nodedf.merge(user_toxicity, on=\"author\", how=\"left\")"
   ]
  },
  {
   "cell_type": "code",
   "execution_count": 17,
   "metadata": {},
   "outputs": [],
   "source": [
    "# nodedf[\"toxicity\"] = nodedf[\"toxicity\"].map(lambda x: [t for t in x if ~np.isnan(t)])\n",
    "nodedf[\"mean_tox\"] = nodedf[\"toxicity\"].map(lambda x: np.mean(x))\n",
    "nodedf[\"max_tox\"] = nodedf[\"toxicity\"].map(lambda x: max(x) if str(x)!=\"nan\" else np.NaN)\n",
    "nodedf[\"min_tox\"] = nodedf[\"toxicity\"].map(lambda x: min(x) if str(x)!=\"nan\" else np.NaN)\n",
    "nodedf[\"range_tox\"] = nodedf[\"toxicity\"].map(lambda x: max(x)-min(x) if str(x)!=\"nan\" else np.NaN)\n",
    "nodedf[\"var_tox\"] = nodedf[\"toxicity\"].map(lambda x: np.var(x) if str(x)!=\"nan\" else np.NaN)"
   ]
  },
  {
   "cell_type": "code",
   "execution_count": 18,
   "metadata": {},
   "outputs": [],
   "source": [
    "# plt.scatter(nodedf[\"degree\"], nodedf[\"strength\"], color=\"#FF4500\", alpha=0.02)\n",
    "# plt.yscale(\"log\")"
   ]
  },
  {
   "cell_type": "code",
   "execution_count": 19,
   "metadata": {},
   "outputs": [
    {
     "data": {
      "image/png": "[encoded data removed]",
      "text/plain": [
       "<Figure size 1008x288 with 4 Axes>"
      ]
     },
     "metadata": {
      "needs_background": "light"
     },
     "output_type": "display_data"
    }
   ],
   "source": [
    "# plot\n",
    "from mpl_toolkits.axes_grid1 import make_axes_locatable\n",
    "\n",
    "fig, ax = plt.subplots(ncols=3, figsize=(14,4), sharex=True, sharey=True)\n",
    "for i,col in enumerate([\"mean_tox\", \"max_tox\", \"min_tox\"]):\n",
    "    x = nodedf[\"strength_logged\"]\n",
    "    y = nodedf[col]\n",
    "    m,b = np.polyfit(x, y, 1)\n",
    "    \n",
    "    # scatterplot\n",
    "    _ = ax[i].scatter(x, y, cmap=\"Reds\", c=nodedf[\"var_tox\"], alpha=0.6, s=1, marker=\"+\")\n",
    "    \n",
    "    # OLS\n",
    "    ax[i].plot(x, m*x+b, \":\", color=\"grey\")\n",
    "    ax[i].set_xlabel(\"strength (logged)\", fontsize=14)\n",
    "    ax[i].set_ylabel(col, fontsize=14)\n",
    "fig.colorbar(_, cax=fig.add_axes([0.93, 0.15, 0.01, 0.7]), label=\"variance\")\n",
    "# plt.show()\n",
    "plt.savefig(ROOTPATH + f\"output/fig/user_strength_tox2012.svg\")"
   ]
  },
  {
   "cell_type": "markdown",
   "metadata": {},
   "source": [
    "**OLS fitness?**"
   ]
  },
  {
   "cell_type": "code",
   "execution_count": 20,
   "metadata": {},
   "outputs": [],
   "source": [
    "def OLS_fit(x,y):\n",
    "    x = sm.add_constant(x)\n",
    "    model = sm.OLS(y,x)\n",
    "    results = model.fit()\n",
    "    print(results.params)\n",
    "    print(print(results.summary()))"
   ]
  },
  {
   "cell_type": "code",
   "execution_count": 21,
   "metadata": {},
   "outputs": [
    {
     "name": "stdout",
     "output_type": "stream",
     "text": [
      "\n",
      "********* OLS *********\n",
      "x = strength\n",
      "y = mean_tox\n",
      "const              0.200684\n",
      "strength_logged    0.008317\n",
      "dtype: float64\n",
      "                            OLS Regression Results                            \n",
      "==============================================================================\n",
      "Dep. Variable:               mean_tox   R-squared:                       0.017\n",
      "Model:                            OLS   Adj. R-squared:                  0.017\n",
      "Method:                 Least Squares   F-statistic:                     325.4\n",
      "Date:                Sat, 27 Nov 2021   Prob (F-statistic):           3.80e-72\n",
      "Time:                        10:33:50   Log-Likelihood:                 19140.\n",
      "No. Observations:               19055   AIC:                        -3.828e+04\n",
      "Df Residuals:                   19053   BIC:                        -3.826e+04\n",
      "Df Model:                           1                                         \n",
      "Covariance Type:            nonrobust                                         \n",
      "===================================================================================\n",
      "                      coef    std err          t      P>|t|      [0.025      0.975]\n",
      "-----------------------------------------------------------------------------------\n",
      "const               0.2007      0.004     55.813      0.000       0.194       0.208\n",
      "strength_logged     0.0083      0.000     18.040      0.000       0.007       0.009\n",
      "==============================================================================\n",
      "Omnibus:                     3469.122   Durbin-Watson:                   1.926\n",
      "Prob(Omnibus):                  0.000   Jarque-Bera (JB):             7713.122\n",
      "Skew:                           1.055   Prob(JB):                         0.00\n",
      "Kurtosis:                       5.294   Cond. No.                         44.4\n",
      "==============================================================================\n",
      "\n",
      "Notes:\n",
      "[1] Standard Errors assume that the covariance matrix of the errors is correctly specified.\n",
      "None\n",
      "\n",
      "********* OLS *********\n",
      "x = strength\n",
      "y = max_tox\n",
      "const              0.547604\n",
      "strength_logged    0.043137\n",
      "dtype: float64\n",
      "                            OLS Regression Results                            \n",
      "==============================================================================\n",
      "Dep. Variable:                max_tox   R-squared:                       0.188\n",
      "Model:                            OLS   Adj. R-squared:                  0.188\n",
      "Method:                 Least Squares   F-statistic:                     4404.\n",
      "Date:                Sat, 27 Nov 2021   Prob (F-statistic):               0.00\n",
      "Time:                        10:33:50   Log-Likelihood:                 12593.\n",
      "No. Observations:               19055   AIC:                        -2.518e+04\n",
      "Df Residuals:                   19053   BIC:                        -2.517e+04\n",
      "Df Model:                           1                                         \n",
      "Covariance Type:            nonrobust                                         \n",
      "===================================================================================\n",
      "                      coef    std err          t      P>|t|      [0.025      0.975]\n",
      "-----------------------------------------------------------------------------------\n",
      "const               0.5476      0.005    108.014      0.000       0.538       0.558\n",
      "strength_logged     0.0431      0.001     66.361      0.000       0.042       0.044\n",
      "==============================================================================\n",
      "Omnibus:                     8278.513   Durbin-Watson:                   1.973\n",
      "Prob(Omnibus):                  0.000   Jarque-Bera (JB):            42359.562\n",
      "Skew:                          -2.082   Prob(JB):                         0.00\n",
      "Kurtosis:                       9.001   Cond. No.                         44.4\n",
      "==============================================================================\n",
      "\n",
      "Notes:\n",
      "[1] Standard Errors assume that the covariance matrix of the errors is correctly specified.\n",
      "None\n",
      "\n",
      "********* OLS *********\n",
      "x = strength\n",
      "y = min_tox\n",
      "const              0.064634\n",
      "strength_logged   -0.004547\n",
      "dtype: float64\n",
      "                            OLS Regression Results                            \n",
      "==============================================================================\n",
      "Dep. Variable:                min_tox   R-squared:                       0.119\n",
      "Model:                            OLS   Adj. R-squared:                  0.119\n",
      "Method:                 Least Squares   F-statistic:                     2572.\n",
      "Date:                Sat, 27 Nov 2021   Prob (F-statistic):               0.00\n",
      "Time:                        10:33:50   Log-Likelihood:                 50341.\n",
      "No. Observations:               19055   AIC:                        -1.007e+05\n",
      "Df Residuals:                   19053   BIC:                        -1.007e+05\n",
      "Df Model:                           1                                         \n",
      "Covariance Type:            nonrobust                                         \n",
      "===================================================================================\n",
      "                      coef    std err          t      P>|t|      [0.025      0.975]\n",
      "-----------------------------------------------------------------------------------\n",
      "const               0.0646      0.001     92.427      0.000       0.063       0.066\n",
      "strength_logged    -0.0045   8.97e-05    -50.717      0.000      -0.005      -0.004\n",
      "==============================================================================\n",
      "Omnibus:                    32840.902   Durbin-Watson:                   1.909\n",
      "Prob(Omnibus):                  0.000   Jarque-Bera (JB):        194014648.647\n",
      "Skew:                          11.288   Prob(JB):                         0.00\n",
      "Kurtosis:                     496.816   Cond. No.                         44.4\n",
      "==============================================================================\n",
      "\n",
      "Notes:\n",
      "[1] Standard Errors assume that the covariance matrix of the errors is correctly specified.\n",
      "None\n"
     ]
    }
   ],
   "source": [
    "for col in [\"mean_tox\", \"max_tox\", \"min_tox\"]:\n",
    "    print(\"\\n********* OLS *********\")\n",
    "    print(\"x = strength\")\n",
    "    print(\"y =\", col)\n",
    "    OLS_fit(nodedf.dropna()[\"strength_logged\"], nodedf.dropna()[col])"
   ]
  },
  {
   "cell_type": "markdown",
   "metadata": {},
   "source": [
    "### toxicity paradox? My neighbors are on average more toxic than me?"
   ]
  },
  {
   "cell_type": "code",
   "execution_count": 22,
   "metadata": {},
   "outputs": [],
   "source": [
    "TOXICITY_DICT = nodedf[[\"Id\",\"mean_tox\"]].set_index(\"Id\").to_dict()[\"mean_tox\"]"
   ]
  },
  {
   "cell_type": "code",
   "execution_count": 23,
   "metadata": {},
   "outputs": [],
   "source": [
    "def examine_gfps(g):\n",
    "    gfps = []\n",
    "    for i,(n,v) in enumerate(TOXICITY_DICT.items()):\n",
    "        if i%1000==0: print(\"progress:\", i/len(TOXICITY_DICT))\n",
    "        neighbors = g[n]\n",
    "        my_tox = v\n",
    "        env_tox = np.mean([TOXICITY_DICT[x] for x in neighbors])\n",
    "        if my_tox > env_tox:  # I'm more toxic than my neighbors\n",
    "            gfps.append(0)\n",
    "        else:  # my neighbors are more toxic than me\n",
    "            gfps.append(1)\n",
    "    nodedf[\"gfp\"] = gfps"
   ]
  },
  {
   "cell_type": "code",
   "execution_count": 24,
   "metadata": {},
   "outputs": [
    {
     "name": "stdout",
     "output_type": "stream",
     "text": [
      "progress: 0.0\n",
      "progress: 0.05247966413014957\n",
      "progress: 0.10495932826029913\n",
      "progress: 0.1574389923904487\n",
      "progress: 0.20991865652059827\n",
      "progress: 0.26239832065074786\n",
      "progress: 0.3148779847808974\n",
      "progress: 0.367357648911047\n",
      "progress: 0.41983731304119654\n",
      "progress: 0.47231697717134613\n",
      "progress: 0.5247966413014957\n",
      "progress: 0.5772763054316452\n",
      "progress: 0.6297559695617948\n",
      "progress: 0.6822356336919444\n",
      "progress: 0.734715297822094\n",
      "progress: 0.7871949619522435\n",
      "progress: 0.8396746260823931\n",
      "progress: 0.8921542902125427\n",
      "progress: 0.9446339543426923\n",
      "progress: 0.9971136184728417\n"
     ]
    }
   ],
   "source": [
    "examine_gfps(userg2012)"
   ]
  },
  {
   "cell_type": "code",
   "execution_count": 25,
   "metadata": {},
   "outputs": [
    {
     "data": {
      "image/png": "[encoded data removed]",
      "text/plain": [
       "<Figure size 518.4x432 with 2 Axes>"
      ]
     },
     "metadata": {
      "needs_background": "light"
     },
     "output_type": "display_data"
    }
   ],
   "source": [
    "fig, ax = plt.subplots(figsize=(7.2,6))\n",
    "x = nodedf[nodedf[\"gfp\"]==1].dropna()[\"strength_logged\"]\n",
    "y = nodedf[nodedf[\"gfp\"]==1].dropna()[\"mean_tox\"]\n",
    "plt.hist2d(x, y, (80,80), cmap=\"Reds\")\n",
    "plt.xlabel(\"strength (logged)\", fontsize=14)\n",
    "plt.ylabel(\"toxicity\", fontsize=14)\n",
    "plt.colorbar()\n",
    "plt.savefig(ROOTPATH + f\"output/fig/fpg2012.svg\")"
   ]
  },
  {
   "cell_type": "markdown",
   "metadata": {},
   "source": [
    "### does these toxic users cluster together?\n",
    "\n",
    "**Visualization Problem**: too dense!"
   ]
  },
  {
   "cell_type": "code",
   "execution_count": 28,
   "metadata": {},
   "outputs": [],
   "source": [
    "def build_filter(g):\n",
    "    print(\"building filter...\")\n",
    "    return disparity_filter(g)\n",
    "    \n",
    "def cut_edge(g, alpha):\n",
    "    g2 = nx.Graph()\n",
    "    print(\"cutting edges...\")\n",
    "    for i,(u,v,d) in enumerate(g.edges(data=True)):\n",
    "        if i%500000==0: print(\"progress:\", i/len(g.edges()))\n",
    "        if d[\"alpha\"] < alpha:\n",
    "            g2.add_edge(u,v,weight=d[\"weight\"])\n",
    "    return g2"
   ]
  },
  {
   "cell_type": "code",
   "execution_count": null,
   "metadata": {
    "scrolled": true
   },
   "outputs": [
    {
     "name": "stdout",
     "output_type": "stream",
     "text": [
      "building filter...\n",
      "progress: 0.0\n",
      "progress: 0.005247966413014957\n",
      "progress: 0.010495932826029914\n",
      "progress: 0.01574389923904487\n",
      "progress: 0.020991865652059828\n",
      "progress: 0.026239832065074783\n",
      "progress: 0.03148779847808974\n",
      "progress: 0.036735764891104694\n",
      "progress: 0.041983731304119656\n",
      "progress: 0.04723169771713461\n",
      "progress: 0.05247966413014957\n",
      "progress: 0.05772763054316452\n",
      "progress: 0.06297559695617948\n",
      "progress: 0.06822356336919444\n",
      "progress: 0.07347152978220939\n",
      "progress: 0.07871949619522435\n",
      "progress: 0.08396746260823931\n",
      "progress: 0.08921542902125426\n",
      "progress: 0.09446339543426922\n",
      "progress: 0.09971136184728417\n",
      "progress: 0.10495932826029913\n",
      "progress: 0.1102072946733141\n",
      "progress: 0.11545526108632904\n",
      "progress: 0.120703227499344\n",
      "progress: 0.12595119391235896\n",
      "progress: 0.13119916032537393\n",
      "progress: 0.13644712673838888\n",
      "progress: 0.14169509315140383\n",
      "progress: 0.14694305956441878\n",
      "progress: 0.15219102597743375\n",
      "progress: 0.1574389923904487\n",
      "progress: 0.16268695880346365\n",
      "progress: 0.16793492521647863\n",
      "progress: 0.17318289162949357\n",
      "progress: 0.17843085804250852\n",
      "progress: 0.1836788244555235\n",
      "progress: 0.18892679086853845\n",
      "progress: 0.1941747572815534\n",
      "progress: 0.19942272369456834\n",
      "progress: 0.20467069010758332\n",
      "progress: 0.20991865652059827\n",
      "progress: 0.21516662293361322\n",
      "progress: 0.2204145893466282\n",
      "progress: 0.22566255575964314\n",
      "progress: 0.2309105221726581\n",
      "progress: 0.23615848858567307\n",
      "progress: 0.241406454998688\n",
      "progress: 0.24665442141170296\n",
      "progress: 0.2519023878247179\n",
      "progress: 0.25715035423773286\n",
      "progress: 0.26239832065074786\n",
      "progress: 0.2676462870637628\n",
      "progress: 0.27289425347677776\n",
      "progress: 0.2781422198897927\n",
      "progress: 0.28339018630280766\n",
      "progress: 0.2886381527158226\n",
      "progress: 0.29388611912883755\n",
      "progress: 0.29913408554185256\n",
      "progress: 0.3043820519548675\n",
      "progress: 0.30963001836788245\n",
      "progress: 0.3148779847808974\n",
      "progress: 0.32012595119391235\n",
      "progress: 0.3253739176069273\n",
      "progress: 0.33062188401994225\n",
      "progress: 0.33586985043295725\n",
      "progress: 0.3411178168459722\n",
      "progress: 0.34636578325898715\n",
      "progress: 0.3516137496720021\n",
      "progress: 0.35686171608501704\n",
      "progress: 0.362109682498032\n",
      "progress: 0.367357648911047\n",
      "progress: 0.37260561532406195\n",
      "progress: 0.3778535817370769\n",
      "progress: 0.38310154815009184\n",
      "progress: 0.3883495145631068\n",
      "progress: 0.39359748097612174\n",
      "progress: 0.3988454473891367\n",
      "progress: 0.4040934138021517\n",
      "progress: 0.40934138021516664\n",
      "progress: 0.4145893466281816\n",
      "progress: 0.41983731304119654\n",
      "progress: 0.4250852794542115\n",
      "progress: 0.43033324586722643\n",
      "progress: 0.4355812122802414\n",
      "progress: 0.4408291786932564\n",
      "progress: 0.44607714510627133\n",
      "progress: 0.4513251115192863\n",
      "progress: 0.45657307793230123\n",
      "progress: 0.4618210443453162\n",
      "progress: 0.4670690107583311\n",
      "progress: 0.47231697717134613\n",
      "progress: 0.4775649435843611\n",
      "progress: 0.482812909997376\n",
      "progress: 0.488060876410391\n",
      "progress: 0.4933088428234059\n",
      "progress: 0.4985568092364209\n",
      "progress: 0.5038047756494358\n",
      "progress: 0.5090527420624508\n",
      "progress: 0.5143007084754657\n",
      "progress: 0.5195486748884807\n",
      "progress: 0.5247966413014957\n",
      "progress: 0.5300446077145107\n",
      "progress: 0.5352925741275256\n",
      "progress: 0.5405405405405406\n",
      "progress: 0.5457885069535555\n",
      "progress: 0.5510364733665705\n",
      "progress: 0.5562844397795854\n",
      "progress: 0.5615324061926004\n",
      "progress: 0.5667803726056153\n",
      "progress: 0.5720283390186303\n",
      "progress: 0.5772763054316452\n",
      "progress: 0.5825242718446602\n",
      "progress: 0.5877722382576751\n",
      "progress: 0.59302020467069\n",
      "progress: 0.5982681710837051\n",
      "progress: 0.6035161374967201\n",
      "progress: 0.608764103909735\n",
      "progress: 0.61401207032275\n",
      "progress: 0.6192600367357649\n",
      "progress: 0.6245080031487799\n",
      "progress: 0.6297559695617948\n",
      "progress: 0.6350039359748098\n",
      "progress: 0.6402519023878247\n",
      "progress: 0.6454998688008396\n",
      "progress: 0.6507478352138546\n",
      "progress: 0.6559958016268695\n",
      "progress: 0.6612437680398845\n",
      "progress: 0.6664917344528996\n",
      "progress: 0.6717397008659145\n",
      "progress: 0.6769876672789295\n",
      "progress: 0.6822356336919444\n",
      "progress: 0.6874836001049593\n",
      "progress: 0.6927315665179743\n",
      "progress: 0.6979795329309892\n",
      "progress: 0.7032274993440042\n",
      "progress: 0.7084754657570191\n",
      "progress: 0.7137234321700341\n",
      "progress: 0.718971398583049\n",
      "progress: 0.724219364996064\n",
      "progress: 0.7294673314090789\n",
      "progress: 0.734715297822094\n",
      "progress: 0.7399632642351089\n",
      "progress: 0.7452112306481239\n",
      "progress: 0.7504591970611388\n",
      "progress: 0.7557071634741538\n",
      "progress: 0.7609551298871687\n",
      "progress: 0.7662030963001837\n",
      "progress: 0.7714510627131986\n",
      "progress: 0.7766990291262136\n",
      "progress: 0.7819469955392285\n",
      "progress: 0.7871949619522435\n",
      "progress: 0.7924429283652584\n",
      "progress: 0.7976908947782734\n",
      "progress: 0.8029388611912883\n",
      "progress: 0.8081868276043034\n",
      "progress: 0.8134347940173183\n",
      "progress: 0.8186827604303333\n",
      "progress: 0.8239307268433482\n",
      "progress: 0.8291786932563632\n",
      "progress: 0.8344266596693781\n",
      "progress: 0.8396746260823931\n",
      "progress: 0.844922592495408\n",
      "progress: 0.850170558908423\n",
      "progress: 0.8554185253214379\n",
      "progress: 0.8606664917344529\n",
      "progress: 0.8659144581474678\n",
      "progress: 0.8711624245604828\n",
      "progress: 0.8764103909734978\n",
      "progress: 0.8816583573865128\n",
      "progress: 0.8869063237995277\n",
      "progress: 0.8921542902125427\n",
      "progress: 0.8974022566255576\n",
      "progress: 0.9026502230385726\n",
      "progress: 0.9078981894515875\n",
      "progress: 0.9131461558646025\n",
      "progress: 0.9183941222776174\n",
      "progress: 0.9236420886906324\n",
      "progress: 0.9288900551036473\n",
      "progress: 0.9341380215166623\n",
      "progress: 0.9393859879296772\n",
      "progress: 0.9446339543426923\n",
      "progress: 0.9498819207557072\n",
      "progress: 0.9551298871687222\n",
      "progress: 0.9603778535817371\n",
      "progress: 0.965625819994752\n",
      "progress: 0.970873786407767\n",
      "progress: 0.976121752820782\n",
      "progress: 0.9813697192337969\n",
      "progress: 0.9866176856468118\n",
      "progress: 0.9918656520598268\n",
      "progress: 0.9971136184728417\n",
      "cutting edges...\n",
      "progress: 0.0\n",
      "progress: 0.020616180526821754\n",
      "progress: 0.04123236105364351\n",
      "progress: 0.06184854158046526\n",
      "progress: 0.08246472210728702\n",
      "progress: 0.10308090263410877\n",
      "progress: 0.12369708316093052\n",
      "progress: 0.14431326368775227\n",
      "progress: 0.16492944421457403\n",
      "progress: 0.1855456247413958\n",
      "progress: 0.20616180526821754\n",
      "progress: 0.2267779857950393\n",
      "progress: 0.24739416632186104\n",
      "progress: 0.2680103468486828\n",
      "progress: 0.28862652737550454\n",
      "progress: 0.30924270790232633\n",
      "progress: 0.32985888842914807\n"
     ]
    }
   ],
   "source": [
    "userg2012 = build_filter(userg2012)\n",
    "userg2012_small = cut_edge(userg2012, alpha=0.005)"
   ]
  },
  {
   "cell_type": "code",
   "execution_count": null,
   "metadata": {},
   "outputs": [],
   "source": [
    "def export_graph_csv(g, nodedf): \n",
    "    nodecsv = pd.DataFrame()\n",
    "    nodecsv[\"Id\"] = list(g.nodes())\n",
    "    nodecsv[\"Label\"] = nodecsv[\"Id\"].map(lambda x: index2subr[x])\n",
    "    nodecsv = nodecsv.merge(nodedf[[\"Id\",\"mean_tox\"]], on=\"Id\", how=\"left\")\n",
    "    \n",
    "    edgecsv = pd.DataFrame()\n",
    "    sources = []\n",
    "    targets = []\n",
    "    weights = []\n",
    "    for i,(u,v,d) in enumerate(g.edges(data=True)):\n",
    "        sources.append(u)\n",
    "        targets.append(v)\n",
    "        weights.append(d[\"weight\"])\n",
    "    edgecsv[\"Source\"] = sources\n",
    "    edgecsv[\"Target\"] = targets\n",
    "    edgecsv[\"Weight\"] = weights\n",
    "    \n",
    "    edgecsv.to_csv(ROOTPATH + \"output/user_edge_2012.csv\", index=False)\n",
    "    nodecsv.to_csv(ROOTPATH + \"output/user_node_2012.csv\", index=False)\n",
    "    return edgecsv, nodecsv"
   ]
  },
  {
   "cell_type": "code",
   "execution_count": null,
   "metadata": {},
   "outputs": [],
   "source": [
    "ec, nc = export_graph_csv(userg2012_small, nodedf)"
   ]
  },
  {
   "cell_type": "code",
   "execution_count": null,
   "metadata": {},
   "outputs": [],
   "source": []
  }
 ],
 "metadata": {
  "kernelspec": {
   "display_name": "Python 3",
   "language": "python",
   "name": "python3"
  },
  "language_info": {
   "codemirror_mode": {
    "name": "ipython",
    "version": 3
   },
   "file_extension": ".py",
   "mimetype": "text/x-python",
   "name": "python",
   "nbconvert_exporter": "python",
   "pygments_lexer": "ipython3",
   "version": "3.7.7"
  },
  "toc": {
   "base_numbering": 1,
   "nav_menu": {},
   "number_sections": true,
   "sideBar": true,
   "skip_h1_title": false,
   "title_cell": "Table of Contents",
   "title_sidebar": "Contents",
   "toc_cell": false,
   "toc_position": {},
   "toc_section_display": true,
   "toc_window_display": true
  }
 },
 "nbformat": 4,
 "nbformat_minor": 4
}
