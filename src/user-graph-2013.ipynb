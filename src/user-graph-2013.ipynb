{
 "cells": [
  {
   "cell_type": "markdown",
   "metadata": {},
   "source": [
    "# User-level graph"
   ]
  },
  {
   "cell_type": "code",
   "execution_count": 1,
   "metadata": {},
   "outputs": [],
   "source": [
    "import pandas as pd\n",
    "import numpy as np\n",
    "import networkx as nx\n",
    "import statsmodels.api as sm\n",
    "import sqlite3\n",
    "import os\n",
    "import re\n",
    "import seaborn as sns\n",
    "import matplotlib.pyplot as plt\n",
    "from networkx.algorithms import bipartite\n",
    "from itertools import combinations\n",
    "\n",
    "import warnings\n",
    "warnings.filterwarnings('ignore')\n",
    "\n",
    "from utils import ROOTPATH, build_df_year, generate_index\n",
    "from backbone import disparity_filter"
   ]
  },
  {
   "cell_type": "code",
   "execution_count": 2,
   "metadata": {},
   "outputs": [
    {
     "name": "stdout",
     "output_type": "stream",
     "text": [
      "building base dataframe for year 2013...\n",
      "- fetching submissions for year 2013\n",
      "- fetching comments for year 2013\n"
     ]
    }
   ],
   "source": [
    "df2013 = build_df_year(2013)\n",
    "generate_index()\n",
    "\n",
    "from utils import USERS, SUBREDDITS, user2index, index2user, subr2index, index2subr"
   ]
  },
  {
   "cell_type": "markdown",
   "metadata": {},
   "source": [
    "## basic descriptives\n",
    "### per-user submissions / subreddits"
   ]
  },
  {
   "cell_type": "code",
   "execution_count": 3,
   "metadata": {},
   "outputs": [],
   "source": [
    "# visualize distributions \n",
    "\n",
    "def plot_user_subr_distribution(dfyear, year):\n",
    "    user_aggr = dfyear.groupby(\"author\").agg({\"subreddit\": lambda x: set(list(x))}).reset_index()\n",
    "    user_aggr[\"n_subr\"] = user_aggr[\"subreddit\"].map(lambda x: len(x))\n",
    "    plt.hist(user_aggr[\"n_subr\"], bins=15, color=\"#FF4500\")\n",
    "    plt.xscale(\"log\")\n",
    "    plt.yscale(\"log\")\n",
    "    plt.xlabel(\"# of subreddits\", fontsize=14)\n",
    "    plt.ylabel(\"# of users\", fontsize=14)\n",
    "    plt.savefig(ROOTPATH + f\"output/fig/user_subreddit_distribution_{year}.svg\")\n",
    "    return user_aggr\n",
    "\n",
    "def plot_user_subm_distribution(dfyear, year):\n",
    "    user_aggr = dfyear.groupby(\"author\").agg({\"submission_id\": lambda x: set(list(x))}).reset_index()\n",
    "    user_aggr[\"n_subm\"] = user_aggr[\"submission_id\"].map(lambda x: len(x))\n",
    "    plt.hist(user_aggr[\"n_subm\"], bins=15, color=\"#FF4500\")\n",
    "    plt.xscale(\"log\")\n",
    "    plt.yscale(\"log\")\n",
    "    plt.xlabel(\"# of submissions\", fontsize=14)\n",
    "    plt.ylabel(\"# of users\", fontsize=14)\n",
    "    plt.savefig(ROOTPATH + f\"output/fig/user_submission_distribution_{year}.svg\")\n",
    "    return user_aggr"
   ]
  },
  {
   "cell_type": "code",
   "execution_count": 4,
   "metadata": {},
   "outputs": [
    {
     "data": {
      "image/png": "[encoded data removed]",
      "text/plain": [
       "<Figure size 432x288 with 1 Axes>"
      ]
     },
     "metadata": {
      "needs_background": "light"
     },
     "output_type": "display_data"
    }
   ],
   "source": [
    "user_aggr_subm2013 = plot_user_subm_distribution(df2013, \"2013\")"
   ]
  },
  {
   "cell_type": "code",
   "execution_count": 5,
   "metadata": {},
   "outputs": [
    {
     "data": {
      "image/png": "[encoded data removed]",
      "text/plain": [
       "<Figure size 432x288 with 1 Axes>"
      ]
     },
     "metadata": {
      "needs_background": "light"
     },
     "output_type": "display_data"
    }
   ],
   "source": [
    "user_aggr_subr2013 = plot_user_subr_distribution(df2013, \"2013\")"
   ]
  },
  {
   "cell_type": "markdown",
   "metadata": {},
   "source": [
    "## subsetting: only look at active multi-subreddit users"
   ]
  },
  {
   "cell_type": "code",
   "execution_count": 6,
   "metadata": {},
   "outputs": [],
   "source": [
    "def subset(user_aggr_submyear, user_aggr_subryear, dfyear):\n",
    "    ACTIVEUSERS = user_aggr_submyear[user_aggr_submyear[\"n_subm\"]>=10].author.unique()\n",
    "    MULTICOMMUSERS = user_aggr_subryear[user_aggr_subryear[\"n_subr\"]>=2].author.unique()\n",
    "    SUBSETUSERS = list(set(ACTIVEUSERS) & set(MULTICOMMUSERS))\n",
    "    print(\"subset size:\", len(SUBSETUSERS))\n",
    "    dfyear_subset = dfyear[dfyear[\"author\"].isin(SUBSETUSERS)].copy()\n",
    "    return dfyear_subset"
   ]
  },
  {
   "cell_type": "code",
   "execution_count": 7,
   "metadata": {},
   "outputs": [
    {
     "name": "stdout",
     "output_type": "stream",
     "text": [
      "subset size: 14778\n"
     ]
    }
   ],
   "source": [
    "df2013_subset = subset(user_aggr_subm2013, user_aggr_subr2013, df2013)"
   ]
  },
  {
   "cell_type": "markdown",
   "metadata": {},
   "source": [
    "## build user graph:\n",
    "\n",
    "- node: user\n",
    "- link: whether two users co-occur in a submission\n",
    "    - weight: number of co-occurrences"
   ]
  },
  {
   "cell_type": "code",
   "execution_count": 8,
   "metadata": {},
   "outputs": [],
   "source": [
    "def build_user_graph(dfyear_subset):\n",
    "    subm_aggr = dfyear_subset.groupby(\"submission_id\").agg({\"author\": lambda x: set(list(x))}).reset_index()\n",
    "    subm_aggr[\"n_user\"] = subm_aggr[\"author\"].map(lambda x: len(x))\n",
    "    subm_aggr = subm_aggr[subm_aggr[\"n_user\"]>1].reset_index().drop(columns=[\"index\"])  \n",
    "    \n",
    "    user_edges = {}\n",
    "    print(\"recording edges...\")\n",
    "    for i,row in subm_aggr.iterrows():\n",
    "        users = list(row[\"author\"])\n",
    "        if i%10000==0: print(\" - progress:\", i/len(subm_aggr))\n",
    "        userpairs = [*combinations(users,2)]\n",
    "        for i,up in enumerate(userpairs):\n",
    "            u1 = min(user2index[up[0]],user2index[up[1]])\n",
    "            u2 = max(user2index[up[0]],user2index[up[1]])\n",
    "            try:\n",
    "                user_edges[(u1, u2)] += 1\n",
    "            except:\n",
    "                user_edges[(u1, u2)] = 1\n",
    "                \n",
    "    print(\"building graph...\")       \n",
    "    userg = nx.Graph()\n",
    "    for p,w in user_edges.items():\n",
    "        userg.add_edge(p[0], p[1], weight=w)\n",
    "    \n",
    "    print(\"graph descriptives:\")\n",
    "    print(\" - # of nodes:\", len(userg.nodes()))\n",
    "    print(\" - # of edges:\", len(userg.edges()))\n",
    "    return user_edges, userg"
   ]
  },
  {
   "cell_type": "code",
   "execution_count": 9,
   "metadata": {},
   "outputs": [
    {
     "name": "stdout",
     "output_type": "stream",
     "text": [
      "recording edges...\n",
      " - progress: 0.0\n",
      " - progress: 0.0816199936336405\n",
      " - progress: 0.163239987267281\n",
      " - progress: 0.24485998090092148\n",
      " - progress: 0.326479974534562\n",
      " - progress: 0.4080999681682025\n",
      " - progress: 0.48971996180184296\n",
      " - progress: 0.5713399554354834\n",
      " - progress: 0.652959949069124\n",
      " - progress: 0.7345799427027645\n",
      " - progress: 0.816199936336405\n",
      " - progress: 0.8978199299700454\n",
      " - progress: 0.9794399236036859\n",
      "building graph...\n",
      "graph descriptives:\n",
      " - # of nodes: 14726\n",
      " - # of edges: 12053951\n"
     ]
    }
   ],
   "source": [
    "user_edges2013, userg2013 = build_user_graph(df2013_subset)"
   ]
  },
  {
   "cell_type": "markdown",
   "metadata": {},
   "source": [
    "## EDA\n",
    "\n",
    "### distribution of degrees, weight and strength"
   ]
  },
  {
   "cell_type": "code",
   "execution_count": 10,
   "metadata": {},
   "outputs": [
    {
     "data": {
      "image/png": "[encoded data removed]",
      "text/plain": [
       "<Figure size 432x288 with 1 Axes>"
      ]
     },
     "metadata": {
      "needs_background": "light"
     },
     "output_type": "display_data"
    }
   ],
   "source": [
    "# degree distribution\n",
    "degrees = [d for n,d in userg2013.degree()]\n",
    "plt.hist(degrees, color=\"#FF4500\", bins=50)\n",
    "plt.yscale(\"log\")\n",
    "plt.xlabel(\"degree\", fontsize=12)\n",
    "plt.ylabel(\"counts\", fontsize=12)\n",
    "# plt.show()\n",
    "plt.savefig(ROOTPATH + f\"output/fig/userg_degree_2013.svg\")"
   ]
  },
  {
   "cell_type": "code",
   "execution_count": 11,
   "metadata": {},
   "outputs": [
    {
     "data": {
      "image/png": "[encoded data removed]",
      "text/plain": [
       "<Figure size 432x288 with 1 Axes>"
      ]
     },
     "metadata": {
      "needs_background": "light"
     },
     "output_type": "display_data"
    }
   ],
   "source": [
    "# weight distribution\n",
    "plt.hist(list(user_edges2013.values()), color=\"#FF4500\", bins=50)\n",
    "plt.yscale(\"log\")\n",
    "plt.xscale(\"log\")\n",
    "plt.xlabel(\"weight\", fontsize=12)\n",
    "plt.ylabel(\"counts\", fontsize=12)\n",
    "# plt.show()\n",
    "plt.savefig(ROOTPATH + f\"output/fig/userg_weight_2013.svg\")"
   ]
  },
  {
   "cell_type": "code",
   "execution_count": 12,
   "metadata": {},
   "outputs": [
    {
     "data": {
      "image/png": "[encoded data removed]",
      "text/plain": [
       "<Figure size 432x288 with 1 Axes>"
      ]
     },
     "metadata": {
      "needs_background": "light"
     },
     "output_type": "display_data"
    }
   ],
   "source": [
    "# strength distribution\n",
    "strengths = [d for n,d in userg2013.degree(weight=\"weight\")]\n",
    "plt.hist(strengths, bins=15, color=\"#FF4500\")\n",
    "plt.yscale(\"log\")\n",
    "# plt.xscale(\"log\")\n",
    "plt.xlabel(\"strength\", fontsize=12)\n",
    "plt.ylabel(\"counts\", fontsize=12)\n",
    "# plt.show()\n",
    "plt.savefig(ROOTPATH + f\"output/fig/userg_strength_2013.svg\")"
   ]
  },
  {
   "cell_type": "code",
   "execution_count": 13,
   "metadata": {},
   "outputs": [],
   "source": [
    "# nx.degree_assortativity_coefficient(userg2012)  \n",
    "# -0.16842736406012168\n",
    "# disassortative --> degree heterogeneity"
   ]
  },
  {
   "cell_type": "markdown",
   "metadata": {},
   "source": [
    "### betweenness: too many links --> need to sparsify the graph"
   ]
  },
  {
   "cell_type": "code",
   "execution_count": 14,
   "metadata": {},
   "outputs": [],
   "source": [
    "# betweenness --> time complexity O(nm), n = num of nodes, m = num of links\n",
    "# https://kops.uni-konstanz.de/bitstream/handle/123456789/5739/algorithm.pdf\n",
    "\n",
    "# needs graph sparsification (fewer links)!\n",
    "\n",
    "# betws = nx.betweenness_centrality(userg2012)\n",
    "# plt.hist(betws, color=\"#FF4500\")\n",
    "# plt.yscale(\"log\")\n",
    "# # plt.xscale(\"log\")\n",
    "# plt.xlabel(\"betweenness\", fontsize=12)\n",
    "# plt.ylabel(\"counts\", fontsize=12)\n",
    "# # plt.show()\n",
    "# plt.savefig(ROOTPATH + f\"output/fig/userg_betweenness_2012.svg\")"
   ]
  },
  {
   "cell_type": "markdown",
   "metadata": {},
   "source": [
    "## toxicity at node-level\n",
    "\n",
    "### correlations of attributes"
   ]
  },
  {
   "cell_type": "code",
   "execution_count": 15,
   "metadata": {},
   "outputs": [],
   "source": [
    "# save node attributes\n",
    "nodedf = pd.DataFrame()\n",
    "nodedf[\"Id\"] = [*userg2013.nodes()]\n",
    "nodedf[\"author\"] = nodedf[\"Id\"].map(lambda x: index2user[x])\n",
    "nodedf[\"degree\"] = degrees\n",
    "nodedf[\"strength\"] = strengths\n",
    "nodedf[\"strength_logged\"] = nodedf[\"strength\"].map(lambda x: np.log(x))\n",
    "nodedf[\"degree_logged\"] = nodedf[\"strength\"].map(lambda x: np.log(x))"
   ]
  },
  {
   "cell_type": "code",
   "execution_count": 16,
   "metadata": {},
   "outputs": [],
   "source": [
    "# get toxicity score for individual users\n",
    "aggr_func = {\"toxicity\": lambda x: list(x)}\n",
    "user_toxicity = df2013[[\"author\",\"toxicity\"]][df2013[\"toxicity\"].notna()].groupby(\"author\").agg(aggr_func).reset_index()\n",
    "nodedf = nodedf.merge(user_toxicity, on=\"author\", how=\"left\")"
   ]
  },
  {
   "cell_type": "code",
   "execution_count": 23,
   "metadata": {},
   "outputs": [],
   "source": [
    "# nodedf[\"toxicity\"] = nodedf[\"toxicity\"].map(lambda x: [t for t in x if ~np.isnan(t)])\n",
    "nodedf[\"mean_tox\"] = nodedf[\"toxicity\"].map(lambda x: np.mean(x))\n",
    "nodedf[\"max_tox\"] = nodedf[\"toxicity\"].map(lambda x: max(x) if str(x)!=\"nan\" else np.NaN)\n",
    "nodedf[\"min_tox\"] = nodedf[\"toxicity\"].map(lambda x: min(x) if str(x)!=\"nan\" else np.NaN)\n",
    "nodedf[\"range_tox\"] = nodedf[\"toxicity\"].map(lambda x: max(x)-min(x) if str(x)!=\"nan\" else np.NaN)\n",
    "nodedf[\"var_tox\"] = nodedf[\"toxicity\"].map(lambda x: np.var(x) if str(x)!=\"nan\" else np.NaN)"
   ]
  },
  {
   "cell_type": "code",
   "execution_count": 24,
   "metadata": {},
   "outputs": [],
   "source": [
    "# plt.scatter(nodedf[\"degree\"], nodedf[\"strength\"], color=\"#FF4500\", alpha=0.02)\n",
    "# plt.yscale(\"log\")"
   ]
  },
  {
   "cell_type": "code",
   "execution_count": 27,
   "metadata": {},
   "outputs": [
    {
     "data": {
      "image/png": "[encoded data removed]",
      "text/plain": [
       "<Figure size 1008x288 with 4 Axes>"
      ]
     },
     "metadata": {
      "needs_background": "light"
     },
     "output_type": "display_data"
    }
   ],
   "source": [
    "# plot\n",
    "from mpl_toolkits.axes_grid1 import make_axes_locatable\n",
    "\n",
    "fig, ax = plt.subplots(ncols=3, figsize=(14,4), sharex=True, sharey=True)\n",
    "for i,col in enumerate([\"mean_tox\", \"max_tox\", \"min_tox\"]):\n",
    "    x = nodedf[\"strength_logged\"]\n",
    "    y = nodedf[col]\n",
    "    m,b = np.polyfit(x, y, 1)\n",
    "    \n",
    "    # scatterplot\n",
    "    _ = ax[i].scatter(x, y, cmap=\"Reds\", c=nodedf[\"var_tox\"], alpha=0.6, s=1, marker=\"+\")\n",
    "    \n",
    "    # OLS\n",
    "    ax[i].plot(x, m*x+b, \":\", color=\"grey\")\n",
    "    ax[i].set_xlabel(\"strength (logged)\", fontsize=14)\n",
    "    ax[i].set_ylabel(col, fontsize=14)\n",
    "fig.colorbar(_, cax=fig.add_axes([0.93, 0.15, 0.01, 0.7]), label=\"variance\")\n",
    "# plt.show()\n",
    "plt.savefig(ROOTPATH + f\"output/fig/user_strength_tox2013.svg\")"
   ]
  },
  {
   "cell_type": "markdown",
   "metadata": {},
   "source": [
    "**OLS fitness?**"
   ]
  },
  {
   "cell_type": "code",
   "execution_count": 31,
   "metadata": {},
   "outputs": [],
   "source": [
    "def OLS_fit(x,y):\n",
    "    x = sm.add_constant(x)\n",
    "    model = sm.OLS(y,x)\n",
    "    results = model.fit()\n",
    "    print(results.params)\n",
    "    print(print(results.summary()))"
   ]
  },
  {
   "cell_type": "code",
   "execution_count": 33,
   "metadata": {},
   "outputs": [
    {
     "name": "stdout",
     "output_type": "stream",
     "text": [
      "\n",
      "********* OLS *********\n",
      "x = strength\n",
      "y = mean_tox\n",
      "const              0.215119\n",
      "strength_logged    0.006089\n",
      "dtype: float64\n",
      "                            OLS Regression Results                            \n",
      "==============================================================================\n",
      "Dep. Variable:               mean_tox   R-squared:                       0.009\n",
      "Model:                            OLS   Adj. R-squared:                  0.008\n",
      "Method:                 Least Squares   F-statistic:                     126.6\n",
      "Date:                Sat, 27 Nov 2021   Prob (F-statistic):           3.06e-29\n",
      "Time:                        10:08:10   Log-Likelihood:                 14607.\n",
      "No. Observations:               14724   AIC:                        -2.921e+04\n",
      "Df Residuals:                   14722   BIC:                        -2.919e+04\n",
      "Df Model:                           1                                         \n",
      "Covariance Type:            nonrobust                                         \n",
      "===================================================================================\n",
      "                      coef    std err          t      P>|t|      [0.025      0.975]\n",
      "-----------------------------------------------------------------------------------\n",
      "const               0.2151      0.004     54.157      0.000       0.207       0.223\n",
      "strength_logged     0.0061      0.001     11.250      0.000       0.005       0.007\n",
      "==============================================================================\n",
      "Omnibus:                     2313.482   Durbin-Watson:                   1.905\n",
      "Prob(Omnibus):                  0.000   Jarque-Bera (JB):             4313.346\n",
      "Skew:                           0.992   Prob(JB):                         0.00\n",
      "Kurtosis:                       4.759   Cond. No.                         40.1\n",
      "==============================================================================\n",
      "\n",
      "Notes:\n",
      "[1] Standard Errors assume that the covariance matrix of the errors is correctly specified.\n",
      "None\n",
      "\n",
      "********* OLS *********\n",
      "x = strength\n",
      "y = max_tox\n",
      "const              0.548632\n",
      "strength_logged    0.044483\n",
      "dtype: float64\n",
      "                            OLS Regression Results                            \n",
      "==============================================================================\n",
      "Dep. Variable:                max_tox   R-squared:                       0.169\n",
      "Model:                            OLS   Adj. R-squared:                  0.169\n",
      "Method:                 Least Squares   F-statistic:                     2999.\n",
      "Date:                Sat, 27 Nov 2021   Prob (F-statistic):               0.00\n",
      "Time:                        10:08:10   Log-Likelihood:                 8631.2\n",
      "No. Observations:               14724   AIC:                        -1.726e+04\n",
      "Df Residuals:                   14722   BIC:                        -1.724e+04\n",
      "Df Model:                           1                                         \n",
      "Covariance Type:            nonrobust                                         \n",
      "===================================================================================\n",
      "                      coef    std err          t      P>|t|      [0.025      0.975]\n",
      "-----------------------------------------------------------------------------------\n",
      "const               0.5486      0.006     92.048      0.000       0.537       0.560\n",
      "strength_logged     0.0445      0.001     54.766      0.000       0.043       0.046\n",
      "==============================================================================\n",
      "Omnibus:                     5938.277   Durbin-Watson:                   1.958\n",
      "Prob(Omnibus):                  0.000   Jarque-Bera (JB):            25632.369\n",
      "Skew:                          -1.978   Prob(JB):                         0.00\n",
      "Kurtosis:                       8.111   Cond. No.                         40.1\n",
      "==============================================================================\n",
      "\n",
      "Notes:\n",
      "[1] Standard Errors assume that the covariance matrix of the errors is correctly specified.\n",
      "None\n",
      "\n",
      "********* OLS *********\n",
      "x = strength\n",
      "y = min_tox\n",
      "const              0.064816\n",
      "strength_logged   -0.004892\n",
      "dtype: float64\n",
      "                            OLS Regression Results                            \n",
      "==============================================================================\n",
      "Dep. Variable:                min_tox   R-squared:                       0.157\n",
      "Model:                            OLS   Adj. R-squared:                  0.157\n",
      "Method:                 Least Squares   F-statistic:                     2733.\n",
      "Date:                Sat, 27 Nov 2021   Prob (F-statistic):               0.00\n",
      "Time:                        10:08:10   Log-Likelihood:                 40448.\n",
      "No. Observations:               14724   AIC:                        -8.089e+04\n",
      "Df Residuals:                   14722   BIC:                        -8.088e+04\n",
      "Df Model:                           1                                         \n",
      "Covariance Type:            nonrobust                                         \n",
      "===================================================================================\n",
      "                      coef    std err          t      P>|t|      [0.025      0.975]\n",
      "-----------------------------------------------------------------------------------\n",
      "const               0.0648      0.001     94.382      0.000       0.063       0.066\n",
      "strength_logged    -0.0049   9.36e-05    -52.278      0.000      -0.005      -0.005\n",
      "==============================================================================\n",
      "Omnibus:                     9027.030   Durbin-Watson:                   1.952\n",
      "Prob(Omnibus):                  0.000   Jarque-Bera (JB):           445187.023\n",
      "Skew:                           2.280   Prob(JB):                         0.00\n",
      "Kurtosis:                      29.549   Cond. No.                         40.1\n",
      "==============================================================================\n",
      "\n",
      "Notes:\n",
      "[1] Standard Errors assume that the covariance matrix of the errors is correctly specified.\n",
      "None\n"
     ]
    }
   ],
   "source": [
    "for col in [\"mean_tox\", \"max_tox\", \"min_tox\"]:\n",
    "    print(\"\\n********* OLS *********\")\n",
    "    print(\"x = strength\")\n",
    "    print(\"y =\", col)\n",
    "    OLS_fit(nodedf.dropna()[\"strength_logged\"], nodedf.dropna()[col])"
   ]
  },
  {
   "cell_type": "markdown",
   "metadata": {},
   "source": [
    "### toxicity paradox? My neighbors are on average more toxic than me?"
   ]
  },
  {
   "cell_type": "code",
   "execution_count": 34,
   "metadata": {},
   "outputs": [],
   "source": [
    "TOXICITY_DICT = nodedf[[\"Id\",\"mean_tox\"]].set_index(\"Id\").to_dict()[\"mean_tox\"]"
   ]
  },
  {
   "cell_type": "code",
   "execution_count": 35,
   "metadata": {},
   "outputs": [],
   "source": [
    "def examine_gfps(g):\n",
    "    gfps = []\n",
    "    for i,(n,v) in enumerate(TOXICITY_DICT.items()):\n",
    "        if i%1000==0: print(\"progress:\", i/len(TOXICITY_DICT))\n",
    "        neighbors = g[n]\n",
    "        my_tox = v\n",
    "        env_tox = np.mean([TOXICITY_DICT[x] for x in neighbors])\n",
    "        if my_tox > env_tox:  # I'm more toxic than my neighbors\n",
    "            gfps.append(0)\n",
    "        else:  # my neighbors are more toxic than me\n",
    "            gfps.append(1)\n",
    "    nodedf[\"gfp\"] = gfps"
   ]
  },
  {
   "cell_type": "code",
   "execution_count": 36,
   "metadata": {},
   "outputs": [
    {
     "name": "stdout",
     "output_type": "stream",
     "text": [
      "progress: 0.0\n",
      "progress: 0.06790710308298248\n",
      "progress: 0.13581420616596496\n",
      "progress: 0.20372130924894744\n",
      "progress: 0.2716284123319299\n",
      "progress: 0.3395355154149124\n",
      "progress: 0.40744261849789487\n",
      "progress: 0.47534972158087735\n",
      "progress: 0.5432568246638598\n",
      "progress: 0.6111639277468424\n",
      "progress: 0.6790710308298248\n",
      "progress: 0.7469781339128073\n",
      "progress: 0.8148852369957897\n",
      "progress: 0.8827923400787723\n",
      "progress: 0.9506994431617547\n"
     ]
    }
   ],
   "source": [
    "examine_gfps(userg2013)"
   ]
  },
  {
   "cell_type": "code",
   "execution_count": 38,
   "metadata": {},
   "outputs": [
    {
     "data": {
      "image/png": "[encoded data removed]",
      "text/plain": [
       "<Figure size 518.4x432 with 2 Axes>"
      ]
     },
     "metadata": {
      "needs_background": "light"
     },
     "output_type": "display_data"
    }
   ],
   "source": [
    "fig, ax = plt.subplots(figsize=(7.2,6))\n",
    "x = nodedf[nodedf[\"gfp\"]==1].dropna()[\"strength_logged\"]\n",
    "y = nodedf[nodedf[\"gfp\"]==1].dropna()[\"mean_tox\"]\n",
    "plt.hist2d(x, y, (80,80), cmap=\"Reds\")\n",
    "plt.xlabel(\"strength (logged)\", fontsize=14)\n",
    "plt.ylabel(\"toxicity\", fontsize=14)\n",
    "plt.colorbar()\n",
    "plt.savefig(ROOTPATH + f\"output/fig/fpg2013.svg\")"
   ]
  },
  {
   "cell_type": "markdown",
   "metadata": {},
   "source": [
    "### does these toxic users cluster together?\n",
    "\n",
    "**Visualization Problem**: too dense!"
   ]
  },
  {
   "cell_type": "code",
   "execution_count": 41,
   "metadata": {},
   "outputs": [],
   "source": [
    "def build_filter(g):\n",
    "    print(\"building filter...\")\n",
    "    return disparity_filter(g)\n",
    "    \n",
    "def cut_edge(g, alpha):\n",
    "    g2 = nx.Graph()\n",
    "    print(\"cutting edges...\")\n",
    "    for i,(u,v,d) in enumerate(g.edges(data=True)):\n",
    "        if i%500000==0: print(\"progress:\", i/len(g.edges()))\n",
    "        if d[\"alpha\"] < alpha:\n",
    "            g2.add_edge(u,v,weight=d[\"weight\"])\n",
    "    return g2"
   ]
  },
  {
   "cell_type": "code",
   "execution_count": 42,
   "metadata": {
    "scrolled": true
   },
   "outputs": [
    {
     "name": "stdout",
     "output_type": "stream",
     "text": [
      "building filter...\n",
      "progress: 0.0\n",
      "progress: 0.006790710308298248\n",
      "progress: 0.013581420616596496\n",
      "progress: 0.020372130924894743\n",
      "progress: 0.027162841233192993\n",
      "progress: 0.03395355154149124\n",
      "progress: 0.040744261849789486\n",
      "progress: 0.04753497215808774\n",
      "progress: 0.054325682466385986\n",
      "progress: 0.06111639277468423\n",
      "progress: 0.06790710308298248\n",
      "progress: 0.07469781339128073\n",
      "progress: 0.08148852369957897\n",
      "progress: 0.08827923400787722\n",
      "progress: 0.09506994431617548\n",
      "progress: 0.10186065462447372\n",
      "progress: 0.10865136493277197\n",
      "progress: 0.11544207524107021\n",
      "progress: 0.12223278554936846\n",
      "progress: 0.1290234958576667\n",
      "progress: 0.13581420616596496\n",
      "progress: 0.1426049164742632\n",
      "progress: 0.14939562678256146\n",
      "progress: 0.15618633709085972\n",
      "progress: 0.16297704739915794\n",
      "progress: 0.1697677577074562\n",
      "progress: 0.17655846801575445\n",
      "progress: 0.1833491783240527\n",
      "progress: 0.19013988863235096\n",
      "progress: 0.19693059894064918\n",
      "progress: 0.20372130924894744\n",
      "progress: 0.2105120195572457\n",
      "progress: 0.21730272986554394\n",
      "progress: 0.2240934401738422\n",
      "progress: 0.23088415048214042\n",
      "progress: 0.23767486079043867\n",
      "progress: 0.24446557109873693\n",
      "progress: 0.25125628140703515\n",
      "progress: 0.2580469917153334\n",
      "progress: 0.26483770202363166\n",
      "progress: 0.2716284123319299\n",
      "progress: 0.27841912264022817\n",
      "progress: 0.2852098329485264\n",
      "progress: 0.2920005432568247\n",
      "progress: 0.2987912535651229\n",
      "progress: 0.3055819638734212\n",
      "progress: 0.31237267418171943\n",
      "progress: 0.31916338449001763\n",
      "progress: 0.3259540947983159\n",
      "progress: 0.33274480510661414\n",
      "progress: 0.3395355154149124\n",
      "progress: 0.34632622572321065\n",
      "progress: 0.3531169360315089\n",
      "progress: 0.35990764633980715\n",
      "progress: 0.3666983566481054\n",
      "progress: 0.37348906695640366\n",
      "progress: 0.3802797772647019\n",
      "progress: 0.3870704875730001\n",
      "progress: 0.39386119788129836\n",
      "progress: 0.4006519081895966\n",
      "progress: 0.40744261849789487\n",
      "progress: 0.4142333288061931\n",
      "progress: 0.4210240391144914\n",
      "progress: 0.42781474942278963\n",
      "progress: 0.4346054597310879\n",
      "progress: 0.44139617003938614\n",
      "progress: 0.4481868803476844\n",
      "progress: 0.4549775906559826\n",
      "progress: 0.46176830096428084\n",
      "progress: 0.4685590112725791\n",
      "progress: 0.47534972158087735\n",
      "progress: 0.4821404318891756\n",
      "progress: 0.48893114219747386\n",
      "progress: 0.4957218525057721\n",
      "progress: 0.5025125628140703\n",
      "progress: 0.5093032731223686\n",
      "progress: 0.5160939834306668\n",
      "progress: 0.5228846937389651\n",
      "progress: 0.5296754040472633\n",
      "progress: 0.5364661143555616\n",
      "progress: 0.5432568246638598\n",
      "progress: 0.5500475349721581\n",
      "progress: 0.5568382452804563\n",
      "progress: 0.5636289555887546\n",
      "progress: 0.5704196658970528\n",
      "progress: 0.5772103762053511\n",
      "progress: 0.5840010865136493\n",
      "progress: 0.5907917968219476\n",
      "progress: 0.5975825071302459\n",
      "progress: 0.6043732174385441\n",
      "progress: 0.6111639277468424\n",
      "progress: 0.6179546380551406\n",
      "progress: 0.6247453483634389\n",
      "progress: 0.631536058671737\n",
      "progress: 0.6383267689800353\n",
      "progress: 0.6451174792883335\n",
      "progress: 0.6519081895966318\n",
      "progress: 0.65869889990493\n",
      "progress: 0.6654896102132283\n",
      "progress: 0.6722803205215265\n",
      "progress: 0.6790710308298248\n",
      "progress: 0.685861741138123\n",
      "progress: 0.6926524514464213\n",
      "progress: 0.6994431617547195\n",
      "progress: 0.7062338720630178\n",
      "progress: 0.713024582371316\n",
      "progress: 0.7198152926796143\n",
      "progress: 0.7266060029879126\n",
      "progress: 0.7333967132962108\n",
      "progress: 0.7401874236045091\n",
      "progress: 0.7469781339128073\n",
      "progress: 0.7537688442211056\n",
      "progress: 0.7605595545294038\n",
      "progress: 0.7673502648377021\n",
      "progress: 0.7741409751460002\n",
      "progress: 0.7809316854542985\n",
      "progress: 0.7877223957625967\n",
      "progress: 0.794513106070895\n",
      "progress: 0.8013038163791932\n",
      "progress: 0.8080945266874915\n",
      "progress: 0.8148852369957897\n",
      "progress: 0.821675947304088\n",
      "progress: 0.8284666576123862\n",
      "progress: 0.8352573679206845\n",
      "progress: 0.8420480782289828\n",
      "progress: 0.848838788537281\n",
      "progress: 0.8556294988455793\n",
      "progress: 0.8624202091538775\n",
      "progress: 0.8692109194621758\n",
      "progress: 0.876001629770474\n",
      "progress: 0.8827923400787723\n",
      "progress: 0.8895830503870705\n",
      "progress: 0.8963737606953688\n",
      "progress: 0.903164471003667\n",
      "progress: 0.9099551813119652\n",
      "progress: 0.9167458916202634\n",
      "progress: 0.9235366019285617\n",
      "progress: 0.9303273122368599\n",
      "progress: 0.9371180225451582\n",
      "progress: 0.9439087328534564\n",
      "progress: 0.9506994431617547\n",
      "progress: 0.957490153470053\n",
      "progress: 0.9642808637783512\n",
      "progress: 0.9710715740866495\n",
      "progress: 0.9778622843949477\n",
      "progress: 0.984652994703246\n",
      "progress: 0.9914437050115442\n",
      "progress: 0.9982344153198425\n",
      "cutting edges...\n",
      "progress: 0.0\n",
      "progress: 0.04148017525539966\n",
      "progress: 0.08296035051079932\n",
      "progress: 0.12444052576619899\n",
      "progress: 0.16592070102159864\n",
      "progress: 0.2074008762769983\n",
      "progress: 0.24888105153239798\n",
      "progress: 0.29036122678779763\n",
      "progress: 0.3318414020431973\n",
      "progress: 0.37332157729859694\n",
      "progress: 0.4148017525539966\n",
      "progress: 0.45628192780939625\n",
      "progress: 0.49776210306479596\n",
      "progress: 0.5392422783201956\n",
      "progress: 0.5807224535755953\n",
      "progress: 0.6222026288309949\n",
      "progress: 0.6636828040863946\n",
      "progress: 0.7051629793417943\n",
      "progress: 0.7466431545971939\n",
      "progress: 0.7881233298525936\n",
      "progress: 0.8296035051079932\n",
      "progress: 0.8710836803633929\n",
      "progress: 0.9125638556187925\n",
      "progress: 0.9540440308741922\n",
      "progress: 0.9955242061295919\n"
     ]
    }
   ],
   "source": [
    "userg2013 = build_filter(userg2013)\n",
    "userg2013_small = cut_edge(userg2013, alpha=0.005)"
   ]
  },
  {
   "cell_type": "code",
   "execution_count": 43,
   "metadata": {},
   "outputs": [],
   "source": [
    "def export_graph_csv(g, nodedf): \n",
    "    nodecsv = pd.DataFrame()\n",
    "    nodecsv[\"Id\"] = list(g.nodes())\n",
    "    nodecsv[\"Label\"] = nodecsv[\"Id\"].map(lambda x: index2subr[x])\n",
    "    nodecsv = nodecsv.merge(nodedf[[\"Id\",\"mean_tox\"]], on=\"Id\", how=\"left\")\n",
    "    \n",
    "    edgecsv = pd.DataFrame()\n",
    "    sources = []\n",
    "    targets = []\n",
    "    weights = []\n",
    "    for i,(u,v,d) in enumerate(g.edges(data=True)):\n",
    "        sources.append(u)\n",
    "        targets.append(v)\n",
    "        weights.append(d[\"weight\"])\n",
    "    edgecsv[\"Source\"] = sources\n",
    "    edgecsv[\"Target\"] = targets\n",
    "    edgecsv[\"Weight\"] = weights\n",
    "    \n",
    "    edgecsv.to_csv(ROOTPATH + \"output/user_edge_2013.csv\", index=False)\n",
    "    nodecsv.to_csv(ROOTPATH + \"output/user_node_2013.csv\", index=False)\n",
    "    return edgecsv, nodecsv"
   ]
  },
  {
   "cell_type": "code",
   "execution_count": 44,
   "metadata": {},
   "outputs": [],
   "source": [
    "ec, nc = export_graph_csv(userg2013_small, nodedf)"
   ]
  },
  {
   "cell_type": "code",
   "execution_count": null,
   "metadata": {},
   "outputs": [],
   "source": []
  }
 ],
 "metadata": {
  "kernelspec": {
   "display_name": "Python 3",
   "language": "python",
   "name": "python3"
  },
  "language_info": {
   "codemirror_mode": {
    "name": "ipython",
    "version": 3
   },
   "file_extension": ".py",
   "mimetype": "text/x-python",
   "name": "python",
   "nbconvert_exporter": "python",
   "pygments_lexer": "ipython3",
   "version": "3.7.7"
  },
  "toc": {
   "base_numbering": 1,
   "nav_menu": {},
   "number_sections": true,
   "sideBar": true,
   "skip_h1_title": false,
   "title_cell": "Table of Contents",
   "title_sidebar": "Contents",
   "toc_cell": false,
   "toc_position": {},
   "toc_section_display": true,
   "toc_window_display": true
  }
 },
 "nbformat": 4,
 "nbformat_minor": 4
}
