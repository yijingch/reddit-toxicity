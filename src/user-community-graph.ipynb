{
 "cells": [
  {
   "cell_type": "markdown",
   "metadata": {},
   "source": [
    "# the projection of community based on users and topics\n",
    "\n",
    "**Introduction**\\\n",
    "Online political communication facilitated by social media platforms has engaged the public in cyberspace with flexible community boundaries and topical agendas. Despite its convenience and openness, the shared space is nevertheless facing problems such as opinion polarization, dis/misinformation spreading, and toxic trolling behaviors that pose threats to a tolerant and civil common ground. For computational social scientists, these challenges ask for an up-to-date understanding of how users navigate in a virtual platform and participate in political conversations. Using a dataset of 49 active political subreddits from 2012 to 2015, this project adopts a network analytics approach to present a case study of how users, topics and communities are interconnected in online political discussions, and how the structure of nested threads (e.g., structural vitality[1]) correlate with the level of conversation toxicity.\n",
    "\n",
    "**Dataset**\\\n",
    "I have collected a dataset of all submissions and comments from 49 political subreddits from 2012 to 2015 using Pushshift API[2]. Each entry has a corresponding id, timestamp, author, text body and toxicity score (assigned by Perspective API).\n",
    "\n",
    "**Reference**\\\n",
    "[1] Goel, S., Anderson, A., Hofman, J., & Watts, D. J. (2016). The structural virality of online diffusion. Management Science, 62(1), 180-196.\\\n",
    "[2] Baumgartner, J., Zannettou, S., Keegan, B., Squire, M., & Blackburn, J. (2020, May). The pushshift reddit dataset. In Proceedings of the international AAAI conference on web and social media (Vol. 14, pp. 830-839).\n"
   ]
  },
  {
   "cell_type": "code",
   "execution_count": 1,
   "metadata": {},
   "outputs": [],
   "source": [
    "import pandas as pd\n",
    "import numpy as np\n",
    "import networkx as nx\n",
    "import sqlite3\n",
    "import os\n",
    "import re\n",
    "import seaborn as sns\n",
    "import matplotlib.pyplot as plt\n",
    "from networkx.algorithms import bipartite\n",
    "from itertools import combinations\n",
    "\n",
    "import warnings\n",
    "warnings.filterwarnings('ignore')\n",
    "\n",
    "from utils import ROOTPATH, build_df_year, generate_index"
   ]
  },
  {
   "cell_type": "code",
   "execution_count": 2,
   "metadata": {},
   "outputs": [
    {
     "name": "stdout",
     "output_type": "stream",
     "text": [
      "building base dataframe for year 2012...\n",
      "- fetching submissions for year 2012\n",
      "- fetching comments for year 2012\n"
     ]
    }
   ],
   "source": [
    "df2012 = build_df_year(2012)\n",
    "generate_index()\n",
    "\n",
    "from utils import USERS, SUBREDDITS, user2index, index2user, subr2index, index2subr"
   ]
  },
  {
   "cell_type": "markdown",
   "metadata": {},
   "source": [
    "## user-level\n",
    "\n",
    "* link:\n",
    "    - shared subreddits (too dense, does not make sense intuitively)\n",
    "    - shared submissions"
   ]
  },
  {
   "cell_type": "code",
   "execution_count": 3,
   "metadata": {},
   "outputs": [],
   "source": [
    "def plot_user_subr_distribution(dfyear, year):\n",
    "    user_aggr = dfyear.groupby(\"author\").agg({\"subreddit\": lambda x: set(list(x))}).reset_index()\n",
    "    user_aggr[\"n_subr\"] = user_aggr[\"subreddit\"].map(lambda x: len(x))\n",
    "    sns.histplot(user_aggr[\"n_subr\"], bins=15, color=\"#FF4500\")\n",
    "    plt.xscale(\"log\")\n",
    "    plt.yscale(\"log\")\n",
    "    plt.xlabel(\"# of subreddits\", fontsize=14)\n",
    "    plt.ylabel(\"# of users\", fontsize=14)\n",
    "    # plt.show()\n",
    "    plt.savefig(ROOTPATH + f\"output/fig/user_subreddit_distribution_{year}.svg\")\n",
    "    return user_aggr"
   ]
  },
  {
   "cell_type": "code",
   "execution_count": 4,
   "metadata": {},
   "outputs": [],
   "source": [
    "def plot_user_subm_distribution(dfyear, year):\n",
    "    user_aggr = dfyear.groupby(\"author\").agg({\"submission_id\": lambda x: set(list(x))}).reset_index()\n",
    "    user_aggr[\"n_subm\"] = user_aggr[\"submission_id\"].map(lambda x: len(x))\n",
    "    sns.histplot(user_aggr[\"n_subm\"], bins=20, color=\"#FF4500\")\n",
    "    plt.xscale(\"log\")\n",
    "    plt.yscale(\"log\")\n",
    "    plt.xlabel(\"# of submissions\", fontsize=14)\n",
    "    plt.ylabel(\"# of users\", fontsize=14)\n",
    "    # plt.show()\n",
    "    plt.savefig(ROOTPATH + f\"output/fig/user_submission_distribution_{year}.svg\")\n",
    "    return user_aggr"
   ]
  },
  {
   "cell_type": "code",
   "execution_count": 5,
   "metadata": {},
   "outputs": [
    {
     "data": {
      "image/png": "[encoded data removed]",
      "text/plain": [
       "<Figure size 432x288 with 1 Axes>"
      ]
     },
     "metadata": {
      "needs_background": "light"
     },
     "output_type": "display_data"
    }
   ],
   "source": [
    "user_aggr2012 = plot_user_subm_distribution(df2012, \"2012\")"
   ]
  },
  {
   "cell_type": "code",
   "execution_count": 6,
   "metadata": {},
   "outputs": [],
   "source": [
    "ACTIVEUSERS = user_aggr2012[user_aggr2012[\"n_subm\"]>=10].author.unique()\n",
    "df2012 = df2012[df2012[\"author\"].isin(ACTIVEUSERS)]"
   ]
  },
  {
   "cell_type": "code",
   "execution_count": 7,
   "metadata": {},
   "outputs": [],
   "source": [
    "subm_aggr = df2012.groupby(\"submission_id\").agg({\"author\": lambda x: set(list(x))}).reset_index()\n",
    "subm_aggr[\"n_user\"] = subm_aggr[\"author\"].map(lambda x: len(x))"
   ]
  },
  {
   "cell_type": "code",
   "execution_count": 11,
   "metadata": {},
   "outputs": [
    {
     "data": {
      "text/html": [
       "<div>\n",
       "<style scoped>\n",
       "    .dataframe tbody tr th:only-of-type {\n",
       "        vertical-align: middle;\n",
       "    }\n",
       "\n",
       "    .dataframe tbody tr th {\n",
       "        vertical-align: top;\n",
       "    }\n",
       "\n",
       "    .dataframe thead th {\n",
       "        text-align: right;\n",
       "    }\n",
       "</style>\n",
       "<table border=\"1\" class=\"dataframe\">\n",
       "  <thead>\n",
       "    <tr style=\"text-align: right;\">\n",
       "      <th></th>\n",
       "      <th>submission_id</th>\n",
       "      <th>author</th>\n",
       "      <th>n_user</th>\n",
       "    </tr>\n",
       "  </thead>\n",
       "  <tbody>\n",
       "    <tr>\n",
       "      <th>3</th>\n",
       "      <td>1000ce</td>\n",
       "      <td>{doctorquien, IrishJoe, Pendit76, willanthony,...</td>\n",
       "      <td>6</td>\n",
       "    </tr>\n",
       "    <tr>\n",
       "      <th>4</th>\n",
       "      <td>1000en</td>\n",
       "      <td>{hollaback_girl, tophat_jones, ufo8314, 100000...</td>\n",
       "      <td>11</td>\n",
       "    </tr>\n",
       "    <tr>\n",
       "      <th>7</th>\n",
       "      <td>1000oi</td>\n",
       "      <td>{Resp_Sup, theodorAdorno, internetUser0001, to...</td>\n",
       "      <td>29</td>\n",
       "    </tr>\n",
       "    <tr>\n",
       "      <th>8</th>\n",
       "      <td>1000su</td>\n",
       "      <td>{GOPWN, samurai77, balorina, cass314, moderp, ...</td>\n",
       "      <td>118</td>\n",
       "    </tr>\n",
       "    <tr>\n",
       "      <th>11</th>\n",
       "      <td>1001cf</td>\n",
       "      <td>{oussan, badsider, xnihil0zer0}</td>\n",
       "      <td>3</td>\n",
       "    </tr>\n",
       "    <tr>\n",
       "      <th>...</th>\n",
       "      <td>...</td>\n",
       "      <td>...</td>\n",
       "      <td>...</td>\n",
       "    </tr>\n",
       "    <tr>\n",
       "      <th>374627</th>\n",
       "      <td>zzysf</td>\n",
       "      <td>{Gil_V, yep45, AmericCanuck, feduzzle}</td>\n",
       "      <td>4</td>\n",
       "    </tr>\n",
       "    <tr>\n",
       "      <th>374631</th>\n",
       "      <td>zzzk6</td>\n",
       "      <td>{moving-target, javastripped, MagCynic, ProBot...</td>\n",
       "      <td>42</td>\n",
       "    </tr>\n",
       "    <tr>\n",
       "      <th>374633</th>\n",
       "      <td>zzzte</td>\n",
       "      <td>{MY_NAME_IS_TODD, TomCat1948, matrixfs, palsh7}</td>\n",
       "      <td>4</td>\n",
       "    </tr>\n",
       "    <tr>\n",
       "      <th>374634</th>\n",
       "      <td>zzzus</td>\n",
       "      <td>{FarsideSC, doofy10}</td>\n",
       "      <td>2</td>\n",
       "    </tr>\n",
       "    <tr>\n",
       "      <th>374635</th>\n",
       "      <td>zzzw7</td>\n",
       "      <td>{Human237, Finkarelli, MY_NAME_IS_TODD, Mystic...</td>\n",
       "      <td>9</td>\n",
       "    </tr>\n",
       "  </tbody>\n",
       "</table>\n",
       "<p>196149 rows × 3 columns</p>\n",
       "</div>"
      ],
      "text/plain": [
       "       submission_id                                             author  \\\n",
       "3             1000ce  {doctorquien, IrishJoe, Pendit76, willanthony,...   \n",
       "4             1000en  {hollaback_girl, tophat_jones, ufo8314, 100000...   \n",
       "7             1000oi  {Resp_Sup, theodorAdorno, internetUser0001, to...   \n",
       "8             1000su  {GOPWN, samurai77, balorina, cass314, moderp, ...   \n",
       "11            1001cf                    {oussan, badsider, xnihil0zer0}   \n",
       "...              ...                                                ...   \n",
       "374627         zzysf             {Gil_V, yep45, AmericCanuck, feduzzle}   \n",
       "374631         zzzk6  {moving-target, javastripped, MagCynic, ProBot...   \n",
       "374633         zzzte    {MY_NAME_IS_TODD, TomCat1948, matrixfs, palsh7}   \n",
       "374634         zzzus                               {FarsideSC, doofy10}   \n",
       "374635         zzzw7  {Human237, Finkarelli, MY_NAME_IS_TODD, Mystic...   \n",
       "\n",
       "        n_user  \n",
       "3            6  \n",
       "4           11  \n",
       "7           29  \n",
       "8          118  \n",
       "11           3  \n",
       "...        ...  \n",
       "374627       4  \n",
       "374631      42  \n",
       "374633       4  \n",
       "374634       2  \n",
       "374635       9  \n",
       "\n",
       "[196149 rows x 3 columns]"
      ]
     },
     "execution_count": 11,
     "metadata": {},
     "output_type": "execute_result"
    }
   ],
   "source": [
    "subm_aggr[subm_aggr[\"n_user\"]>1]"
   ]
  },
  {
   "cell_type": "code",
   "execution_count": null,
   "metadata": {
    "scrolled": true
   },
   "outputs": [
    {
     "name": "stdout",
     "output_type": "stream",
     "text": [
      "progress: 0.0\n",
      "progress: 0.025490825851775947\n",
      "progress: 0.05098165170355189\n",
      "progress: 0.07647247755532784\n",
      "progress: 0.10196330340710379\n",
      "progress: 0.12745412925887972\n",
      "progress: 0.15294495511065567\n",
      "progress: 0.17843578096243162\n",
      "progress: 0.20392660681420757\n",
      "progress: 0.22941743266598352\n",
      "progress: 0.25490825851775945\n",
      "progress: 0.2803990843695354\n",
      "progress: 0.30588991022131135\n",
      "progress: 0.3313807360730873\n",
      "progress: 0.35687156192486325\n",
      "progress: 0.38236238777663917\n",
      "progress: 0.40785321362841515\n",
      "progress: 0.43334403948019107\n",
      "progress: 0.45883486533196705\n",
      "progress: 0.48432569118374297\n",
      "progress: 0.5098165170355189\n",
      "progress: 0.5353073428872949\n",
      "progress: 0.5607981687390708\n",
      "progress: 0.5862889945908467\n",
      "progress: 0.6117798204426227\n",
      "progress: 0.6372706462943987\n",
      "progress: 0.6627614721461746\n",
      "progress: 0.6882522979979505\n",
      "progress: 0.7137431238497265\n",
      "progress: 0.7392339497015025\n",
      "progress: 0.7647247755532783\n",
      "progress: 0.7902156014050543\n",
      "progress: 0.8157064272568303\n"
     ]
    }
   ],
   "source": [
    "user_edges = {}\n",
    "subm_aggr = subm_aggr[subm_aggr[\"n_user\"]>1].reset_index().drop(columns=[\"index\"])\n",
    "\n",
    "for i,row in subm_aggr.iterrows():\n",
    "#     subm = row[\"submission_id\"]\n",
    "    users = list(row[\"author\"])\n",
    "    if i%5000==0: print(\"progress:\", i/len(subm_aggr))\n",
    "    userpairs = [*combinations(users,2)]\n",
    "    for i,up in enumerate(userpairs):\n",
    "        u1 = min(user2index[up[0]],user2index[up[1]])\n",
    "        u2 = max(user2index[up[0]],user2index[up[1]])\n",
    "        try:\n",
    "            user_edges[(u1, u2)] += 1\n",
    "        except:\n",
    "            user_edges[(u1, u2)] = 1"
   ]
  },
  {
   "cell_type": "code",
   "execution_count": 26,
   "metadata": {},
   "outputs": [
    {
     "data": {
      "text/html": [
       "<div>\n",
       "<style scoped>\n",
       "    .dataframe tbody tr th:only-of-type {\n",
       "        vertical-align: middle;\n",
       "    }\n",
       "\n",
       "    .dataframe tbody tr th {\n",
       "        vertical-align: top;\n",
       "    }\n",
       "\n",
       "    .dataframe thead th {\n",
       "        text-align: right;\n",
       "    }\n",
       "</style>\n",
       "<table border=\"1\" class=\"dataframe\">\n",
       "  <thead>\n",
       "    <tr style=\"text-align: right;\">\n",
       "      <th></th>\n",
       "      <th>submission_id</th>\n",
       "      <th>author</th>\n",
       "      <th>n_user</th>\n",
       "    </tr>\n",
       "  </thead>\n",
       "  <tbody>\n",
       "    <tr>\n",
       "      <th>0</th>\n",
       "      <td>1000ce</td>\n",
       "      <td>{DonkeyDickDoak, willanthony, doctorquien, CRY...</td>\n",
       "      <td>6</td>\n",
       "    </tr>\n",
       "    <tr>\n",
       "      <th>1</th>\n",
       "      <td>1000en</td>\n",
       "      <td>{Anjin, 1000000students, NWTboy, dfaraci, Detr...</td>\n",
       "      <td>11</td>\n",
       "    </tr>\n",
       "    <tr>\n",
       "      <th>2</th>\n",
       "      <td>1000oi</td>\n",
       "      <td>{HuMcK, Mythril_Zombie, Inuma, shotglass49, Re...</td>\n",
       "      <td>29</td>\n",
       "    </tr>\n",
       "    <tr>\n",
       "      <th>3</th>\n",
       "      <td>1000su</td>\n",
       "      <td>{nationalistsaturnist, nosferatv, L_Duo, cass3...</td>\n",
       "      <td>118</td>\n",
       "    </tr>\n",
       "    <tr>\n",
       "      <th>4</th>\n",
       "      <td>1001cf</td>\n",
       "      <td>{xnihil0zer0, oussan, badsider}</td>\n",
       "      <td>3</td>\n",
       "    </tr>\n",
       "    <tr>\n",
       "      <th>...</th>\n",
       "      <td>...</td>\n",
       "      <td>...</td>\n",
       "      <td>...</td>\n",
       "    </tr>\n",
       "    <tr>\n",
       "      <th>196144</th>\n",
       "      <td>zzysf</td>\n",
       "      <td>{Gil_V, yep45, AmericCanuck, feduzzle}</td>\n",
       "      <td>4</td>\n",
       "    </tr>\n",
       "    <tr>\n",
       "      <th>196145</th>\n",
       "      <td>zzzk6</td>\n",
       "      <td>{CthulhusCallerID, IntrepidSI, this_too_shall_...</td>\n",
       "      <td>42</td>\n",
       "    </tr>\n",
       "    <tr>\n",
       "      <th>196146</th>\n",
       "      <td>zzzte</td>\n",
       "      <td>{palsh7, TomCat1948, matrixfs, MY_NAME_IS_TODD}</td>\n",
       "      <td>4</td>\n",
       "    </tr>\n",
       "    <tr>\n",
       "      <th>196147</th>\n",
       "      <td>zzzus</td>\n",
       "      <td>{doofy10, FarsideSC}</td>\n",
       "      <td>2</td>\n",
       "    </tr>\n",
       "    <tr>\n",
       "      <th>196148</th>\n",
       "      <td>zzzw7</td>\n",
       "      <td>{Lawtonfogle, ArkadiusMaximus, markevens, Hack...</td>\n",
       "      <td>9</td>\n",
       "    </tr>\n",
       "  </tbody>\n",
       "</table>\n",
       "<p>196149 rows × 3 columns</p>\n",
       "</div>"
      ],
      "text/plain": [
       "       submission_id                                             author  \\\n",
       "0             1000ce  {DonkeyDickDoak, willanthony, doctorquien, CRY...   \n",
       "1             1000en  {Anjin, 1000000students, NWTboy, dfaraci, Detr...   \n",
       "2             1000oi  {HuMcK, Mythril_Zombie, Inuma, shotglass49, Re...   \n",
       "3             1000su  {nationalistsaturnist, nosferatv, L_Duo, cass3...   \n",
       "4             1001cf                    {xnihil0zer0, oussan, badsider}   \n",
       "...              ...                                                ...   \n",
       "196144         zzysf             {Gil_V, yep45, AmericCanuck, feduzzle}   \n",
       "196145         zzzk6  {CthulhusCallerID, IntrepidSI, this_too_shall_...   \n",
       "196146         zzzte    {palsh7, TomCat1948, matrixfs, MY_NAME_IS_TODD}   \n",
       "196147         zzzus                               {doofy10, FarsideSC}   \n",
       "196148         zzzw7  {Lawtonfogle, ArkadiusMaximus, markevens, Hack...   \n",
       "\n",
       "        n_user  \n",
       "0            6  \n",
       "1           11  \n",
       "2           29  \n",
       "3          118  \n",
       "4            3  \n",
       "...        ...  \n",
       "196144       4  \n",
       "196145      42  \n",
       "196146       4  \n",
       "196147       2  \n",
       "196148       9  \n",
       "\n",
       "[196149 rows x 3 columns]"
      ]
     },
     "execution_count": 26,
     "metadata": {},
     "output_type": "execute_result"
    }
   ],
   "source": [
    "subm_aggr[subm_aggr[\"n_user\"]>1].reset_index().drop(columns=[\"index\"])"
   ]
  },
  {
   "cell_type": "code",
   "execution_count": 13,
   "metadata": {},
   "outputs": [],
   "source": [
    "u = nx.Graph()\n",
    "u.add_edges_from([(1,2),(1,3),(1,4),(2,4),(3,5)])"
   ]
  },
  {
   "cell_type": "code",
   "execution_count": 15,
   "metadata": {},
   "outputs": [
    {
     "name": "stdout",
     "output_type": "stream",
     "text": [
      "0 1 2\n",
      "1 1 3\n",
      "2 1 4\n",
      "3 2 4\n",
      "4 3 5\n"
     ]
    }
   ],
   "source": [
    "for i, (u1, u2) in enumerate(u.edges()):\n",
    "    print(i,u1,u2)"
   ]
  },
  {
   "cell_type": "code",
   "execution_count": 9,
   "metadata": {},
   "outputs": [],
   "source": [
    "MULTICOMMUSERS = user_aggr2012[user_aggr2012[\"n_subr\"]>2].author.unique()\n",
    "df2012 = df2012[df2012[\"author\"].isin(MULTICOMMUSERS)]"
   ]
  },
  {
   "cell_type": "code",
   "execution_count": 10,
   "metadata": {},
   "outputs": [],
   "source": [
    "comm_aggr = df2012.groupby(\"subreddit\").agg({\"author\": lambda x: set(list(x))}).reset_index()\n",
    "comm_aggr[\"n_user\"] = comm_aggr[\"author\"].map(lambda x: len(x))"
   ]
  },
  {
   "cell_type": "code",
   "execution_count": 11,
   "metadata": {
    "collapsed": true
   },
   "outputs": [
    {
     "name": "stdout",
     "output_type": "stream",
     "text": [
      "processing community: 0 Anarchism\n",
      "processing community: 1 Anarchy101\n",
      "processing community: 2 AskALiberal\n",
      "processing community: 3 Conservative\n",
      "processing community: 4 DebateCommunism\n",
      "processing community: 5 DebateaCommunist\n",
      "processing community: 6 Democrat\n",
      "processing community: 7 ElizabethWarren\n",
      "processing community: 8 EnoughLibertarianSpam\n",
      "processing community: 9 GreenParty\n",
      "processing community: 10 IWW\n",
      "processing community: 11 Liberal\n",
      "processing community: 12 LibertarianLeft\n",
      "processing community: 13 LibertarianSocialism\n",
      "processing community: 14 PoliticalHumor\n",
      "processing community: 15 Republican\n",
      "processing community: 16 ShitLiberalsSay\n",
      "processing community: 17 ShitPoliticsSays\n",
      "processing community: 18 SocialDemocracy\n",
      "processing community: 19 anarchafeminism\n",
      "processing community: 20 anarchocommunism\n",
      "processing community: 21 askaconservative\n",
      "processing community: 22 chomsky\n",
      "processing community: 23 circlebroke\n",
      "processing community: 24 circlebroke2\n",
      "processing community: 25 communism\n",
      "processing community: 26 communism101\n",
      "processing community: 27 conservatives\n",
      "processing community: 28 metacanada\n",
      "processing community: 29 ndp\n",
      "processing community: 30 neoliberal\n",
      "processing community: 31 paleoconservative\n",
      "processing community: 32 politics\n",
      "processing community: 33 progressive\n",
      "processing community: 34 socialism\n"
     ]
    }
   ],
   "source": [
    "user_edges = {}\n",
    "\n",
    "for i,row in comm_aggr.iterrows():\n",
    "    subr = row[\"subreddit\"]\n",
    "    users = list(row[\"author\"])\n",
    "    print(\"processing community:\", i, subr)\n",
    "    userpairs = [*combinations(users,2)]\n",
    "    for i,up in enumerate(userpairs):\n",
    "        u1 = min(user2index[up[0]],user2index[up[1]])\n",
    "        u2 = max(user2index[up[0]],user2index[up[1]])\n",
    "        try:\n",
    "            user_edges[(u1, u2)] += 1\n",
    "        except:\n",
    "            user_edges[(u1, u2)] = 1"
   ]
  },
  {
   "cell_type": "code",
   "execution_count": 13,
   "metadata": {},
   "outputs": [],
   "source": [
    "userg = nx.Graph()\n",
    "\n",
    "for p,w in user_edges.items():\n",
    "    userg.add_edge(p[0], p[1], weight=w)"
   ]
  },
  {
   "cell_type": "code",
   "execution_count": 18,
   "metadata": {},
   "outputs": [],
   "source": [
    "# export edgelist and nodelist to csv\n",
    "edgedf = pd.DataFrame()\n",
    "sources = []\n",
    "targets = []\n",
    "weights = []\n",
    "\n",
    "nodedf = pd.DataFrame()\n",
    "nodedf[\"Label\"] = MULTICOMMUSERS\n",
    "nodedf[\"Id\"] = nodedf[\"Label\"].map(lambda x: subr2index[x])\n",
    "\n",
    "for p,w in user_edges.items():\n",
    "    sources.append(p[0])\n",
    "    targets.append(p[1])\n",
    "    weights.append(w)\n",
    "edgedf[\"Source\"] = sources\n",
    "edgedf[\"Target\"] = targets\n",
    "edgedf[\"Weight\"] = weights\n",
    "\n",
    "edgedf.to_csv(ROOTPATH + \"output/user_edge_2012.csv\", index=False)\n",
    "nodedf.to_csv(ROOTPATH + \"output/user_node_2012.csv\", index=False)"
   ]
  },
  {
   "cell_type": "code",
   "execution_count": 25,
   "metadata": {},
   "outputs": [
    {
     "data": {
      "text/html": [
       "<div>\n",
       "<style scoped>\n",
       "    .dataframe tbody tr th:only-of-type {\n",
       "        vertical-align: middle;\n",
       "    }\n",
       "\n",
       "    .dataframe tbody tr th {\n",
       "        vertical-align: top;\n",
       "    }\n",
       "\n",
       "    .dataframe thead th {\n",
       "        text-align: right;\n",
       "    }\n",
       "</style>\n",
       "<table border=\"1\" class=\"dataframe\">\n",
       "  <thead>\n",
       "    <tr style=\"text-align: right;\">\n",
       "      <th></th>\n",
       "      <th>Source</th>\n",
       "      <th>Target</th>\n",
       "      <th>Weight</th>\n",
       "    </tr>\n",
       "  </thead>\n",
       "  <tbody>\n",
       "    <tr>\n",
       "      <th>0</th>\n",
       "      <td>116584</td>\n",
       "      <td>127503</td>\n",
       "      <td>3</td>\n",
       "    </tr>\n",
       "    <tr>\n",
       "      <th>11</th>\n",
       "      <td>108557</td>\n",
       "      <td>127503</td>\n",
       "      <td>3</td>\n",
       "    </tr>\n",
       "    <tr>\n",
       "      <th>14</th>\n",
       "      <td>127503</td>\n",
       "      <td>128207</td>\n",
       "      <td>3</td>\n",
       "    </tr>\n",
       "    <tr>\n",
       "      <th>21</th>\n",
       "      <td>127503</td>\n",
       "      <td>131705</td>\n",
       "      <td>3</td>\n",
       "    </tr>\n",
       "    <tr>\n",
       "      <th>28</th>\n",
       "      <td>125891</td>\n",
       "      <td>127503</td>\n",
       "      <td>3</td>\n",
       "    </tr>\n",
       "    <tr>\n",
       "      <th>...</th>\n",
       "      <td>...</td>\n",
       "      <td>...</td>\n",
       "      <td>...</td>\n",
       "    </tr>\n",
       "    <tr>\n",
       "      <th>55860759</th>\n",
       "      <td>72787</td>\n",
       "      <td>135609</td>\n",
       "      <td>3</td>\n",
       "    </tr>\n",
       "    <tr>\n",
       "      <th>55860763</th>\n",
       "      <td>1575</td>\n",
       "      <td>135609</td>\n",
       "      <td>3</td>\n",
       "    </tr>\n",
       "    <tr>\n",
       "      <th>55860774</th>\n",
       "      <td>414</td>\n",
       "      <td>135609</td>\n",
       "      <td>3</td>\n",
       "    </tr>\n",
       "    <tr>\n",
       "      <th>55860835</th>\n",
       "      <td>1575</td>\n",
       "      <td>72787</td>\n",
       "      <td>3</td>\n",
       "    </tr>\n",
       "    <tr>\n",
       "      <th>55860846</th>\n",
       "      <td>414</td>\n",
       "      <td>72787</td>\n",
       "      <td>3</td>\n",
       "    </tr>\n",
       "  </tbody>\n",
       "</table>\n",
       "<p>7278312 rows × 3 columns</p>\n",
       "</div>"
      ],
      "text/plain": [
       "          Source  Target  Weight\n",
       "0         116584  127503       3\n",
       "11        108557  127503       3\n",
       "14        127503  128207       3\n",
       "21        127503  131705       3\n",
       "28        125891  127503       3\n",
       "...          ...     ...     ...\n",
       "55860759   72787  135609       3\n",
       "55860763    1575  135609       3\n",
       "55860774     414  135609       3\n",
       "55860835    1575   72787       3\n",
       "55860846     414   72787       3\n",
       "\n",
       "[7278312 rows x 3 columns]"
      ]
     },
     "execution_count": 25,
     "metadata": {},
     "output_type": "execute_result"
    }
   ],
   "source": [
    "edgedf[edgedf[\"Weight\"]>2]\n",
    "\n",
    "# TODO: compute the distribution of jaccard similarity and filter the graph!\n",
    "# TODO: write that Wikipedia article\n",
    "# TODO: write the research question of 6014"
   ]
  },
  {
   "cell_type": "markdown",
   "metadata": {},
   "source": [
    "## community graph"
   ]
  },
  {
   "cell_type": "code",
   "execution_count": 42,
   "metadata": {
    "scrolled": true
   },
   "outputs": [],
   "source": [
    "comm_aggr = df2012.groupby(\"subreddit\").agg({\"author\": lambda x: set(list(x))}).reset_index()\n",
    "comm_aggr[\"n_user\"] = comm_aggr[\"author\"].map(lambda x: len(x))\n",
    "\n",
    "cedge_df = pd.DataFrame()\n",
    "sources = []\n",
    "targets = []\n",
    "weights = []\n",
    "\n",
    "for i,row in comm_aggr.iterrows():\n",
    "    N = len(comm_aggr)  # number of communities\n",
    "    n1 = row[\"subreddit\"]\n",
    "    set1 = row[\"author\"]\n",
    "    if i == N-1:\n",
    "        break\n",
    "    for j in range(i+1, N):\n",
    "        n2 = comm_aggr.iloc[j][\"subreddit\"]\n",
    "        set2 = comm_aggr.iloc[j][\"author\"]\n",
    "        if len(set1.intersection(set2)) > 0:\n",
    "            sources.append(n1)\n",
    "            targets.append(n2)\n",
    "            weights.append(len(set1.intersection(set2)))\n",
    "            \n",
    "cedge_df[\"Source\"] = [subr2index[s] for s in sources]\n",
    "cedge_df[\"Target\"] = [subr2index[t] for t in targets]\n",
    "cedge_df[\"Weight\"] = weights\n",
    "cedge_df.to_csv(\"subr_edge_2012.csv\",index=False)"
   ]
  },
  {
   "cell_type": "code",
   "execution_count": 31,
   "metadata": {},
   "outputs": [],
   "source": [
    "comm_df = pd.read_csv(ROOTPATH + \"indx/left-right-labels.csv\")"
   ]
  },
  {
   "cell_type": "code",
   "execution_count": 46,
   "metadata": {},
   "outputs": [],
   "source": [
    "cnode = pd.DataFrame()\n",
    "cnode[\"Label\"] = [s.lower() for s in SUBREDDITS]\n",
    "cnode[\"Id\"] = cnode[\"Label\"].map(lambda x: subr2index[x])\n",
    "cnode = cnode.merge(comm_df, left_on=\"Label\", right_on=\"subreddit\", \n",
    "                    how=\"left\").drop(columns=[\"subreddit\"]).rename(columns={\"label\":\"type\"})\n",
    "cnode.to_csv(\"subr_node_2012.csv\", index=False)"
   ]
  },
  {
   "cell_type": "markdown",
   "metadata": {},
   "source": [
    "## write node and edge list"
   ]
  },
  {
   "cell_type": "code",
   "execution_count": 12,
   "metadata": {},
   "outputs": [],
   "source": [
    "edgelist = df2012.reset_index()[[\"index\",\"author\",\"subreddit\"]].groupby([\"author\",\"subreddit\"]).count()\n",
    "edgelist = edgelist.reset_index().rename(columns={\"author\":\"Source\", \"subreddit\":\"Target\", \"index\":\"Weight\"})\n",
    "\n",
    "edgelist[[\"Source\",\"Target\"]].to_csv(\"edge2012.csv\", index=False)"
   ]
  },
  {
   "cell_type": "code",
   "execution_count": 4,
   "metadata": {},
   "outputs": [],
   "source": [
    "users = pd.DataFrame()\n",
    "subrs = pd.DataFrame()\n",
    "users[\"Label\"] = USERS\n",
    "users[\"type\"] = \"user\"\n",
    "subrs[\"Label\"] = SUBREDDITS\n",
    "subrs[\"type\"] = \"subreddit\"\n",
    "nodedf = pd.concat([users, subrs], axis=0)\n",
    "\n",
    "nodedf.to_csv(\"node2012.csv\", index=False)"
   ]
  },
  {
   "cell_type": "markdown",
   "metadata": {},
   "source": [
    "## subreddit graph"
   ]
  },
  {
   "cell_type": "code",
   "execution_count": null,
   "metadata": {},
   "outputs": [],
   "source": []
  },
  {
   "cell_type": "code",
   "execution_count": null,
   "metadata": {},
   "outputs": [],
   "source": []
  },
  {
   "cell_type": "code",
   "execution_count": null,
   "metadata": {},
   "outputs": [],
   "source": []
  },
  {
   "cell_type": "code",
   "execution_count": null,
   "metadata": {},
   "outputs": [],
   "source": []
  },
  {
   "cell_type": "code",
   "execution_count": null,
   "metadata": {},
   "outputs": [],
   "source": [
    "# TODO: build tree graphs for a submission\n",
    "# TODO: calculate structural virality for each submission"
   ]
  },
  {
   "cell_type": "markdown",
   "metadata": {},
   "source": [
    "## wrap-up"
   ]
  },
  {
   "cell_type": "code",
   "execution_count": null,
   "metadata": {},
   "outputs": [],
   "source": [
    "df2012 = build_df_year(2012)\n",
    "generate_index()\n",
    "\n",
    "from utils import USERS, SUBREDDITS, user2index, index2user, subr2index, index2subr"
   ]
  },
  {
   "cell_type": "markdown",
   "metadata": {},
   "source": [
    "## misc"
   ]
  },
  {
   "cell_type": "code",
   "execution_count": null,
   "metadata": {},
   "outputs": [],
   "source": [
    "# def generate_user_graph(dfyear, year)\n",
    "\n",
    "comm_aggr = df2012.groupby(\"subreddit\").agg({\"author\": lambda x: set(list(x))}).reset_index()\n",
    "comm_aggr[\"n_user\"] = comm_aggr[\"author\"].map(lambda x: len(x))\n",
    "\n",
    "comm_aggr.to_pickle(\"comm_aggr2012.pkl\")"
   ]
  },
  {
   "cell_type": "code",
   "execution_count": null,
   "metadata": {},
   "outputs": [],
   "source": [
    "import pickle\n",
    "with open(\"user2index2012.pkl\", 'wb') as handle:\n",
    "    pickle.dump(user2index, handle, protocol=pickle.HIGHEST_PROTOCOL)"
   ]
  },
  {
   "cell_type": "code",
   "execution_count": 40,
   "metadata": {},
   "outputs": [],
   "source": [
    "# build user graph\n",
    "# iterate over nodes: --> too slow\n",
    "# uedge_df = pd.DataFrame()\n",
    "# sources = []\n",
    "# targets = []\n",
    "# weights = []\n",
    "\n",
    "# for i,row in user_aggr.iterrows():\n",
    "#     print(i)\n",
    "#     N = len(user_aggr)  # number of users\n",
    "#     n1 = row[\"author\"]\n",
    "#     set1 = row[\"subreddit\"]\n",
    "#     if i == N-1:\n",
    "#         break\n",
    "#     for j in range(i+1, N):\n",
    "#         if j%10000 == 0: print(\"progress\", j, \"in\", range(i+1, N))\n",
    "#         n2 = user_aggr.iloc[j][\"author\"]\n",
    "#         set2 = user_aggr.iloc[j][\"subreddit\"]\n",
    "#         if len(set1.intersection(set2)) > 0:\n",
    "#             sources.append(n1)\n",
    "#             targets.append(n2)\n",
    "#             weights.append(len(set1.intersection(set2)))"
   ]
  },
  {
   "cell_type": "code",
   "execution_count": 11,
   "metadata": {},
   "outputs": [],
   "source": [
    "# create a bipartite graph\n",
    "# bip = nx.Graph()\n",
    "# bip.add_nodes_from(USERS, bipartite=0)\n",
    "# bip.add_nodes_from(SUBREDDITS, bipartite=1)\n",
    "# for _,row in user_aggr.iterrows():\n",
    "#     if _ %10000==0: print(\"progress:\", _/len(user_aggr))\n",
    "#     u = row[\"author\"]\n",
    "#     subrs = row[\"subreddit\"]\n",
    "#     bip.add_edges_from([(u,s) for s in list(subrs)])\n",
    "\n",
    "# user_nodes = {n for n,d in bip.nodes(data=True) if d[\"bipartite\"]==0}\n",
    "\n",
    "# user_proj = bipartite.projected_graph(bip, user_nodes)  # takes too long to run\n",
    "# nx.write_gexf(bip, \"test.gexf\")  # --> this is slow too"
   ]
  },
  {
   "cell_type": "code",
   "execution_count": null,
   "metadata": {},
   "outputs": [],
   "source": []
  }
 ],
 "metadata": {
  "kernelspec": {
   "display_name": "Python 3",
   "language": "python",
   "name": "python3"
  },
  "language_info": {
   "codemirror_mode": {
    "name": "ipython",
    "version": 3
   },
   "file_extension": ".py",
   "mimetype": "text/x-python",
   "name": "python",
   "nbconvert_exporter": "python",
   "pygments_lexer": "ipython3",
   "version": "3.7.7"
  },
  "toc": {
   "base_numbering": 1,
   "nav_menu": {},
   "number_sections": true,
   "sideBar": true,
   "skip_h1_title": false,
   "title_cell": "Table of Contents",
   "title_sidebar": "Contents",
   "toc_cell": false,
   "toc_position": {},
   "toc_section_display": true,
   "toc_window_display": true
  }
 },
 "nbformat": 4,
 "nbformat_minor": 4
}
