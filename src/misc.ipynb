{
 "cells": [
  {
   "cell_type": "markdown",
   "metadata": {},
   "source": [
    "## copy and merge tables"
   ]
  },
  {
   "cell_type": "code",
   "execution_count": 22,
   "metadata": {},
   "outputs": [],
   "source": [
    "import pandas as pd\n",
    "import numpy as np\n",
    "import os\n",
    "import sqlite3"
   ]
  },
  {
   "cell_type": "code",
   "execution_count": 23,
   "metadata": {},
   "outputs": [],
   "source": [
    "ROOTPATH = os.getcwd()[:-3]\n",
    "# SOURCEDB = \"/Users/yijingch/Documents/MYDATA/mobility/reddit-db-preprocessed.db\"\n",
    "TARGETDB = \"/Users/yijingch/Documents/MYDATA/mobility/reddit-db-2012-2015.db\"\n",
    "NEWDB = \"/Users/yijingch/Documents/MYDATA/mobility/reddit-db-2012-2015-new.db\"\n",
    "# conns = sqlite3.connect(SOURCEDB)\n",
    "connt = sqlite3.connect(TARGETDB)\n",
    "connn = sqlite3.connect(NEWDB)"
   ]
  },
  {
   "cell_type": "code",
   "execution_count": 24,
   "metadata": {},
   "outputs": [],
   "source": [
    "def merge_table(year):\n",
    "    print(\"merging table for year\", year)\n",
    "    \n",
    "    print(\"merging submissions...\")\n",
    "    qr = f\"SELECT id, toxicity FROM 'score-submission-{year}'\"\n",
    "    subm_score = pd.read_sql_query(qr, connt)\n",
    "    subm = pd.read_sql_query(f\"SELECT * FROM 'submission-{year}'\", connt)\n",
    "    subm = subm.merge(subm_score, on=\"id\", how=\"left\").drop(columns=[\"index\"])\n",
    "    subm.to_sql(f\"submission-{year}\", con=connn)\n",
    "\n",
    "    print(\"merging comments...\")\n",
    "    qr = f\"SELECT id, toxicity FROM 'score-comment-{year}'\"\n",
    "    comm_score = pd.read_sql_query(qr, connt)\n",
    "    comm = pd.read_sql_query(f\"SELECT * FROM 'comment-{year}'\", connt)\n",
    "    comm = comm.merge(comm_score, on=\"id\", how=\"left\").drop(columns=[\"index\"])\n",
    "    comm.to_sql(f\"comment-{year}\", con=connn)"
   ]
  },
  {
   "cell_type": "code",
   "execution_count": 25,
   "metadata": {},
   "outputs": [
    {
     "name": "stdout",
     "output_type": "stream",
     "text": [
      "merging table for year 2012\n",
      "merging submissions...\n",
      "merging comments...\n"
     ]
    }
   ],
   "source": [
    "merge_table(2012)"
   ]
  },
  {
   "cell_type": "code",
   "execution_count": 26,
   "metadata": {},
   "outputs": [
    {
     "name": "stdout",
     "output_type": "stream",
     "text": [
      "merging table for year 2013\n",
      "merging submissions...\n",
      "merging comments...\n",
      "merging table for year 2014\n",
      "merging submissions...\n",
      "merging comments...\n",
      "merging table for year 2015\n",
      "merging submissions...\n",
      "merging comments...\n"
     ]
    }
   ],
   "source": [
    "merge_table(2013)\n",
    "merge_table(2014)\n",
    "merge_table(2015)"
   ]
  },
  {
   "cell_type": "code",
   "execution_count": 18,
   "metadata": {},
   "outputs": [],
   "source": [
    "def copy_table(year):\n",
    "    print(\"copy table for year\", year)\n",
    "    print(\"reading data...\")\n",
    "    qr = f\"SELECT id, body, score AS toxicity FROM 'score-submission-{year}'\"\n",
    "    df = pd.read_sql_query(qr, conns)\n",
    "    print(\"saving data...\")\n",
    "    df.to_sql(f'score-submission-{year}', con=connt)"
   ]
  }
 ],
 "metadata": {
  "kernelspec": {
   "display_name": "Python 3",
   "language": "python",
   "name": "python3"
  },
  "toc": {
   "base_numbering": 1,
   "nav_menu": {},
   "number_sections": true,
   "sideBar": true,
   "skip_h1_title": false,
   "title_cell": "Table of Contents",
   "title_sidebar": "Contents",
   "toc_cell": false,
   "toc_position": {},
   "toc_section_display": true,
   "toc_window_display": false
  }
 },
 "nbformat": 4,
 "nbformat_minor": 4
}
