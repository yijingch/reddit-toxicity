{
 "cells": [
  {
   "cell_type": "markdown",
   "metadata": {},
   "source": [
    "# basic graph descriptives"
   ]
  },
  {
   "cell_type": "code",
   "execution_count": 1,
   "metadata": {},
   "outputs": [],
   "source": [
    "import pandas as pd\n",
    "import numpy as np\n",
    "import networkx as nx\n",
    "import statsmodels.api as sm\n",
    "import sqlite3\n",
    "import os\n",
    "import re\n",
    "import seaborn as sns\n",
    "import matplotlib.pyplot as plt\n",
    "from networkx.algorithms import bipartite\n",
    "from itertools import combinations\n",
    "\n",
    "import warnings\n",
    "warnings.filterwarnings('ignore')\n",
    "\n",
    "from utils import ROOTPATH, build_df_year, generate_index\n",
    "from backbone import disparity_filter"
   ]
  },
  {
   "cell_type": "markdown",
   "metadata": {},
   "source": [
    "## load data"
   ]
  },
  {
   "cell_type": "code",
   "execution_count": 4,
   "metadata": {},
   "outputs": [
    {
     "name": "stdout",
     "output_type": "stream",
     "text": [
      "building base dataframe for year 2012...\n",
      "- fetching submissions for year 2012\n",
      "- fetching comments for year 2012\n",
      "building base dataframe for year 2013...\n",
      "- fetching submissions for year 2013\n",
      "- fetching comments for year 2013\n",
      "building base dataframe for year 2014...\n",
      "- fetching submissions for year 2014\n",
      "- fetching comments for year 2014\n",
      "building base dataframe for year 2015...\n",
      "- fetching submissions for year 2015\n",
      "- fetching comments for year 2015\n"
     ]
    }
   ],
   "source": [
    "dfall = pd.DataFrame()\n",
    "for y in range(2012, 2016):\n",
    "    dfall = dfall.append(build_df_year(y, with_text=False, with_time=False, filter_null=True))"
   ]
  },
  {
   "cell_type": "markdown",
   "metadata": {},
   "source": [
    "## distributions of per-user attributes"
   ]
  },
  {
   "cell_type": "code",
   "execution_count": 43,
   "metadata": {},
   "outputs": [],
   "source": [
    "# # number of subreddits per user\n",
    "# user_aggr = dfall.groupby(\"author\").agg({\"subreddit\": lambda x: set(x)}).reset_index()\n",
    "# user_aggr[\"n_subr\"] = user_aggr[\"subreddit\"].map(lambda x: len(x))"
   ]
  },
  {
   "cell_type": "code",
   "execution_count": 44,
   "metadata": {},
   "outputs": [],
   "source": [
    "# fig,ax = plt.subplots(figsize=(8,5), dpi=300)\n",
    "# plt.hist(user_aggr[\"n_subr\"], bins=15, edgecolor=\"#7A9299\", color=\"#7A9299\", alpha=0.3)\n",
    "# plt.xscale(\"log\")\n",
    "# plt.yscale(\"log\")\n",
    "# plt.xlabel(\"# of subreddits per user\", fontsize=14)\n",
    "# plt.ylabel(\"user counts\", fontsize=14)\n",
    "# plt.savefig(ROOTPATH + f\"output/fig/user_subr_distri_all.png\", dpi=300)"
   ]
  },
  {
   "cell_type": "code",
   "execution_count": 45,
   "metadata": {},
   "outputs": [],
   "source": [
    "# # number of submissions per user\n",
    "# user_aggr = dfall.groupby(\"author\").agg({\"submission_id\": lambda x: set(list(x))}).reset_index()\n",
    "# user_aggr[\"n_subm\"] = user_aggr[\"submission_id\"].map(lambda x: len(x))"
   ]
  },
  {
   "cell_type": "code",
   "execution_count": 46,
   "metadata": {},
   "outputs": [],
   "source": [
    "# fig,ax = plt.subplots(figsize=(8,5), dpi=300)\n",
    "# plt.hist(user_aggr[\"n_subm\"], bins=40, edgecolor=\"#7A9299\", color=\"#7A9299\", alpha=0.3)\n",
    "# # plt.xscale(\"log\")\n",
    "# plt.yscale(\"log\")\n",
    "# plt.xlabel(\"# of submissions per user\", fontsize=14)\n",
    "# plt.ylabel(\"user counts\", fontsize=14)\n",
    "# plt.savefig(ROOTPATH + f\"output/fig/user_subm_distri_all.png\", dpi=300)"
   ]
  },
  {
   "cell_type": "code",
   "execution_count": 47,
   "metadata": {},
   "outputs": [
    {
     "data": {
      "text/plain": [
       "1408478"
      ]
     },
     "execution_count": 47,
     "metadata": {},
     "output_type": "execute_result"
    }
   ],
   "source": [
    "dfall.submission_id.nunique()"
   ]
  },
  {
   "cell_type": "code",
   "execution_count": 48,
   "metadata": {},
   "outputs": [
    {
     "data": {
      "text/plain": [
       "901453"
      ]
     },
     "execution_count": 48,
     "metadata": {},
     "output_type": "execute_result"
    }
   ],
   "source": [
    "dfall.author.nunique()"
   ]
  },
  {
   "cell_type": "code",
   "execution_count": 49,
   "metadata": {},
   "outputs": [
    {
     "data": {
      "text/plain": [
       "20022246"
      ]
     },
     "execution_count": 49,
     "metadata": {},
     "output_type": "execute_result"
    }
   ],
   "source": [
    "dfall.comment_id.nunique()"
   ]
  },
  {
   "cell_type": "code",
   "execution_count": null,
   "metadata": {},
   "outputs": [],
   "source": []
  }
 ],
 "metadata": {
  "kernelspec": {
   "display_name": "Python 3",
   "language": "python",
   "name": "python3"
  },
  "language_info": {
   "codemirror_mode": {
    "name": "ipython",
    "version": 3
   },
   "file_extension": ".py",
   "mimetype": "text/x-python",
   "name": "python",
   "nbconvert_exporter": "python",
   "pygments_lexer": "ipython3",
   "version": "3.7.7"
  },
  "toc": {
   "base_numbering": 1,
   "nav_menu": {},
   "number_sections": true,
   "sideBar": true,
   "skip_h1_title": false,
   "title_cell": "Table of Contents",
   "title_sidebar": "Contents",
   "toc_cell": false,
   "toc_position": {},
   "toc_section_display": true,
   "toc_window_display": false
  }
 },
 "nbformat": 4,
 "nbformat_minor": 4
}
