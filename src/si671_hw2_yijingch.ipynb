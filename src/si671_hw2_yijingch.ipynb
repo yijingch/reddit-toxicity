{
 "cells": [
  {
   "cell_type": "markdown",
   "metadata": {},
   "source": [
    "# SI 671 Data Mining: Methods and Applications\n",
    "\n",
    "*** \n",
    "\n",
    "<font size=\"10\" color=\"royalblue\">**DUE:** Oct 21, 2020 (WED)</font>\n",
    "\n",
    "Speed-dating: Match Prediction and Recommendation\n",
    "***\n",
    "\n",
    "\n",
    "```\n",
    "Yijing Chen,   \n",
    "Oct 18, 2020\n",
    "```"
   ]
  },
  {
   "cell_type": "code",
   "execution_count": 1,
   "metadata": {},
   "outputs": [],
   "source": [
    "import pandas as pd\n",
    "import numpy as np\n",
    "import sklearn\n",
    "from collections import Counter\n",
    "import matplotlib.pyplot as plt\n",
    "from scipy import stats\n",
    "import seaborn as sns"
   ]
  },
  {
   "cell_type": "code",
   "execution_count": 2,
   "metadata": {},
   "outputs": [],
   "source": [
    "import warnings\n",
    "warnings.filterwarnings('ignore')"
   ]
  },
  {
   "cell_type": "markdown",
   "metadata": {},
   "source": [
    "***\n",
    "Data Description:\n",
    "\n",
    "1. `trainML.csv`: This file contains the training data for Part 2 of the homework. It contains 3808 observations and 61 columns/features. The column keys are described in the file SpeedDatingDataKey.pdf.\n",
    "2. `testML.csv`: This file contains the test data for Part 2 of the homework. Please insert your prediction results in the match column in the file.\n",
    "3. `trainRec.csv`: This file contains the training data for Part 3 of the homework. The complete training data set has 38340 observations. It contains ratings on a scale of 1-10 given by an attendee with id `iid` to their partner with id `pid`.\n",
    "4. `testRec.csv`: This file contains the test data for Part 3 of the homework. Please insert your predicted ratings in the rate column in the file.\n",
    "***"
   ]
  },
  {
   "cell_type": "code",
   "execution_count": 3,
   "metadata": {},
   "outputs": [],
   "source": [
    "# load dataset\n",
    "trainML = pd.read_csv(\"trainML.csv\")\n",
    "testML = pd.read_csv(\"testML.csv\")\n",
    "trainRec = pd.read_csv(\"trainRec.csv\")\n",
    "testRec = pd.read_csv(\"testRec.csv\")"
   ]
  },
  {
   "cell_type": "markdown",
   "metadata": {},
   "source": [
    "## part 1: data exploration (15 points)\n",
    "\n",
    "Perform basic EDA on `trainML.csv` and `trainRec.csv`. Paper link [here](https://citeseerx.ist.psu.edu/viewdoc/download?doi=10.1.1.87.277&rep=rep1&type=pdf).\n",
    "\n",
    "**Main deliverable:** a step-by-step exploration of data along with text describing your conclusions in your Jupyter Notebook. \n",
    "\n",
    "**Notes from Piazza:**  \n",
    "@91 Exploration or model building is ALWAYS done on training data! You're never supposed to look at test data in real-life data science roles. We just provided the test file so that you can add your correct predicted labels there."
   ]
  },
  {
   "cell_type": "markdown",
   "metadata": {},
   "source": [
    "<font color=\"royalblue\">\n",
    "    \n",
    "### dataframe basics\n",
    "    \n",
    "The `trainML` dataframe has 3808 rows, each representing a unique pair of participant-partner (the ordering here matters). There are 257 participants in total, and everyone has been paired up with at least one other participant in the training set.\n",
    "    \n",
    "The `trainRec` dataframe has 38340 rows, each representing a unique pair of participant-partner rating (the ordering matters). There are 277 participants included. The distribution of rates is symmetrical, with most scores fall between 6 and 8. The average score is 6.39.\n",
    "\n",
    "</font>"
   ]
  },
  {
   "cell_type": "code",
   "execution_count": 4,
   "metadata": {},
   "outputs": [
    {
     "data": {
      "image/png": "[encoded data removed]",
      "text/plain": [
       "<Figure size 432x288 with 1 Axes>"
      ]
     },
     "metadata": {
      "needs_background": "light"
     },
     "output_type": "display_data"
    },
    {
     "name": "stdout",
     "output_type": "stream",
     "text": [
      "average rate = 6.3900284298382894\n",
      "median rate = 6.400000000000001\n"
     ]
    }
   ],
   "source": [
    "# trainRec.groupby([\"pid\",\"iid\"]).mean()\n",
    "# trainRec.pid.nunique()  # 277\n",
    "# trainRec.iid.nunique()  # 277\n",
    "plt.hist(trainRec.rate, bins=15)\n",
    "plt.xlabel(\"rate\", fontsize=14)\n",
    "plt.ylabel(\"number of participants\", fontsize=14)\n",
    "plt.title(\"distribution of rates\", fontsize=16)\n",
    "plt.show()\n",
    "print(\"average rate =\", np.mean(trainRec.rate))\n",
    "print(\"median rate =\", np.median(trainRec.rate))"
   ]
  },
  {
   "cell_type": "code",
   "execution_count": 5,
   "metadata": {},
   "outputs": [
    {
     "name": "stdout",
     "output_type": "stream",
     "text": [
      "training size = 3808\n",
      "number of unique iid = 257\n",
      "number of unique pairs = 3808\n",
      "\n",
      "\n",
      "columns: Index(['gender', 'match', 'samerace', 'age_o', 'race_o', 'pf_o_att',\n",
      "       'pf_o_sin', 'pf_o_int', 'pf_o_fun', 'pf_o_amb', 'pf_o_sha', 'attr_o',\n",
      "       'sinc_o', 'intel_o', 'fun_o', 'met_o', 'age', 'field', 'race',\n",
      "       'imprace', 'imprelig', 'from', 'goal', 'date', 'go_out', 'career',\n",
      "       'career_c', 'sports', 'tvsports', 'exercise', 'dining', 'museums',\n",
      "       'art', 'hiking', 'gaming', 'clubbing', 'reading', 'tv', 'theater',\n",
      "       'movies', 'concerts', 'music', 'shopping', 'yoga', 'attr1_1', 'sinc1_1',\n",
      "       'intel1_1', 'fun1_1', 'amb1_1', 'attr3_1', 'sinc3_1', 'fun3_1',\n",
      "       'intel3_1', 'attr', 'sinc', 'intel', 'fun', 'met', 'iid', 'pid',\n",
      "       'shar1_1'],\n",
      "      dtype='object')\n"
     ]
    }
   ],
   "source": [
    "print(\"training size =\", len(trainML))\n",
    "print(\"number of unique iid =\", len(trainML.groupby(\"iid\").count()))\n",
    "print(\"number of unique pairs =\", len(trainML.groupby([\"iid\",\"pid\"]).count()))\n",
    "# each row in the dataframe represent a unique pair of partners\n",
    "\n",
    "print(\"\\n\")\n",
    "print(\"columns:\", trainML.columns)"
   ]
  },
  {
   "cell_type": "code",
   "execution_count": 6,
   "metadata": {},
   "outputs": [
    {
     "data": {
      "text/plain": [
       "True"
      ]
     },
     "execution_count": 6,
     "metadata": {},
     "output_type": "execute_result"
    }
   ],
   "source": [
    "# everyone has been paired up with at least someone else in the training set\n",
    "set(trainML.pid.unique()) == set(trainML.iid.unique())"
   ]
  },
  {
   "cell_type": "code",
   "execution_count": 7,
   "metadata": {},
   "outputs": [],
   "source": [
    "# (1,29) and (29,1) are both recorded in this dataframe\n",
    "# (ordering of participant-partner matters)\n",
    "\n",
    "# trainML[trainML[\"iid\"]==1][[\"iid\", \"pid\", \"attr1_1\", \"sinc1_1\"]]\n",
    "# trainML[trainML[\"pid\"]==1][[\"iid\", \"pid\", \"pf_o_att\", \"pf_o_sin\"]]"
   ]
  },
  {
   "cell_type": "markdown",
   "metadata": {},
   "source": [
    "<font color=\"royalblue\">\n",
    "    \n",
    "### column exploration\n",
    "\n",
    "#### by participant (individual-level statistics)\n",
    "    \n",
    "</font>"
   ]
  },
  {
   "cell_type": "code",
   "execution_count": 8,
   "metadata": {},
   "outputs": [],
   "source": [
    "# split the columns into different categories\n",
    "partner_demg = [\"age_o\", \"race_o\"]\n",
    "partner_pref = [\"pf_o_att\", \"pf_o_sin\", \"pf_o_int\", \"pf_o_fun\", \"pf_o_amb\", \"pf_o_sha\"]\n",
    "partner_rate = [\"attr_o\", \"sinc_o\", \"intel_o\", \"fun_o\"]\n",
    "\n",
    "pticipt_demg = [\"gender\", \"age\", \"field\", \"race\", \"from\"]\n",
    "pticipt_impt = [\"imprace\", \"imprelig\"]\n",
    "pticipt_misc = [\"goal\", \"date\", \"go_out\", \"career\", \"career_c\"]\n",
    "pticipt_hobby = [\"sports\", \"tvsports\", \"exercise\", \"dining\", \"museums\", \"art\", \"hiking\", \"gaming\", \"clubbing\",\n",
    "                \"reading\", \"tv\", \"theater\", \"movies\", \"concerts\", \"music\", \"shopping\", \"yoga\"]\n",
    "pticipt_pref = [\"attr1_1\", \"sinc1_1\", \"intel1_1\", \"fun1_1\", \"amb1_1\", \"shar1_1\"]\n",
    "pticipt_self = [\"attr3_1\", \"sinc3_1\", \"intel3_1\", \"fun3_1\"]\n",
    "pticipt_rate = [\"attr\", \"sinc\", \"intel\", \"fun\"]"
   ]
  },
  {
   "cell_type": "code",
   "execution_count": 9,
   "metadata": {},
   "outputs": [
    {
     "name": "stdout",
     "output_type": "stream",
     "text": [
      "gender: Counter({0: 129, 1: 128})\n",
      "age mean: 26.59760956175299\n",
      "age mode: [27.]\n",
      "youngest: 18.0\n",
      "oldest: 55.0\n"
     ]
    },
    {
     "data": {
      "image/png": "[encoded data removed]",
      "text/plain": [
       "<Figure size 432x288 with 1 Axes>"
      ]
     },
     "metadata": {
      "needs_background": "light"
     },
     "output_type": "display_data"
    }
   ],
   "source": [
    "# by participant (individual-level)\n",
    "pticipt = trainML[[\"iid\"] + pticipt_demg + pticipt_impt + pticipt_misc + pticipt_hobby + pticipt_pref + pticipt_self].copy()  \n",
    "\n",
    "# these values should be the same for a single participant across different partners\n",
    "# so I aggregated by iid and take the first in each group:\n",
    "aggr_pticipt = pticipt.groupby(\"iid\").first().reset_index()\n",
    "\n",
    "print(\"gender:\", Counter(aggr_pticipt.gender))\n",
    "print(\"age mean:\", np.mean(aggr_pticipt.age))\n",
    "print(\"age mode:\", stats.mode(aggr_pticipt.age)[0])\n",
    "print(\"youngest:\", min(aggr_pticipt.age))\n",
    "print(\"oldest:\", max(aggr_pticipt.age))\n",
    "plt.hist(aggr_pticipt.age, color=\"royalblue\", bins=20)\n",
    "plt.xlabel(\"age\", fontsize=14)\n",
    "plt.ylabel(\"number of participants\", fontsize=14)\n",
    "plt.title(\"distribution of age\", fontsize=16)\n",
    "plt.show()"
   ]
  },
  {
   "cell_type": "code",
   "execution_count": 10,
   "metadata": {},
   "outputs": [
    {
     "data": {
      "image/png": "[encoded data removed]",
      "text/plain": [
       "<Figure size 432x288 with 1 Axes>"
      ]
     },
     "metadata": {
      "needs_background": "light"
     },
     "output_type": "display_data"
    }
   ],
   "source": [
    "# race\n",
    "race_dict = {1: \"Black/African American\",\n",
    "             2: \"European/Caucasian-American\",\n",
    "             3: \"Latino/Hispanic American\",\n",
    "             4: \"Asian/Pacific Islander/Asian-American\",\n",
    "             5: \"Native American\",\n",
    "             6: \"Other\"}\n",
    "\n",
    "aggr_race = aggr_pticipt.groupby(\"race\").nunique(\"iid\")[[\"iid\"]].reset_index()\n",
    "aggr_race[\"race\"] = aggr_race[\"race\"].astype(int)\n",
    "aggr_race[\"race_c\"] = aggr_race[\"race\"].map(lambda x: race_dict[x])\n",
    "plt.bar(aggr_race.race_c, aggr_race.iid, color=\"royalblue\")\n",
    "plt.ylabel(\"number of participants\", fontsize=14)\n",
    "plt.title(\"distribution of race\", fontsize=16)\n",
    "plt.xticks(rotation=90)\n",
    "plt.show()"
   ]
  },
  {
   "cell_type": "code",
   "execution_count": 11,
   "metadata": {},
   "outputs": [
    {
     "data": {
      "image/png": "[encoded data removed]",
      "text/plain": [
       "<Figure size 720x288 with 1 Axes>"
      ]
     },
     "metadata": {
      "needs_background": "light"
     },
     "output_type": "display_data"
    }
   ],
   "source": [
    "# what you look for in the opposite sex\n",
    "\n",
    "# drop missing values\n",
    "pticipt_pref_df = aggr_pticipt[pticipt_pref].dropna() \n",
    "# drop irregular values (negative rating)\n",
    "pticipt_pref_df = pticipt_pref_df.drop([int(pticipt_pref_df[pticipt_pref_df.values<0].index.values)])\n",
    "\n",
    "meds = pticipt_pref_df.median()\n",
    "meds.sort_values(ascending=False, inplace=True)\n",
    "# print(meds.index)\n",
    "pticipt_pref_bp = [pticipt_pref_df[x].values.tolist() for x in list(meds.index)]\n",
    "fig,ax = plt.subplots(figsize=(10,4))\n",
    "ax.boxplot(pticipt_pref_bp)\n",
    "ax.set_xticklabels([\"intelligent\", \"attractive\", \"sincere\", \"fun\", \"share hobby\", \"ambitious\"], fontsize=14)\n",
    "plt.ylabel(\"importance\", fontsize=14)\n",
    "plt.title(f\"distribution of participants' stated preference (N = {len(pticipt_pref_df)})\", fontsize=16)\n",
    "plt.show()"
   ]
  },
  {
   "cell_type": "code",
   "execution_count": 12,
   "metadata": {},
   "outputs": [
    {
     "data": {
      "image/png": "[encoded data removed]",
      "text/plain": [
       "<Figure size 432x288 with 2 Axes>"
      ]
     },
     "metadata": {
      "needs_background": "light"
     },
     "output_type": "display_data"
    }
   ],
   "source": [
    "# correlation heatmap of participants' self-rated and preferred qualities\n",
    "\n",
    "pticipt_corr_df = aggr_pticipt[pticipt_pref + pticipt_self].dropna()\n",
    "pticipt_corr_df = pticipt_corr_df.drop([int(pticipt_corr_df[pticipt_corr_df.values<0].index.values)])\n",
    "# print(pticipt_corr_df.corr())\n",
    "sns.heatmap(pticipt_corr_df.corr())\n",
    "plt.show()  \n",
    "# these features do not seem to be strongly correlated\n",
    "# sinc3_1 and sinc1_1 have a relatively higher (but still noisy) correlation value"
   ]
  },
  {
   "cell_type": "code",
   "execution_count": 13,
   "metadata": {
    "scrolled": true
   },
   "outputs": [
    {
     "data": {
      "image/png": "[encoded data removed]",
      "text/plain": [
       "<Figure size 432x288 with 1 Axes>"
      ]
     },
     "metadata": {
      "needs_background": "light"
     },
     "output_type": "display_data"
    },
    {
     "name": "stdout",
     "output_type": "stream",
     "text": [
      "(0.4314053225436856, 1.0417766558735845e-12)\n"
     ]
    }
   ],
   "source": [
    "plt.scatter(pticipt_corr_df.sinc3_1, pticipt_corr_df.sinc1_1, alpha=0.2)\n",
    "plt.xlabel(\"sincerity level (self-rating)\", fontsize=14)\n",
    "plt.ylabel(\"importance of sincerity\", fontsize=14)\n",
    "plt.title(\"correlation table for self-rated and importance of sincerity\", fontsize=16)\n",
    "plt.show()\n",
    "print(stats.pearsonr(pticipt_corr_df.sinc3_1, pticipt_corr_df.sinc1_1))"
   ]
  },
  {
   "cell_type": "code",
   "execution_count": 14,
   "metadata": {
    "scrolled": true
   },
   "outputs": [
    {
     "data": {
      "image/png": "[encoded data removed]",
      "text/plain": [
       "<Figure size 432x288 with 2 Axes>"
      ]
     },
     "metadata": {
      "needs_background": "light"
     },
     "output_type": "display_data"
    }
   ],
   "source": [
    "# correlation heatmap of participants' self ratings and partner ratings (averaged)\n",
    " \n",
    "pticipt_corr_df2 = trainML[[\"iid\"] + pticipt_self + partner_rate].dropna().copy()\n",
    "pticipt_corr_df2 = pticipt_corr_df2.groupby(\"iid\").mean()\n",
    "pticipt_corr_df2.corr()\n",
    "sns.heatmap(pticipt_corr_df2.corr())\n",
    "plt.show()\n",
    "\n",
    "# left bottom and right top --> dark\n",
    "# weak/negligible correlation between participants' self-ratings and ratings from their partners"
   ]
  },
  {
   "cell_type": "markdown",
   "metadata": {},
   "source": [
    "<font color=\"royalblue\">\n",
    "             \n",
    "\n",
    "#### by pair (pair-level statistics)\n",
    "    \n",
    "</font>"
   ]
  },
  {
   "cell_type": "code",
   "execution_count": 15,
   "metadata": {},
   "outputs": [],
   "source": [
    "match_table = trainML[[\"match\", \"iid\", \"pid\"]].copy()  # len = 3808\n",
    "\n",
    "# create a unique pair id for each pair of partners (len should be 3808/2)\n",
    "match_table[\"pair_id\"] = match_table.apply(lambda x: str(min([x.iid, x.pid])) + str(max([x.iid, x.pid])), axis=1)\n",
    "# match_table.pair_id.nunique() # 1904 = 3808/2"
   ]
  },
  {
   "cell_type": "code",
   "execution_count": 16,
   "metadata": {
    "scrolled": false
   },
   "outputs": [
    {
     "name": "stdout",
     "output_type": "stream",
     "text": [
      "match rate =  0.16491596638655462 \n",
      "\n",
      "among same-race pairs, match rate = 0.17557251908396945\n",
      "among different-race pairs, match rate = 0.15932746196957567\n"
     ]
    },
    {
     "data": {
      "text/plain": [
       "Ttest_indResult(statistic=0.8960945433624198, pvalue=0.37037025391078415)"
      ]
     },
     "execution_count": 16,
     "metadata": {},
     "output_type": "execute_result"
    }
   ],
   "source": [
    "pair_df = trainML.merge(match_table, on=[\"iid\",\"pid\"])[[\"match_x\", \"samerace\", \"pair_id\"]]\n",
    "pair_df = pair_df.groupby(\"pair_id\").mean()\n",
    "print(\"match rate = \", Counter(pair_df.match_x)[1]/len(pair_df), \"\\n\")\n",
    "pair_samerace = pair_df[pair_df[\"samerace\"]==1]\n",
    "print(\"among same-race pairs, match rate =\", Counter(pair_samerace.match_x)[1]/len(pair_samerace))\n",
    "pair_diffrace = pair_df[pair_df[\"samerace\"]==0]\n",
    "print(\"among different-race pairs, match rate =\", Counter(pair_diffrace.match_x)[1]/len(pair_diffrace))\n",
    "\n",
    "stats.ttest_ind(pair_samerace.match_x, pair_diffrace.match_x, equal_var = False)\n",
    "# the difference is not significant\n",
    "\n"
   ]
  },
  {
   "cell_type": "code",
   "execution_count": 17,
   "metadata": {
    "scrolled": true
   },
   "outputs": [
    {
     "name": "stdout",
     "output_type": "stream",
     "text": [
      "will drop records that contain participants or partners: [489 386 170 299 114]\n"
     ]
    },
    {
     "data": {
      "text/html": [
       "<div>\n",
       "<style scoped>\n",
       "    .dataframe tbody tr th:only-of-type {\n",
       "        vertical-align: middle;\n",
       "    }\n",
       "\n",
       "    .dataframe tbody tr th {\n",
       "        vertical-align: top;\n",
       "    }\n",
       "\n",
       "    .dataframe thead th {\n",
       "        text-align: right;\n",
       "    }\n",
       "</style>\n",
       "<table border=\"1\" class=\"dataframe\">\n",
       "  <thead>\n",
       "    <tr style=\"text-align: right;\">\n",
       "      <th></th>\n",
       "      <th>pair_id</th>\n",
       "      <th>match_x</th>\n",
       "      <th>hobby_vec</th>\n",
       "      <th>hobby_sim</th>\n",
       "    </tr>\n",
       "  </thead>\n",
       "  <tbody>\n",
       "    <tr>\n",
       "      <th>0</th>\n",
       "      <td>102190</td>\n",
       "      <td>1</td>\n",
       "      <td>[[1.0, 1.0, 8.0, 8.0, 7.0, 7.0, 6.0, 2.0, 8.0,...</td>\n",
       "      <td>0.886182</td>\n",
       "    </tr>\n",
       "    <tr>\n",
       "      <th>1</th>\n",
       "      <td>102219</td>\n",
       "      <td>0</td>\n",
       "      <td>[[5.0, 8.0, 5.0, 9.0, 9.0, 9.0, 7.0, 1.0, 4.0,...</td>\n",
       "      <td>0.943396</td>\n",
       "    </tr>\n",
       "    <tr>\n",
       "      <th>2</th>\n",
       "      <td>102392</td>\n",
       "      <td>0</td>\n",
       "      <td>[[1.0, 2.0, 1.0, 8.0, 9.0, 9.0, 10.0, 1.0, 1.0...</td>\n",
       "      <td>0.863331</td>\n",
       "    </tr>\n",
       "    <tr>\n",
       "      <th>3</th>\n",
       "      <td>102451</td>\n",
       "      <td>0</td>\n",
       "      <td>[[9.0, 1.0, 6.0, 10.0, 8.0, 6.0, 9.0, 3.0, 6.0...</td>\n",
       "      <td>0.859277</td>\n",
       "    </tr>\n",
       "    <tr>\n",
       "      <th>4</th>\n",
       "      <td>102490</td>\n",
       "      <td>0</td>\n",
       "      <td>[[3.0, 5.0, 3.0, 10.0, 10.0, 7.0, 7.0, 1.0, 8....</td>\n",
       "      <td>0.903777</td>\n",
       "    </tr>\n",
       "  </tbody>\n",
       "</table>\n",
       "</div>"
      ],
      "text/plain": [
       "  pair_id  match_x                                          hobby_vec  \\\n",
       "0  102190        1  [[1.0, 1.0, 8.0, 8.0, 7.0, 7.0, 6.0, 2.0, 8.0,...   \n",
       "1  102219        0  [[5.0, 8.0, 5.0, 9.0, 9.0, 9.0, 7.0, 1.0, 4.0,...   \n",
       "2  102392        0  [[1.0, 2.0, 1.0, 8.0, 9.0, 9.0, 10.0, 1.0, 1.0...   \n",
       "3  102451        0  [[9.0, 1.0, 6.0, 10.0, 8.0, 6.0, 9.0, 3.0, 6.0...   \n",
       "4  102490        0  [[3.0, 5.0, 3.0, 10.0, 10.0, 7.0, 7.0, 1.0, 8....   \n",
       "\n",
       "   hobby_sim  \n",
       "0   0.886182  \n",
       "1   0.943396  \n",
       "2   0.863331  \n",
       "3   0.859277  \n",
       "4   0.903777  "
      ]
     },
     "execution_count": 17,
     "metadata": {},
     "output_type": "execute_result"
    }
   ],
   "source": [
    "from sklearn.metrics.pairwise import cosine_similarity\n",
    "\n",
    "pair_df = trainML.merge(match_table, on=[\"iid\",\"pid\"])[[\"iid\", \"pid\", \"match_x\", \"samerace\", \"pair_id\"] + pticipt_hobby]\n",
    "pair_df_na = pair_df[pair_df.isna().any(axis=1)]\n",
    "na_id = pair_df_na.iid.unique()\n",
    "print(\"will drop records that contain participants or partners:\", na_id)\n",
    "pair_df = pair_df[~pair_df[\"iid\"].isin(na_id)]\n",
    "pair_df = pair_df[~pair_df[\"pid\"].isin(na_id)]\n",
    "pair_df[\"hobby_vec\"] = pair_df.apply(lambda x: [x[a] for a in pticipt_hobby], axis=1)\n",
    "pair_df = pair_df[[\"hobby_vec\", \"match_x\", \"pair_id\"]]\n",
    "aggr_func = {\"match_x\": lambda x: max(x), \"hobby_vec\": lambda x: list(x)}\n",
    "aggr_pair = pair_df.groupby(\"pair_id\").aggregate(aggr_func).reset_index()\n",
    "aggr_pair[\"hobby_sim\"] = aggr_pair[\"hobby_vec\"].map(lambda x: \n",
    "                                                    cosine_similarity(np.array([x[0]]),np.array([x[1]]))[0][0])\n",
    "aggr_pair.head()"
   ]
  },
  {
   "cell_type": "code",
   "execution_count": 18,
   "metadata": {
    "scrolled": true
   },
   "outputs": [
    {
     "name": "stdout",
     "output_type": "stream",
     "text": [
      "among matched pairs, average of hobby similarity = 0.8940107499058287\n",
      "among unmatched pairs, average of hobby similarity = 0.8890838699009134\n"
     ]
    },
    {
     "data": {
      "image/png": "[encoded data removed]",
      "text/plain": [
       "<Figure size 432x216 with 1 Axes>"
      ]
     },
     "metadata": {
      "needs_background": "light"
     },
     "output_type": "display_data"
    },
    {
     "name": "stdout",
     "output_type": "stream",
     "text": [
      "Ttest_indResult(statistic=1.5403443965288282, pvalue=0.12419289627437595)\n"
     ]
    }
   ],
   "source": [
    "print(\"among matched pairs, average of hobby similarity =\", np.mean(aggr_pair[aggr_pair[\"match_x\"]==1].hobby_sim))\n",
    "print(\"among unmatched pairs, average of hobby similarity =\", np.mean(aggr_pair[aggr_pair[\"match_x\"]==0].hobby_sim))\n",
    "\n",
    "fig,ax = plt.subplots(figsize=(6,3))\n",
    "plt.boxplot([aggr_pair[aggr_pair[\"match_x\"]==1].hobby_sim, aggr_pair[aggr_pair[\"match_x\"]==0].hobby_sim])\n",
    "ax.set_xticklabels([\"matched\", \"unmatched\"], fontsize=14)\n",
    "plt.ylabel(\"cosine similarity\", fontsize=14)\n",
    "plt.title(f\"distribution of pair hobby similarity (N = {len(aggr_pair)})\", fontsize=16)\n",
    "plt.show()\n",
    "\n",
    "print(stats.ttest_ind(aggr_pair[aggr_pair[\"match_x\"]==1].hobby_sim,\n",
    "                      aggr_pair[aggr_pair[\"match_x\"]==0].hobby_sim,equal_var = False))"
   ]
  },
  {
   "cell_type": "markdown",
   "metadata": {},
   "source": [
    "<font color=\"royalblue\">\n",
    "\n",
    "### written conclusion\n",
    "    \n",
    "\n",
    "**by participant (individual-level statistics)**\n",
    "    \n",
    "- gender: 128 males (`1`) and 129 females (`0`) --> gender ratio ~ 1:1  \n",
    "- age: most participants are in the range of 25-30, average ~ 26.6, the distribution is slightly right skewed, - with a thin tail stretching to 55 years old (max).  \n",
    "- race: most are European/Caucasian-American.  \n",
    "- preference: based on the median value, \"intelligence\", \"attractiveness\", and \"sincerity\" are the top 3 important qualities listed by participants.\n",
    "- correlation between self-rated and expected qualities: participants' self-rated levels do not seem to be strongly correlated to their expected levels (they are different than what they are looking for); participants who self-reported to be more sincere are more likely to place sincerity in higher priority when looking for partners, but the correlation is not that strong (pearson r = 0.43).\n",
    "- correlation between self-rated and partner-rated qualities: weak/negligible correlation between participants' self-ratings and ratings from their partners, which means participants' self-perceptions are not really aligned with their impressions on the corresponding partners.\n",
    "\n",
    "**by pair (pair-level statistics)**\n",
    "    \n",
    "- match rate: among 1904 unique pairs of partners, the match rate is 16.49% (sadly).\n",
    "- same/different race pairs: the match rate among same-race pairs are slightly higher than that in different-race pairs, but the difference is not significant. \n",
    "- hobby similarity: for those pairs with a hobby similarity score less than 0.75, they are not likely to match; but the average score of hobby similarity between matched pairs and unmatched pairs are not significantly different. \n",
    "    \n",
    "**handling missing values and outliers:**\n",
    "- dropped `nan` values using `df.dropna()` (this was performed on the sub-dataframe instead of on the full dataset, so that I can keep as many rows as possible) \n",
    "- filtered outliers (e.g., when plotting boxplot, filtered one participant who gave a negative score (negligible effect on the entire distribution))\n",
    "    \n",
    "</font>"
   ]
  },
  {
   "cell_type": "markdown",
   "metadata": {},
   "source": [
    "## part 2: predicting matches (35 points)\n",
    "\n",
    "You will build and compare machine learning models to predict if participants X and Y who met for the speed-date actually “matched” i.e. after the event finished they did choose to see their date again. Note that our data contains both the observations, when participant X is the “ID” and Y is the “partner ID”, and when Y is the “ID” and X is the “partner ID”. It’s easy to see that this is an **asymmetric prediction task**—X might choose to see Y again but Y might not choose to see X again.\n",
    "\n",
    "**Notes from Piazza:**  \n",
    "@88 However, what I mentioned was regarding data imputation while choosing the best model by splitting the training dataset into train and dev sets. For that, it is fine to impute values on the full training set and then split it into train+dev sets as that is all part of the training data. "
   ]
  },
  {
   "cell_type": "markdown",
   "metadata": {},
   "source": [
    "<font color=\"royalblue\">\n",
    "\n",
    "### preprocessing steps: \n",
    "    \n",
    "1. create new dummy columns for categorical variables (`from`, `field`, and `career`) to indicate whether the participant and the partner fall into the same category (except that we already have `samerace`) and dropped old categorical variables.  \n",
    "2. drop columns\n",
    "    - `iid` and `pid`\n",
    "    - `shar1_1` in the training set (the test set doesn't have this variable)\n",
    "3. impute missing data using the `mean` strategy\n",
    "4. standardized data using `MinMaxScaler()`\n",
    "5. split the training set into training/development subset (`test_size=0.25`)\n",
    "</font>"
   ]
  },
  {
   "cell_type": "code",
   "execution_count": 19,
   "metadata": {
    "scrolled": true
   },
   "outputs": [
    {
     "data": {
      "text/plain": [
       "{'shar1_1'}"
      ]
     },
     "execution_count": 19,
     "metadata": {},
     "output_type": "execute_result"
    }
   ],
   "source": [
    "set(trainML.columns) - set(testML.columns)  # share1_1 is not in testML dataframe (drop this feature)"
   ]
  },
  {
   "cell_type": "code",
   "execution_count": 20,
   "metadata": {},
   "outputs": [],
   "source": [
    "# preprocessing\n",
    "from sklearn.preprocessing import MinMaxScaler\n",
    "from sklearn.impute import SimpleImputer\n",
    "from sklearn.model_selection import train_test_split\n",
    "from sklearn.feature_selection import SelectKBest, chi2, f_classif\n",
    "\n",
    "def preprocessing(n_features=10): # ok!\n",
    "    # get data\n",
    "    X = trainML.loc[:, (trainML.columns != \"match\")]\n",
    "    y = trainML.loc[:, \"match\"]\n",
    "\n",
    "    # create dummy variables for categorical columns, then drop categorical columns\n",
    "    def assign_dummy(a,b):\n",
    "        if a == b: return 1\n",
    "        else: return 0\n",
    "\n",
    "    X = X.merge(X[[\"iid\",\"from\",\"field\",\"career\"]].groupby(\"iid\").first().reset_index(), \n",
    "                left_on=\"pid\", right_on=\"iid\")\n",
    "    X = X.drop(columns=\"iid_y\").rename(columns={\"iid_x\": \"iid\"})\n",
    "    X[\"samefrom\"] = X.apply(lambda x: assign_dummy(x.from_x, x.from_y), axis=1)\n",
    "    X[\"samefield\"] = X.apply(lambda x: assign_dummy(x.field_x, x.field_y), axis=1)\n",
    "    X[\"samecareer\"] = X.apply(lambda x: assign_dummy(x.career_x, x.career_y), axis=1)\n",
    "    X = X.drop(columns=[\"race_o\",\"from_x\",\"from_y\",\"field_x\",\"field_y\",\"career_x\",\"career_y\"])\n",
    "\n",
    "    # drop id and shar1_1\n",
    "    X = X.drop(columns=[\"iid\",\"pid\",\"shar1_1\"])\n",
    "    X_columns = X.columns\n",
    "\n",
    "    # impute missing data\n",
    "    imputer = SimpleImputer(strategy=\"mean\")\n",
    "    X = imputer.fit_transform(X)\n",
    "\n",
    "    # standardize \n",
    "    scaler = MinMaxScaler()\n",
    "    X = scaler.fit_transform(X)\n",
    "    X = pd.DataFrame(X, columns=X_columns)\n",
    "\n",
    "#     # select feature (default: top 10 features) \n",
    "#     # REMOVED FROM PREPROCESSING!! --> will use gridsearch to determine the best K\n",
    "#     selector = SelectKBest(score_func=f_classif, k=n_features)\n",
    "#     X = selector.fit_transform(X, y)\n",
    "#     dfscores = pd.DataFrame(selector.fit(X,y).scores_)  # print output\n",
    "#     dfcolumns = pd.DataFrame(X_columns)\n",
    "#     featureScores = pd.concat([dfcolumns,dfscores], axis=1)\n",
    "#     featureScores.columns = [\"specs\",\"score\"]  #naming the dataframe columns\n",
    "#     print(\"selected features:\")\n",
    "#     print(featureScores.nlargest(n_features,\"score\"))  #print 10 best features\n",
    "#     print(\"\\n\")\n",
    "\n",
    "    # training/validation split\n",
    "    X_train, X_dev, y_train, y_dev = train_test_split(X, y, test_size=0.25, random_state=2666)\n",
    "    print(\"X_train\", X_train.shape)\n",
    "    print(\"X_dev\", X_dev.shape)\n",
    "    print(\"y_train\", y_train.shape)\n",
    "    print(\"y_dev\", y_dev.shape)\n",
    "    \n",
    "    return X_train, X_dev, y_train, y_dev"
   ]
  },
  {
   "cell_type": "markdown",
   "metadata": {},
   "source": [
    "<font color=\"royalblue\">\n",
    "\n",
    "### Predicting models\n",
    "    \n",
    "- used `GridSearchCV` to search for the best parameters for all models\n",
    "- used F1, precision and recall score to evaluate model performance\n",
    "- further printed out the confusion matrix to look at the classification results\n",
    "- used cross validation (`cv = 5`) to select optimal models\n",
    "\n",
    "#### Lasso Regression\n",
    "    \n",
    "Results: achieved a precision of 0.77, a recall of 0.82 and an F1 of 0.75. \n",
    "    \n",
    "</font>"
   ]
  },
  {
   "cell_type": "code",
   "execution_count": 21,
   "metadata": {},
   "outputs": [
    {
     "name": "stdout",
     "output_type": "stream",
     "text": [
      "X_train (2856, 56)\n",
      "X_dev (952, 56)\n",
      "y_train (2856,)\n",
      "y_dev (952,)\n",
      "best parameter: {'clf__alpha': 0.0004641588833612782, 'select__k': 20}\n",
      "best decision boundary = 0.30000000000000004\n",
      "best weighted F1 = 0.7492228514896305\n",
      "best weighted recall = 0.8245798319327731\n",
      "best weighted precision = 0.7687712743325178 \n",
      "\n",
      "confusion matrix:\n",
      "[[783   2]\n",
      " [165   2]]\n"
     ]
    }
   ],
   "source": [
    "from sklearn.linear_model import Lasso\n",
    "from sklearn.model_selection import GridSearchCV\n",
    "from sklearn.pipeline import Pipeline\n",
    "from sklearn.metrics import f1_score, accuracy_score, recall_score, precision_score\n",
    "from sklearn.metrics import confusion_matrix\n",
    "\n",
    "\n",
    "def lasso_reg():\n",
    "    X_train, X_dev, y_train, y_dev = preprocessing()\n",
    "    \n",
    "    pipe = Pipeline([(\"select\", SelectKBest()), (\"clf\", Lasso())])\n",
    "    param_grid = [{\"select__k\": [10, 20, 30, 40], \"clf__alpha\": np.logspace(-10,10,10)}]\n",
    "    search = GridSearchCV(pipe, param_grid, cv=5)\n",
    "    search.fit(X_train, y_train)\n",
    "    print(f\"best parameter: {search.best_params_}\")\n",
    "    \n",
    "    # finding an optimal decision boundary\n",
    "    search_clf = search. best_estimator_\n",
    "    search_clf.fit(X_train, y_train)\n",
    "    dev_scores = {}\n",
    "    for this_db in np.arange(0.1, 1, 0.1):\n",
    "#         print(\"decision boundary =\", this_db)\n",
    "        train_preds = search_clf.predict(X_train)\n",
    "        train_preds = [1 if x >= this_db else 0 for x in train_preds]\n",
    "        dev_preds = search_clf.predict(X_dev)\n",
    "        dev_preds = [1 if x >= this_db else 0 for x in dev_preds]\n",
    "        train_f1 = f1_score(y_train, train_preds, average=\"weighted\")  \n",
    "        dev_f1 = f1_score(y_dev, dev_preds, average=\"weighted\") \n",
    "#         print(\"- f1 for training =\", train_f1)\n",
    "#         print(\"- f1 for development =\", dev_f1)\n",
    "        dev_scores[this_db] = dev_f1\n",
    "    \n",
    "    best_db = max(dev_scores, key=dev_scores.get)\n",
    "    print(\"best decision boundary =\", best_db)\n",
    "    dev_preds = search_clf.predict(X_dev)\n",
    "    dev_preds = [1 if x >= best_db else 0 for x in dev_preds]\n",
    "    best_dev_f1 = f1_score(y_dev, dev_preds, average=\"weighted\") \n",
    "    best_dev_reca = recall_score(y_dev, dev_preds, average=\"weighted\")\n",
    "    best_dev_prec = precision_score(y_dev, dev_preds, average=\"weighted\")\n",
    "    print(\"best weighted F1 =\", best_dev_f1)\n",
    "    print(\"best weighted recall =\", best_dev_reca)\n",
    "    print(\"best weighted precision =\", best_dev_prec, \"\\n\")\n",
    "    \n",
    "    print(\"confusion matrix:\")\n",
    "    print(confusion_matrix(y_dev, dev_preds))\n",
    "    \n",
    "lasso_reg()"
   ]
  },
  {
   "cell_type": "markdown",
   "metadata": {},
   "source": [
    "<font color=\"royalblue\">\n",
    "\n",
    "#### Logistic Regression\n",
    "    \n",
    "Results: achieved a precision of 0.67, a recall of 0.82 and an F1 of 0.74. \n",
    "    \n",
    "Based on the confusion matrix, the model is not throwing any negative labels. So I added `class_weights=\"balanced\" to see whether that helps. As a results, the \"balanced\" classifier does have a higher precision, but it dramatically sacrifices the recall and produces a even lower F1. I also tried to set a higher cap for iteration number, but it seems the poor performance is not caused by limited iterations.\n",
    "\n",
    "</font>"
   ]
  },
  {
   "cell_type": "code",
   "execution_count": 22,
   "metadata": {
    "scrolled": true
   },
   "outputs": [
    {
     "name": "stdout",
     "output_type": "stream",
     "text": [
      "X_train (2856, 56)\n",
      "X_dev (952, 56)\n",
      "y_train (2856,)\n",
      "y_dev (952,)\n",
      "best parameter: {'clf__C': 1e-10, 'select__k': 10}\n",
      "----- for training set -----\n",
      "best weighted F1 = 0.7649636697185063\n",
      "best weighted recall = 0.8385854341736695\n",
      "best weighted precision = 0.7032255304082418 \n",
      "\n",
      "----- for validation set -----\n",
      "best weighted F1 = 0.7453024387647977\n",
      "best weighted recall = 0.8245798319327731\n",
      "best weighted precision = 0.6799318992302803 \n",
      "\n",
      "confusion matrix:\n",
      "[[785   0]\n",
      " [167   0]]\n"
     ]
    }
   ],
   "source": [
    "from sklearn.linear_model import LogisticRegression\n",
    "\n",
    "def logit_reg():\n",
    "    X_train, X_dev, y_train, y_dev = preprocessing()\n",
    "    \n",
    "    pipe = Pipeline([(\"select\", SelectKBest()), (\"clf\", LogisticRegression(max_iter=1000))])\n",
    "    param_grid = [{\"select__k\": [10, 20, 30, 40], \"clf__C\": np.logspace(-10,10,10)}]\n",
    "    search = GridSearchCV(pipe, param_grid, cv=5)\n",
    "    search.fit(X_train, y_train)\n",
    "    print(f\"best parameter: {search.best_params_}\")\n",
    "    \n",
    "    search_clf = search. best_estimator_\n",
    "    search_clf.fit(X_train, y_train)\n",
    "    train_preds = search_clf.predict(X_train)\n",
    "    dev_preds = search_clf.predict(X_dev)\n",
    "    train_f1 = f1_score(y_train, train_preds, average=\"weighted\")  \n",
    "    train_reca = recall_score(y_train, train_preds, average=\"weighted\")\n",
    "    train_prec = precision_score(y_train, train_preds, average=\"weighted\")\n",
    "    print(\"----- for training set -----\")\n",
    "    print(\"best weighted F1 =\", train_f1)\n",
    "    print(\"best weighted recall =\", train_reca)\n",
    "    print(\"best weighted precision =\", train_prec, \"\\n\")    \n",
    "    dev_f1 = f1_score(y_dev, dev_preds, average=\"weighted\") \n",
    "    dev_reca = recall_score(y_dev, dev_preds, average=\"weighted\")\n",
    "    dev_prec = precision_score(y_dev, dev_preds, average=\"weighted\")\n",
    "    print(\"----- for validation set -----\")\n",
    "    print(\"best weighted F1 =\", dev_f1)\n",
    "    print(\"best weighted recall =\", dev_reca)\n",
    "    print(\"best weighted precision =\", dev_prec, \"\\n\")\n",
    "    \n",
    "    print(\"confusion matrix:\")\n",
    "    print(confusion_matrix(y_dev, dev_preds))\n",
    "    \n",
    "\n",
    "logit_reg()"
   ]
  },
  {
   "cell_type": "code",
   "execution_count": 24,
   "metadata": {},
   "outputs": [
    {
     "name": "stdout",
     "output_type": "stream",
     "text": [
      "X_train (2856, 56)\n",
      "X_dev (952, 56)\n",
      "y_train (2856,)\n",
      "y_dev (952,)\n",
      "best parameter: {'clf__C': 12.915496650148826, 'select__k': 20}\n",
      "----- for training set -----\n",
      "best weighted F1 = 0.6539915845490062\n",
      "best weighted recall = 0.601890756302521\n",
      "best weighted precision = 0.7693931344521516 \n",
      "\n",
      "----- for validation set -----\n",
      "best weighted F1 = 0.6386155271782403\n",
      "best weighted recall = 0.5934873949579832\n",
      "best weighted precision = 0.7174450012563165 \n",
      "\n",
      "confusion matrix:\n",
      "[[500 285]\n",
      " [102  65]]\n"
     ]
    }
   ],
   "source": [
    "def logit_reg():\n",
    "    X_train, X_dev, y_train, y_dev = preprocessing()\n",
    "    \n",
    "    pipe = Pipeline([(\"select\", SelectKBest()), (\"clf\", LogisticRegression(class_weight=\"balanced\", max_iter=1000))])\n",
    "    param_grid = [{\"select__k\": [10, 20, 30, 40], \"clf__C\": np.logspace(-10,10,10)}]\n",
    "    search = GridSearchCV(pipe, param_grid, cv=5)\n",
    "    search.fit(X_train, y_train)\n",
    "    print(f\"best parameter: {search.best_params_}\")\n",
    "    \n",
    "    search_clf = search. best_estimator_\n",
    "    search_clf.fit(X_train, y_train)\n",
    "    train_preds = search_clf.predict(X_train)\n",
    "    dev_preds = search_clf.predict(X_dev)\n",
    "    train_f1 = f1_score(y_train, train_preds, average=\"weighted\")  \n",
    "    train_reca = recall_score(y_train, train_preds, average=\"weighted\")\n",
    "    train_prec = precision_score(y_train, train_preds, average=\"weighted\")\n",
    "    print(\"----- for training set -----\")\n",
    "    print(\"best weighted F1 =\", train_f1)\n",
    "    print(\"best weighted recall =\", train_reca)\n",
    "    print(\"best weighted precision =\", train_prec, \"\\n\")    \n",
    "    dev_f1 = f1_score(y_dev, dev_preds, average=\"weighted\") \n",
    "    dev_reca = recall_score(y_dev, dev_preds, average=\"weighted\")\n",
    "    dev_prec = precision_score(y_dev, dev_preds, average=\"weighted\")\n",
    "    print(\"----- for validation set -----\")\n",
    "    print(\"best weighted F1 =\", dev_f1)\n",
    "    print(\"best weighted recall =\", dev_reca)\n",
    "    print(\"best weighted precision =\", dev_prec, \"\\n\")\n",
    "    \n",
    "    print(\"confusion matrix:\")\n",
    "    print(confusion_matrix(y_dev, dev_preds))\n",
    "    \n",
    "\n",
    "logit_reg()"
   ]
  },
  {
   "cell_type": "markdown",
   "metadata": {},
   "source": [
    "<font color=\"royalblue\">\n",
    "\n",
    "#### Random Forests\n",
    "   \n",
    "Results: achieved a precision of 0.78, a recall of 0.75 and an F1 of 0.76. \n",
    "   \n",
    "\n",
    "</font>"
   ]
  },
  {
   "cell_type": "code",
   "execution_count": 25,
   "metadata": {},
   "outputs": [
    {
     "name": "stdout",
     "output_type": "stream",
     "text": [
      "X_train (2856, 56)\n",
      "X_dev (952, 56)\n",
      "y_train (2856,)\n",
      "y_dev (952,)\n",
      "best parameter: {'clf__criterion': 'gini', 'clf__max_depth': 9, 'clf__n_estimators': 45, 'select__k': 40}\n",
      "best weighted F1 = 0.7529705667116567\n",
      "best weighted recall = 0.7752100840336135\n",
      "best weighted precision = 0.7372649873013117 \n",
      "\n",
      "confusion matrix:\n",
      "[[710  75]\n",
      " [139  28]]\n"
     ]
    }
   ],
   "source": [
    "from sklearn.ensemble import RandomForestClassifier\n",
    "\n",
    "def rf_clf():\n",
    "    X_train, X_dev, y_train, y_dev = preprocessing()\n",
    "    \n",
    "    pipe = Pipeline([(\"select\", SelectKBest()), (\"clf\", RandomForestClassifier(class_weight=\"balanced\"))])\n",
    "    param_grid = [{\"select__k\": [10, 20, 30, 40], \n",
    "                   \"clf__n_estimators\": np.arange(5, 50, 5),\n",
    "                   \"clf__max_depth\": np.arange(2, 10, 1),\n",
    "                   \"clf__criterion\": [\"gini\", \"entropy\"]}]   \n",
    "    search = GridSearchCV(pipe, param_grid, cv=5)\n",
    "    search.fit(X_train, y_train)\n",
    "    print(f\"best parameter: {search.best_params_}\")\n",
    "    \n",
    "    search_clf = search. best_estimator_\n",
    "    search_clf.fit(X_train, y_train)\n",
    "    train_preds = search_clf.predict(X_train)\n",
    "    dev_preds = search_clf.predict(X_dev)\n",
    "    train_f1 = f1_score(y_train, train_preds, average=\"weighted\")  \n",
    "    dev_f1 = f1_score(y_dev, dev_preds, average=\"weighted\") \n",
    "    dev_reca = recall_score(y_dev, dev_preds, average=\"weighted\")\n",
    "    dev_prec = precision_score(y_dev, dev_preds, average=\"weighted\")\n",
    "    print(\"best weighted F1 =\", dev_f1)\n",
    "    print(\"best weighted recall =\", dev_reca)\n",
    "    print(\"best weighted precision =\", dev_prec, \"\\n\")\n",
    "    \n",
    "    print(\"confusion matrix:\")\n",
    "    print(confusion_matrix(y_dev, dev_preds))\n",
    "    \n",
    "    \n",
    "rf_clf()"
   ]
  },
  {
   "cell_type": "markdown",
   "metadata": {},
   "source": [
    "<font color=\"royalblue\">\n",
    "\n",
    "#### Support Vector Machine\n",
    "\n",
    "Results: achieved a precision of 0.72, a recall of 0.82 and an F1 of 0.75\n",
    "\n",
    "</font>"
   ]
  },
  {
   "cell_type": "code",
   "execution_count": 26,
   "metadata": {},
   "outputs": [
    {
     "name": "stdout",
     "output_type": "stream",
     "text": [
      "X_train (2856, 56)\n",
      "X_dev (952, 56)\n",
      "y_train (2856,)\n",
      "y_dev (952,)\n",
      "best parameter: {'clf__C': 1, 'clf__gamma': 10, 'clf__kernel': 'rbf', 'select__k': 40}\n",
      "best weighted F1 = 0.7456850912662181\n",
      "best weighted recall = 0.8214285714285714\n",
      "best weighted precision = 0.7151229446372 \n",
      "\n",
      "confusion matrix:\n",
      "[[781   4]\n",
      " [166   1]]\n"
     ]
    }
   ],
   "source": [
    "from sklearn.svm import SVC\n",
    "\n",
    "def svc_clf():\n",
    "    X_train, X_dev, y_train, y_dev = preprocessing()\n",
    "    pipe = Pipeline([(\"select\", SelectKBest()), (\"clf\", SVC())])\n",
    "    param_grid = [{\"select__k\": [10, 20, 30, 40], \n",
    "                   \"clf__kernel\": [\"linear\", \"rbf\"],\n",
    "                   \"clf__gamma\": [1e-5,0.1,1,5,10],\n",
    "                   \"clf__C\": [1e-5,0.1,1,5,10]}]\n",
    "    search = GridSearchCV(pipe, param_grid, cv=5)\n",
    "    search.fit(X_train, y_train)\n",
    "    print(f\"best parameter: {search.best_params_}\")\n",
    "    \n",
    "    search_clf = search. best_estimator_\n",
    "    search_clf.fit(X_train, y_train)\n",
    "    train_preds = search_clf.predict(X_train)\n",
    "    dev_preds = search_clf.predict(X_dev)\n",
    "    train_f1 = f1_score(y_train, train_preds, average=\"weighted\")  \n",
    "    dev_f1 = f1_score(y_dev, dev_preds, average=\"weighted\") \n",
    "    dev_reca = recall_score(y_dev, dev_preds, average=\"weighted\")\n",
    "    dev_prec = precision_score(y_dev, dev_preds, average=\"weighted\")\n",
    "    print(\"best weighted F1 =\", dev_f1)\n",
    "    print(\"best weighted recall =\", dev_reca)\n",
    "    print(\"best weighted precision =\", dev_prec, \"\\n\")\n",
    "    \n",
    "    print(\"confusion matrix:\")\n",
    "    print(confusion_matrix(y_dev, dev_preds))\n",
    "    \n",
    "\n",
    "svc_clf()   "
   ]
  },
  {
   "cell_type": "markdown",
   "metadata": {},
   "source": [
    "<font color=\"royalblue\">\n",
    "\n",
    "### written conclusion\n",
    "\n",
    "|model|Lasso|Logistic|Random Forest|SVM| \n",
    "|-----|-----|-----|-----|-----|\n",
    "|recall|0.8245|0.5935|0.7805|0.8214|\n",
    "|precission|0.7688|0.7174|0.7511|0.7151|\n",
    "|F1|0.7492|0.6386|0.7633|0.7457|\n",
    "\n",
    "Recall = TP / (TP + FN)     \n",
    "Precision = TP / (TP + FP)   \n",
    "F1 = 2* (recall*precision) / (recall + precision)\n",
    "    \n",
    "A higher recall means that among all the actual \"matched\" pairs, the model can generate more of those true positive labels. A higher precision means that among all the predicted \"matched\" pairs, there are more true positive pairs that are actually matched - and there is a trade-off between precision and recall. Overall, I will use F1 to select the best model, as F1 score computes \"harmonic mean\" of the precision and recall.\n",
    "- Logistic (the worst): the model (with balanced class) has the lowest F1, recall, precision.\n",
    "- Lasso & SVC (mediocre): both model have a relatively higher recall than their precision, which means that these two models generate many false positive cases (classify non-matched pairs as matched). Lasso is slightly better than SVC.\n",
    "- Random Forest (the best): the model achieves a balance between precision and recall, and receives the highest F1 among all classifiers.\n",
    "    \n",
    "Final selection: Random Forest  \n",
    "Best Parameters: `{'clf__criterion': 'gini', 'clf__max_depth': 9, 'clf__n_estimators': 35, 'select__k': 40}`\n",
    "    \n",
    "</font>"
   ]
  },
  {
   "cell_type": "markdown",
   "metadata": {},
   "source": [
    "### save output on the test set"
   ]
  },
  {
   "cell_type": "code",
   "execution_count": 27,
   "metadata": {},
   "outputs": [],
   "source": [
    "def preprocessing2(n_features=10): # ok!\n",
    "    # get data\n",
    "    X = testML\n",
    "\n",
    "    # create dummy variables for categorical columns, then drop categorical columns\n",
    "    def assign_dummy(a,b):\n",
    "        if a == b: return 1\n",
    "        else: return 0\n",
    "\n",
    "    X = X.merge(X[[\"iid\",\"from\",\"field\",\"career\"]].groupby(\"iid\").first().reset_index(), \n",
    "                left_on=\"pid\", right_on=\"iid\")\n",
    "    X = X.drop(columns=\"iid_y\").rename(columns={\"iid_x\": \"iid\"})\n",
    "    X[\"samefrom\"] = X.apply(lambda x: assign_dummy(x.from_x, x.from_y), axis=1)\n",
    "    X[\"samefield\"] = X.apply(lambda x: assign_dummy(x.field_x, x.field_y), axis=1)\n",
    "    X[\"samecareer\"] = X.apply(lambda x: assign_dummy(x.career_x, x.career_y), axis=1)\n",
    "    X = X.drop(columns=[\"race_o\",\"from_x\",\"from_y\",\"field_x\",\"field_y\",\"career_x\",\"career_y\"])\n",
    "\n",
    "    # drop id and shar1_1\n",
    "    X = X.drop(columns=[\"iid\",\"pid\",\"match\"])\n",
    "    X_columns = X.columns\n",
    "\n",
    "\n",
    "    # impute missing data\n",
    "    imputer = SimpleImputer(strategy=\"mean\")\n",
    "    X = imputer.fit_transform(X)\n",
    "\n",
    "    # standardize \n",
    "    scaler = MinMaxScaler()\n",
    "    X = scaler.fit_transform(X)\n",
    "    X = pd.DataFrame(X, columns=X_columns)\n",
    "    \n",
    "    return X\n",
    "\n",
    "# X_test = preprocessing2()  # same columns as X_train"
   ]
  },
  {
   "cell_type": "code",
   "execution_count": 28,
   "metadata": {},
   "outputs": [],
   "source": [
    "def best_rf_clf():\n",
    "    X_test = preprocessing2()\n",
    "    \n",
    "    # merge the training set\n",
    "    X_train, X_dev, y_train, y_dev = preprocessing()\n",
    "    X_train = pd.concat([X_train, X_dev], axis=0)\n",
    "    y_train = pd.concat([y_train, y_dev], axis=0)\n",
    "    \n",
    "    # select features\n",
    "    selector = SelectKBest(score_func=f_classif, k=40)\n",
    "    X = selector.fit_transform(X_train, y_train)\n",
    "    \n",
    "    clf = RandomForestClassifier(criterion=\"gini\",\n",
    "                                 max_depth=9,\n",
    "                                 n_estimators=35,\n",
    "                                 class_weight=\"balanced\")\n",
    "    clf.fit(X_train, y_train)\n",
    "    \n",
    "    preds_test = clf.predict(X_test)\n",
    "#     print(preds_test.shape)\n",
    "\n",
    "    return preds_test\n",
    "\n",
    "# best_rf_clf()"
   ]
  },
  {
   "cell_type": "code",
   "execution_count": 29,
   "metadata": {},
   "outputs": [
    {
     "name": "stdout",
     "output_type": "stream",
     "text": [
      "X_train (2856, 56)\n",
      "X_dev (952, 56)\n",
      "y_train (2856,)\n",
      "y_dev (952,)\n"
     ]
    }
   ],
   "source": [
    "result_table = testML\n",
    "result_table[\"match\"] = best_rf_clf()\n",
    "result_table.to_csv(\"testML_new.csv\", index=False)  # will change the name later"
   ]
  },
  {
   "cell_type": "code",
   "execution_count": 37,
   "metadata": {},
   "outputs": [
    {
     "data": {
      "text/plain": [
       "Counter({0: 2974, 1: 24})"
      ]
     },
     "execution_count": 37,
     "metadata": {},
     "output_type": "execute_result"
    }
   ],
   "source": [
    "Counter(result_table[\"match\"])"
   ]
  },
  {
   "cell_type": "markdown",
   "metadata": {},
   "source": [
    "## part 3: build recommendation engine (50 points)\n",
    "\n",
    "For the final part of the homework you have to build a recommendation engine where you have to predict the missing ratings (1-10 scale) of a participant X for their date Y. You are encouraged to use the surprise Python library (http://surpriselib.com) and compare at least 4 algorithms for generating the missing ratings e.g. SVD, SVD++, NMF, k-NN, SGD, etc.\n",
    "\n",
    "We provide you with training dataset which you should use judiciously to train your models. We also provide a test dataset testRec.csv where the partner ratings are absent.\n",
    "\n",
    "**Notes from Piazza:**  \n",
    "@108 The different strategies to consider can be 1). do nothing, 2). scale proportionately, 3). approximate > 10 as 10 etc.."
   ]
  },
  {
   "cell_type": "code",
   "execution_count": 30,
   "metadata": {
    "scrolled": false
   },
   "outputs": [
    {
     "data": {
      "image/png": "[encoded data removed]",
      "text/plain": [
       "<Figure size 432x288 with 1 Axes>"
      ]
     },
     "metadata": {
      "needs_background": "light"
     },
     "output_type": "display_data"
    },
    {
     "name": "stdout",
     "output_type": "stream",
     "text": [
      "min = 1.62\n",
      "max = 11.0\n",
      "mean = 6.3900284298382894\n",
      "median = 6.400000000000001\n"
     ]
    }
   ],
   "source": [
    "plt.hist(trainRec.rate, color=\"royalblue\")\n",
    "plt.xlabel(\"rating\", fontsize=14)\n",
    "plt.ylabel(\"# of people\", fontsize=14)\n",
    "plt.title(\"distribution of ratings\", fontsize=14)\n",
    "plt.show()\n",
    "print(\"min =\", min(trainRec.rate))\n",
    "print(\"max =\", max(trainRec.rate))\n",
    "print(\"mean =\", np.mean(trainRec.rate))\n",
    "print(\"median =\", np.median(trainRec.rate))"
   ]
  },
  {
   "cell_type": "markdown",
   "metadata": {},
   "source": [
    "<font color=\"royalblue\">\n",
    "\n",
    "### Models\n",
    "\n",
    "Steps:\n",
    "- read dataset\n",
    "- apply different algorithms (here I used SVD, SVD++, NMF and KNN (basic).\n",
    "- iterate through multiple folds to calculate the mean MSE\n",
    "- select the model with the lowest average MSE across K folds\n",
    "\n",
    "\n",
    "</font>\n",
    "\n",
    "#### SVD"
   ]
  },
  {
   "cell_type": "code",
   "execution_count": 31,
   "metadata": {},
   "outputs": [
    {
     "name": "stdout",
     "output_type": "stream",
     "text": [
      "MSE: 0.0483\n",
      "MSE: 0.0506\n",
      "MSE: 0.0496\n",
      "MSE: 0.0511\n",
      "MSE: 0.0499\n",
      "average mse = 0.049891634820809674\n"
     ]
    }
   ],
   "source": [
    "import surprise\n",
    "from surprise import SVD\n",
    "from surprise import Reader\n",
    "from surprise import Dataset\n",
    "from surprise.accuracy import mse\n",
    "from surprise.model_selection import KFold\n",
    "\n",
    "\n",
    "def svd_rec():\n",
    "    reader = Reader(rating_scale=(min(trainRec.rate), max(trainRec.rate)))\n",
    "    data = Dataset.load_from_df(trainRec, reader)\n",
    "    \n",
    "#   cross-validation iterator\n",
    "    kf = KFold(n_splits=5)\n",
    "    algo = SVD()\n",
    "    scores = []\n",
    "    for trainset, testset in kf.split(data):\n",
    "        algo.fit(trainset)\n",
    "        preds = algo.test(testset)\n",
    "        scores.append(mse(preds, verbose=True))\n",
    "    avg_mse = np.mean(scores)\n",
    "    print(\"average mse =\", avg_mse)\n",
    "        \n",
    "svd_rec()"
   ]
  },
  {
   "cell_type": "markdown",
   "metadata": {},
   "source": [
    "#### SVD++"
   ]
  },
  {
   "cell_type": "code",
   "execution_count": 32,
   "metadata": {},
   "outputs": [
    {
     "name": "stdout",
     "output_type": "stream",
     "text": [
      "MSE: 0.0349\n",
      "MSE: 0.0371\n",
      "MSE: 0.0376\n",
      "MSE: 0.0345\n",
      "MSE: 0.0341\n",
      "average mse = 0.035633853396946316\n"
     ]
    }
   ],
   "source": [
    "from surprise import SVDpp\n",
    "def svdpp_rec():\n",
    "    \n",
    "    reader = Reader(rating_scale=(min(trainRec.rate), max(trainRec.rate)))\n",
    "    data = Dataset.load_from_df(trainRec, reader)\n",
    "    \n",
    "#   cross-validation iterator\n",
    "    kf = KFold(n_splits=5)\n",
    "    algo = SVDpp()\n",
    "    scores = []\n",
    "    for trainset, testset in kf.split(data):\n",
    "        algo.fit(trainset)\n",
    "        preds = algo.test(testset)\n",
    "        scores.append(mse(preds, verbose=True))\n",
    "    avg_mse = np.mean(scores)\n",
    "    print(\"average mse =\", avg_mse)\n",
    "        \n",
    "svdpp_rec()"
   ]
  },
  {
   "cell_type": "markdown",
   "metadata": {},
   "source": [
    "#### NMF"
   ]
  },
  {
   "cell_type": "code",
   "execution_count": 33,
   "metadata": {},
   "outputs": [
    {
     "name": "stdout",
     "output_type": "stream",
     "text": [
      "MSE: 1.0995\n",
      "MSE: 1.0145\n",
      "MSE: 1.0327\n",
      "MSE: 1.0004\n",
      "MSE: 0.9975\n",
      "average mse = 1.028924106257791\n"
     ]
    }
   ],
   "source": [
    "from surprise import NMF\n",
    "\n",
    "def nmf_rec():\n",
    "    \n",
    "    reader = Reader(rating_scale=(min(trainRec.rate), max(trainRec.rate)))\n",
    "    data = Dataset.load_from_df(trainRec, reader)\n",
    "    \n",
    "#   cross-validation iterator\n",
    "    kf = KFold(n_splits=5)\n",
    "    algo = NMF()\n",
    "    scores = []\n",
    "    for trainset, testset in kf.split(data):\n",
    "        algo.fit(trainset)\n",
    "        preds = algo.test(testset)\n",
    "        scores.append(mse(preds, verbose=True))\n",
    "    avg_mse = np.mean(scores)\n",
    "    print(\"average mse =\", avg_mse)\n",
    "        \n",
    "nmf_rec()"
   ]
  },
  {
   "cell_type": "markdown",
   "metadata": {},
   "source": [
    "#### KNN"
   ]
  },
  {
   "cell_type": "code",
   "execution_count": 34,
   "metadata": {
    "scrolled": true
   },
   "outputs": [
    {
     "name": "stdout",
     "output_type": "stream",
     "text": [
      "Computing the msd similarity matrix...\n",
      "Done computing similarity matrix.\n",
      "MSE: 0.1982\n",
      "Computing the msd similarity matrix...\n",
      "Done computing similarity matrix.\n",
      "MSE: 0.2005\n",
      "Computing the msd similarity matrix...\n",
      "Done computing similarity matrix.\n",
      "MSE: 0.1859\n",
      "Computing the msd similarity matrix...\n",
      "Done computing similarity matrix.\n",
      "MSE: 0.1850\n",
      "Computing the msd similarity matrix...\n",
      "Done computing similarity matrix.\n",
      "MSE: 0.1828\n",
      "average mse = 0.1904790541420775\n"
     ]
    }
   ],
   "source": [
    "from surprise import KNNBasic\n",
    "\n",
    "def knnbasic_rec():\n",
    "    \n",
    "    reader = Reader(rating_scale=(min(trainRec.rate), max(trainRec.rate)))\n",
    "    data = Dataset.load_from_df(trainRec, reader)\n",
    "    \n",
    "#   cross-validation iterator\n",
    "    kf = KFold(n_splits=5)\n",
    "    algo = KNNBasic()\n",
    "    scores = []\n",
    "    for trainset, testset in kf.split(data):\n",
    "        algo.fit(trainset)\n",
    "        preds = algo.test(testset)\n",
    "        scores.append(mse(preds, verbose=True))\n",
    "    avg_mse = np.mean(scores)\n",
    "    print(\"average mse =\", avg_mse)\n",
    "        \n",
    "knnbasic_rec()"
   ]
  },
  {
   "cell_type": "markdown",
   "metadata": {},
   "source": [
    "<font color=\"royalblue\">\n",
    "\n",
    "### Written Conclusion\n",
    "    \n",
    "Based on the average MSE across 5-fold cross validation, SVD++ has the best performance and will therefore be used to generate results for the test set. \n",
    "    \n",
    "</font>"
   ]
  },
  {
   "cell_type": "markdown",
   "metadata": {},
   "source": [
    "### Generate ratings"
   ]
  },
  {
   "cell_type": "code",
   "execution_count": 35,
   "metadata": {},
   "outputs": [
    {
     "name": "stdout",
     "output_type": "stream",
     "text": [
      "progress: 0.0\n",
      "progress: 0.05209825731329287\n",
      "progress: 0.10419651462658575\n",
      "progress: 0.15629477193987862\n",
      "progress: 0.2083930292531715\n",
      "progress: 0.26049128656646436\n",
      "progress: 0.31258954387975724\n",
      "progress: 0.3646878011930501\n",
      "progress: 0.416786058506343\n",
      "progress: 0.46888431581963586\n",
      "progress: 0.5209825731329287\n",
      "progress: 0.5730808304462216\n",
      "progress: 0.6251790877595145\n",
      "progress: 0.6772773450728073\n",
      "progress: 0.7293756023861002\n",
      "progress: 0.7814738596993931\n",
      "progress: 0.833572117012686\n",
      "progress: 0.8856703743259788\n",
      "progress: 0.9377686316392717\n",
      "progress: 0.9898668889525646\n"
     ]
    }
   ],
   "source": [
    "def best_rec():\n",
    "    reader = Reader(rating_scale=(min(trainRec.rate), max(trainRec.rate)))\n",
    "    data = Dataset.load_from_df(trainRec, reader).build_full_trainset()\n",
    "    algo = SVDpp()\n",
    "    algo.fit(data)\n",
    "    preds_ls = []\n",
    "    index = 0\n",
    "    for i,j in zip(testRec.pid, testRec.iid):\n",
    "        if index%2000 == 0:\n",
    "            print(\"progress:\", index/len(testRec))    \n",
    "        prediction = algo.predict(uid=i,iid =j)[3]\n",
    "        preds_ls.append(prediction)\n",
    "        index += 1\n",
    "    return preds_ls\n",
    "\n",
    "pred_rates = best_rec()"
   ]
  },
  {
   "cell_type": "code",
   "execution_count": 36,
   "metadata": {
    "scrolled": true
   },
   "outputs": [],
   "source": [
    "result_table2 = testRec\n",
    "result_table2[\"rate\"] = pred_rates\n",
    "result_table2.to_csv(\"testRec_new.csv\", index=False) # will change the name later"
   ]
  },
  {
   "cell_type": "code",
   "execution_count": null,
   "metadata": {},
   "outputs": [],
   "source": []
  }
 ],
 "metadata": {
  "kernelspec": {
   "display_name": "Python 3",
   "language": "python",
   "name": "python3"
  },
  "language_info": {
   "codemirror_mode": {
    "name": "ipython",
    "version": 3
   },
   "file_extension": ".py",
   "mimetype": "text/x-python",
   "name": "python",
   "nbconvert_exporter": "python",
   "pygments_lexer": "ipython3",
   "version": "3.7.7"
  },
  "toc": {
   "base_numbering": 1,
   "nav_menu": {},
   "number_sections": true,
   "sideBar": true,
   "skip_h1_title": false,
   "title_cell": "Table of Contents",
   "title_sidebar": "Contents",
   "toc_cell": false,
   "toc_position": {
    "height": "calc(100% - 180px)",
    "left": "10px",
    "top": "150px",
    "width": "358.391px"
   },
   "toc_section_display": true,
   "toc_window_display": true
  }
 },
 "nbformat": 4,
 "nbformat_minor": 4
}
