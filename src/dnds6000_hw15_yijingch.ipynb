{
 "cells": [
  {
   "cell_type": "code",
   "execution_count": 1,
   "metadata": {},
   "outputs": [],
   "source": [
    "import pandas as pd\n",
    "import numpy as np\n",
    "import networkx as nx\n",
    "import re\n",
    "import os\n",
    "import matplotlib.pyplot as plt\n",
    "from collections import Counter\n",
    "import seaborn as sns"
   ]
  },
  {
   "cell_type": "code",
   "execution_count": 2,
   "metadata": {},
   "outputs": [],
   "source": [
    "# load network\n",
    "airport = pd.read_csv(\"http://opsahl.co.uk/tnet/datasets/USairport500.txt\", sep=\"\\s+\", header=None)\n",
    "g = nx.Graph()\n",
    "g.add_edges_from([(x[0], x[1], {\"weight\": x[2]}) for _, x in airport.iterrows()])"
   ]
  },
  {
   "cell_type": "code",
   "execution_count": 6,
   "metadata": {},
   "outputs": [
    {
     "data": {
      "image/png": "[encoded data removed]",
      "text/plain": [
       "<Figure size 432x288 with 1 Axes>"
      ]
     },
     "metadata": {
      "needs_background": "light"
     },
     "output_type": "display_data"
    }
   ],
   "source": [
    "# degree distribution\n",
    "degrees = [d for n,d in g.degree()]\n",
    "plt.hist(degrees, color=\"b\", bins=50)\n",
    "plt.yscale(\"log\")\n",
    "plt.xlabel(\"degree\", fontsize=12)\n",
    "plt.ylabel(\"counts\", fontsize=12)\n",
    "plt.xscale(\"log\")\n",
    "plt.show()\n",
    "\n",
    "# or use the nx module\n",
    "# y = nx.degree_histogram(g)\n",
    "# x = range(len(y))\n",
    "# plt.loglog(x,y, \"b-\") \n",
    "# plt.xlabel(\"degree\")\n",
    "# plt.ylabel(\"counts\")\n",
    "# plt.show()"
   ]
  },
  {
   "cell_type": "code",
   "execution_count": 11,
   "metadata": {},
   "outputs": [
    {
     "data": {
      "image/png": "[encoded data removed]",
      "text/plain": [
       "<Figure size 432x288 with 1 Axes>"
      ]
     },
     "metadata": {
      "needs_background": "light"
     },
     "output_type": "display_data"
    }
   ],
   "source": [
    "# weight distribution\n",
    "plt.hist(airport[2], color=\"b\", bins=50)\n",
    "plt.yscale(\"log\")\n",
    "# plt.xscale(\"log\")\n",
    "plt.xlabel(\"weights\", fontsize=12)\n",
    "plt.ylabel(\"counts\", fontsize=12)\n",
    "plt.show()"
   ]
  },
  {
   "cell_type": "code",
   "execution_count": 9,
   "metadata": {},
   "outputs": [
    {
     "data": {
      "image/png": "[encoded data removed]",
      "text/plain": [
       "<Figure size 432x288 with 1 Axes>"
      ]
     },
     "metadata": {
      "needs_background": "light"
     },
     "output_type": "display_data"
    }
   ],
   "source": [
    "# strength distribution\n",
    "degrees = [d for n,d in g.degree(weight=\"weight\")]\n",
    "plt.hist(degrees, color=\"b\")\n",
    "plt.yscale(\"log\")\n",
    "# plt.xscale(\"log\")\n",
    "plt.xlabel(\"strength\", fontsize=12)\n",
    "plt.ylabel(\"counts\", fontsize=12)\n",
    "plt.show()"
   ]
  },
  {
   "cell_type": "code",
   "execution_count": null,
   "metadata": {},
   "outputs": [],
   "source": []
  }
 ],
 "metadata": {
  "kernelspec": {
   "display_name": "Python 3",
   "language": "python",
   "name": "python3"
  },
  "language_info": {
   "codemirror_mode": {
    "name": "ipython",
    "version": 3
   },
   "file_extension": ".py",
   "mimetype": "text/x-python",
   "name": "python",
   "nbconvert_exporter": "python",
   "pygments_lexer": "ipython3",
   "version": "3.7.7"
  },
  "toc": {
   "base_numbering": 1,
   "nav_menu": {},
   "number_sections": true,
   "sideBar": true,
   "skip_h1_title": false,
   "title_cell": "Table of Contents",
   "title_sidebar": "Contents",
   "toc_cell": false,
   "toc_position": {},
   "toc_section_display": true,
   "toc_window_display": false
  }
 },
 "nbformat": 4,
 "nbformat_minor": 4
}
